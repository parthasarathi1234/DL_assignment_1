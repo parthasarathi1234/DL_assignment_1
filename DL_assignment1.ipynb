{
  "nbformat": 4,
  "nbformat_minor": 0,
  "metadata": {
    "colab": {
      "provenance": [],
      "collapsed_sections": [
        "dqykn9Hkcot5",
        "6TEhfrhsuLhI",
        "MKMnVpa_kpLf"
      ],
      "mount_file_id": "1ECsNqilPtDFQKYYhSdFApjVx_DklrB5i",
      "authorship_tag": "ABX9TyNbKhcPGhq9Qb7Ekgpy8ptf",
      "include_colab_link": true
    },
    "kernelspec": {
      "name": "python3",
      "display_name": "Python 3"
    },
    "language_info": {
      "name": "python"
    },
    "widgets": {
      "application/vnd.jupyter.widget-state+json": {
        "a70a244dee4846889a7a6bd3213e5ac5": {
          "model_module": "@jupyter-widgets/controls",
          "model_name": "VBoxModel",
          "model_module_version": "1.5.0",
          "state": {
            "_dom_classes": [],
            "_model_module": "@jupyter-widgets/controls",
            "_model_module_version": "1.5.0",
            "_model_name": "VBoxModel",
            "_view_count": null,
            "_view_module": "@jupyter-widgets/controls",
            "_view_module_version": "1.5.0",
            "_view_name": "VBoxView",
            "box_style": "",
            "children": [
              "IPY_MODEL_c830c6f5c2844a42bcf509837170cd8b",
              "IPY_MODEL_80293c5b5fdd4ac4bfb85f44044d25c7"
            ],
            "layout": "IPY_MODEL_6092c012e5754f1792421b3eeb1d5a4f"
          }
        },
        "c830c6f5c2844a42bcf509837170cd8b": {
          "model_module": "@jupyter-widgets/controls",
          "model_name": "LabelModel",
          "model_module_version": "1.5.0",
          "state": {
            "_dom_classes": [],
            "_model_module": "@jupyter-widgets/controls",
            "_model_module_version": "1.5.0",
            "_model_name": "LabelModel",
            "_view_count": null,
            "_view_module": "@jupyter-widgets/controls",
            "_view_module_version": "1.5.0",
            "_view_name": "LabelView",
            "description": "",
            "description_tooltip": null,
            "layout": "IPY_MODEL_7385d618966a45c3bcf3933eadaf4d27",
            "placeholder": "​",
            "style": "IPY_MODEL_04c259a4e60846dd8a8f069f00e27c00",
            "value": "0.011 MB of 0.011 MB uploaded\r"
          }
        },
        "80293c5b5fdd4ac4bfb85f44044d25c7": {
          "model_module": "@jupyter-widgets/controls",
          "model_name": "FloatProgressModel",
          "model_module_version": "1.5.0",
          "state": {
            "_dom_classes": [],
            "_model_module": "@jupyter-widgets/controls",
            "_model_module_version": "1.5.0",
            "_model_name": "FloatProgressModel",
            "_view_count": null,
            "_view_module": "@jupyter-widgets/controls",
            "_view_module_version": "1.5.0",
            "_view_name": "ProgressView",
            "bar_style": "",
            "description": "",
            "description_tooltip": null,
            "layout": "IPY_MODEL_b9af0beda32944e397f7530eb173d6bd",
            "max": 1,
            "min": 0,
            "orientation": "horizontal",
            "style": "IPY_MODEL_62b1009f9dd049f5ac7c824d9cd1fdcf",
            "value": 1
          }
        },
        "6092c012e5754f1792421b3eeb1d5a4f": {
          "model_module": "@jupyter-widgets/base",
          "model_name": "LayoutModel",
          "model_module_version": "1.2.0",
          "state": {
            "_model_module": "@jupyter-widgets/base",
            "_model_module_version": "1.2.0",
            "_model_name": "LayoutModel",
            "_view_count": null,
            "_view_module": "@jupyter-widgets/base",
            "_view_module_version": "1.2.0",
            "_view_name": "LayoutView",
            "align_content": null,
            "align_items": null,
            "align_self": null,
            "border": null,
            "bottom": null,
            "display": null,
            "flex": null,
            "flex_flow": null,
            "grid_area": null,
            "grid_auto_columns": null,
            "grid_auto_flow": null,
            "grid_auto_rows": null,
            "grid_column": null,
            "grid_gap": null,
            "grid_row": null,
            "grid_template_areas": null,
            "grid_template_columns": null,
            "grid_template_rows": null,
            "height": null,
            "justify_content": null,
            "justify_items": null,
            "left": null,
            "margin": null,
            "max_height": null,
            "max_width": null,
            "min_height": null,
            "min_width": null,
            "object_fit": null,
            "object_position": null,
            "order": null,
            "overflow": null,
            "overflow_x": null,
            "overflow_y": null,
            "padding": null,
            "right": null,
            "top": null,
            "visibility": null,
            "width": null
          }
        },
        "7385d618966a45c3bcf3933eadaf4d27": {
          "model_module": "@jupyter-widgets/base",
          "model_name": "LayoutModel",
          "model_module_version": "1.2.0",
          "state": {
            "_model_module": "@jupyter-widgets/base",
            "_model_module_version": "1.2.0",
            "_model_name": "LayoutModel",
            "_view_count": null,
            "_view_module": "@jupyter-widgets/base",
            "_view_module_version": "1.2.0",
            "_view_name": "LayoutView",
            "align_content": null,
            "align_items": null,
            "align_self": null,
            "border": null,
            "bottom": null,
            "display": null,
            "flex": null,
            "flex_flow": null,
            "grid_area": null,
            "grid_auto_columns": null,
            "grid_auto_flow": null,
            "grid_auto_rows": null,
            "grid_column": null,
            "grid_gap": null,
            "grid_row": null,
            "grid_template_areas": null,
            "grid_template_columns": null,
            "grid_template_rows": null,
            "height": null,
            "justify_content": null,
            "justify_items": null,
            "left": null,
            "margin": null,
            "max_height": null,
            "max_width": null,
            "min_height": null,
            "min_width": null,
            "object_fit": null,
            "object_position": null,
            "order": null,
            "overflow": null,
            "overflow_x": null,
            "overflow_y": null,
            "padding": null,
            "right": null,
            "top": null,
            "visibility": null,
            "width": null
          }
        },
        "04c259a4e60846dd8a8f069f00e27c00": {
          "model_module": "@jupyter-widgets/controls",
          "model_name": "DescriptionStyleModel",
          "model_module_version": "1.5.0",
          "state": {
            "_model_module": "@jupyter-widgets/controls",
            "_model_module_version": "1.5.0",
            "_model_name": "DescriptionStyleModel",
            "_view_count": null,
            "_view_module": "@jupyter-widgets/base",
            "_view_module_version": "1.2.0",
            "_view_name": "StyleView",
            "description_width": ""
          }
        },
        "b9af0beda32944e397f7530eb173d6bd": {
          "model_module": "@jupyter-widgets/base",
          "model_name": "LayoutModel",
          "model_module_version": "1.2.0",
          "state": {
            "_model_module": "@jupyter-widgets/base",
            "_model_module_version": "1.2.0",
            "_model_name": "LayoutModel",
            "_view_count": null,
            "_view_module": "@jupyter-widgets/base",
            "_view_module_version": "1.2.0",
            "_view_name": "LayoutView",
            "align_content": null,
            "align_items": null,
            "align_self": null,
            "border": null,
            "bottom": null,
            "display": null,
            "flex": null,
            "flex_flow": null,
            "grid_area": null,
            "grid_auto_columns": null,
            "grid_auto_flow": null,
            "grid_auto_rows": null,
            "grid_column": null,
            "grid_gap": null,
            "grid_row": null,
            "grid_template_areas": null,
            "grid_template_columns": null,
            "grid_template_rows": null,
            "height": null,
            "justify_content": null,
            "justify_items": null,
            "left": null,
            "margin": null,
            "max_height": null,
            "max_width": null,
            "min_height": null,
            "min_width": null,
            "object_fit": null,
            "object_position": null,
            "order": null,
            "overflow": null,
            "overflow_x": null,
            "overflow_y": null,
            "padding": null,
            "right": null,
            "top": null,
            "visibility": null,
            "width": null
          }
        },
        "62b1009f9dd049f5ac7c824d9cd1fdcf": {
          "model_module": "@jupyter-widgets/controls",
          "model_name": "ProgressStyleModel",
          "model_module_version": "1.5.0",
          "state": {
            "_model_module": "@jupyter-widgets/controls",
            "_model_module_version": "1.5.0",
            "_model_name": "ProgressStyleModel",
            "_view_count": null,
            "_view_module": "@jupyter-widgets/base",
            "_view_module_version": "1.2.0",
            "_view_name": "StyleView",
            "bar_color": null,
            "description_width": ""
          }
        },
        "534ac65b594140dd8d6fa0e277829c36": {
          "model_module": "@jupyter-widgets/controls",
          "model_name": "VBoxModel",
          "model_module_version": "1.5.0",
          "state": {
            "_dom_classes": [],
            "_model_module": "@jupyter-widgets/controls",
            "_model_module_version": "1.5.0",
            "_model_name": "VBoxModel",
            "_view_count": null,
            "_view_module": "@jupyter-widgets/controls",
            "_view_module_version": "1.5.0",
            "_view_name": "VBoxView",
            "box_style": "",
            "children": [
              "IPY_MODEL_05cf8a68feb140699aa558888597e939",
              "IPY_MODEL_cdf6fa1aefba46a2b3f9607d931b5e06"
            ],
            "layout": "IPY_MODEL_53d85c8b6ba74902b794d9bc43b57066"
          }
        },
        "05cf8a68feb140699aa558888597e939": {
          "model_module": "@jupyter-widgets/controls",
          "model_name": "LabelModel",
          "model_module_version": "1.5.0",
          "state": {
            "_dom_classes": [],
            "_model_module": "@jupyter-widgets/controls",
            "_model_module_version": "1.5.0",
            "_model_name": "LabelModel",
            "_view_count": null,
            "_view_module": "@jupyter-widgets/controls",
            "_view_module_version": "1.5.0",
            "_view_name": "LabelView",
            "description": "",
            "description_tooltip": null,
            "layout": "IPY_MODEL_7b1e8e7cbc95466e8c654aebaa6c427e",
            "placeholder": "​",
            "style": "IPY_MODEL_e8d76208acf648a2892cfd1f270c72a6",
            "value": "0.012 MB of 0.012 MB uploaded\r"
          }
        },
        "cdf6fa1aefba46a2b3f9607d931b5e06": {
          "model_module": "@jupyter-widgets/controls",
          "model_name": "FloatProgressModel",
          "model_module_version": "1.5.0",
          "state": {
            "_dom_classes": [],
            "_model_module": "@jupyter-widgets/controls",
            "_model_module_version": "1.5.0",
            "_model_name": "FloatProgressModel",
            "_view_count": null,
            "_view_module": "@jupyter-widgets/controls",
            "_view_module_version": "1.5.0",
            "_view_name": "ProgressView",
            "bar_style": "",
            "description": "",
            "description_tooltip": null,
            "layout": "IPY_MODEL_081220da7e294163b06df166dbfff198",
            "max": 1,
            "min": 0,
            "orientation": "horizontal",
            "style": "IPY_MODEL_fee41918a7c04904a9424cf89f70cd50",
            "value": 1
          }
        },
        "53d85c8b6ba74902b794d9bc43b57066": {
          "model_module": "@jupyter-widgets/base",
          "model_name": "LayoutModel",
          "model_module_version": "1.2.0",
          "state": {
            "_model_module": "@jupyter-widgets/base",
            "_model_module_version": "1.2.0",
            "_model_name": "LayoutModel",
            "_view_count": null,
            "_view_module": "@jupyter-widgets/base",
            "_view_module_version": "1.2.0",
            "_view_name": "LayoutView",
            "align_content": null,
            "align_items": null,
            "align_self": null,
            "border": null,
            "bottom": null,
            "display": null,
            "flex": null,
            "flex_flow": null,
            "grid_area": null,
            "grid_auto_columns": null,
            "grid_auto_flow": null,
            "grid_auto_rows": null,
            "grid_column": null,
            "grid_gap": null,
            "grid_row": null,
            "grid_template_areas": null,
            "grid_template_columns": null,
            "grid_template_rows": null,
            "height": null,
            "justify_content": null,
            "justify_items": null,
            "left": null,
            "margin": null,
            "max_height": null,
            "max_width": null,
            "min_height": null,
            "min_width": null,
            "object_fit": null,
            "object_position": null,
            "order": null,
            "overflow": null,
            "overflow_x": null,
            "overflow_y": null,
            "padding": null,
            "right": null,
            "top": null,
            "visibility": null,
            "width": null
          }
        },
        "7b1e8e7cbc95466e8c654aebaa6c427e": {
          "model_module": "@jupyter-widgets/base",
          "model_name": "LayoutModel",
          "model_module_version": "1.2.0",
          "state": {
            "_model_module": "@jupyter-widgets/base",
            "_model_module_version": "1.2.0",
            "_model_name": "LayoutModel",
            "_view_count": null,
            "_view_module": "@jupyter-widgets/base",
            "_view_module_version": "1.2.0",
            "_view_name": "LayoutView",
            "align_content": null,
            "align_items": null,
            "align_self": null,
            "border": null,
            "bottom": null,
            "display": null,
            "flex": null,
            "flex_flow": null,
            "grid_area": null,
            "grid_auto_columns": null,
            "grid_auto_flow": null,
            "grid_auto_rows": null,
            "grid_column": null,
            "grid_gap": null,
            "grid_row": null,
            "grid_template_areas": null,
            "grid_template_columns": null,
            "grid_template_rows": null,
            "height": null,
            "justify_content": null,
            "justify_items": null,
            "left": null,
            "margin": null,
            "max_height": null,
            "max_width": null,
            "min_height": null,
            "min_width": null,
            "object_fit": null,
            "object_position": null,
            "order": null,
            "overflow": null,
            "overflow_x": null,
            "overflow_y": null,
            "padding": null,
            "right": null,
            "top": null,
            "visibility": null,
            "width": null
          }
        },
        "e8d76208acf648a2892cfd1f270c72a6": {
          "model_module": "@jupyter-widgets/controls",
          "model_name": "DescriptionStyleModel",
          "model_module_version": "1.5.0",
          "state": {
            "_model_module": "@jupyter-widgets/controls",
            "_model_module_version": "1.5.0",
            "_model_name": "DescriptionStyleModel",
            "_view_count": null,
            "_view_module": "@jupyter-widgets/base",
            "_view_module_version": "1.2.0",
            "_view_name": "StyleView",
            "description_width": ""
          }
        },
        "081220da7e294163b06df166dbfff198": {
          "model_module": "@jupyter-widgets/base",
          "model_name": "LayoutModel",
          "model_module_version": "1.2.0",
          "state": {
            "_model_module": "@jupyter-widgets/base",
            "_model_module_version": "1.2.0",
            "_model_name": "LayoutModel",
            "_view_count": null,
            "_view_module": "@jupyter-widgets/base",
            "_view_module_version": "1.2.0",
            "_view_name": "LayoutView",
            "align_content": null,
            "align_items": null,
            "align_self": null,
            "border": null,
            "bottom": null,
            "display": null,
            "flex": null,
            "flex_flow": null,
            "grid_area": null,
            "grid_auto_columns": null,
            "grid_auto_flow": null,
            "grid_auto_rows": null,
            "grid_column": null,
            "grid_gap": null,
            "grid_row": null,
            "grid_template_areas": null,
            "grid_template_columns": null,
            "grid_template_rows": null,
            "height": null,
            "justify_content": null,
            "justify_items": null,
            "left": null,
            "margin": null,
            "max_height": null,
            "max_width": null,
            "min_height": null,
            "min_width": null,
            "object_fit": null,
            "object_position": null,
            "order": null,
            "overflow": null,
            "overflow_x": null,
            "overflow_y": null,
            "padding": null,
            "right": null,
            "top": null,
            "visibility": null,
            "width": null
          }
        },
        "fee41918a7c04904a9424cf89f70cd50": {
          "model_module": "@jupyter-widgets/controls",
          "model_name": "ProgressStyleModel",
          "model_module_version": "1.5.0",
          "state": {
            "_model_module": "@jupyter-widgets/controls",
            "_model_module_version": "1.5.0",
            "_model_name": "ProgressStyleModel",
            "_view_count": null,
            "_view_module": "@jupyter-widgets/base",
            "_view_module_version": "1.2.0",
            "_view_name": "StyleView",
            "bar_color": null,
            "description_width": ""
          }
        },
        "34461815ef6240a7a0cf80967cd164f9": {
          "model_module": "@jupyter-widgets/controls",
          "model_name": "VBoxModel",
          "model_module_version": "1.5.0",
          "state": {
            "_dom_classes": [],
            "_model_module": "@jupyter-widgets/controls",
            "_model_module_version": "1.5.0",
            "_model_name": "VBoxModel",
            "_view_count": null,
            "_view_module": "@jupyter-widgets/controls",
            "_view_module_version": "1.5.0",
            "_view_name": "VBoxView",
            "box_style": "",
            "children": [
              "IPY_MODEL_b7d52131366c4a49a1938098f85baee8",
              "IPY_MODEL_2d05187d09b4435197c39ae6c8d8074b"
            ],
            "layout": "IPY_MODEL_ea66c6e9140147179ddad774ce30d166"
          }
        },
        "b7d52131366c4a49a1938098f85baee8": {
          "model_module": "@jupyter-widgets/controls",
          "model_name": "LabelModel",
          "model_module_version": "1.5.0",
          "state": {
            "_dom_classes": [],
            "_model_module": "@jupyter-widgets/controls",
            "_model_module_version": "1.5.0",
            "_model_name": "LabelModel",
            "_view_count": null,
            "_view_module": "@jupyter-widgets/controls",
            "_view_module_version": "1.5.0",
            "_view_name": "LabelView",
            "description": "",
            "description_tooltip": null,
            "layout": "IPY_MODEL_92af2aa458454b60aed61b79020eb867",
            "placeholder": "​",
            "style": "IPY_MODEL_dc6d1d65b85648249f42f0ec6aaa8018",
            "value": "0.011 MB of 0.011 MB uploaded\r"
          }
        },
        "2d05187d09b4435197c39ae6c8d8074b": {
          "model_module": "@jupyter-widgets/controls",
          "model_name": "FloatProgressModel",
          "model_module_version": "1.5.0",
          "state": {
            "_dom_classes": [],
            "_model_module": "@jupyter-widgets/controls",
            "_model_module_version": "1.5.0",
            "_model_name": "FloatProgressModel",
            "_view_count": null,
            "_view_module": "@jupyter-widgets/controls",
            "_view_module_version": "1.5.0",
            "_view_name": "ProgressView",
            "bar_style": "",
            "description": "",
            "description_tooltip": null,
            "layout": "IPY_MODEL_0f3ca22a704d4b799df83bddb04ecee2",
            "max": 1,
            "min": 0,
            "orientation": "horizontal",
            "style": "IPY_MODEL_39fb3c40d39a490c9bcde2ed043d88cc",
            "value": 1
          }
        },
        "ea66c6e9140147179ddad774ce30d166": {
          "model_module": "@jupyter-widgets/base",
          "model_name": "LayoutModel",
          "model_module_version": "1.2.0",
          "state": {
            "_model_module": "@jupyter-widgets/base",
            "_model_module_version": "1.2.0",
            "_model_name": "LayoutModel",
            "_view_count": null,
            "_view_module": "@jupyter-widgets/base",
            "_view_module_version": "1.2.0",
            "_view_name": "LayoutView",
            "align_content": null,
            "align_items": null,
            "align_self": null,
            "border": null,
            "bottom": null,
            "display": null,
            "flex": null,
            "flex_flow": null,
            "grid_area": null,
            "grid_auto_columns": null,
            "grid_auto_flow": null,
            "grid_auto_rows": null,
            "grid_column": null,
            "grid_gap": null,
            "grid_row": null,
            "grid_template_areas": null,
            "grid_template_columns": null,
            "grid_template_rows": null,
            "height": null,
            "justify_content": null,
            "justify_items": null,
            "left": null,
            "margin": null,
            "max_height": null,
            "max_width": null,
            "min_height": null,
            "min_width": null,
            "object_fit": null,
            "object_position": null,
            "order": null,
            "overflow": null,
            "overflow_x": null,
            "overflow_y": null,
            "padding": null,
            "right": null,
            "top": null,
            "visibility": null,
            "width": null
          }
        },
        "92af2aa458454b60aed61b79020eb867": {
          "model_module": "@jupyter-widgets/base",
          "model_name": "LayoutModel",
          "model_module_version": "1.2.0",
          "state": {
            "_model_module": "@jupyter-widgets/base",
            "_model_module_version": "1.2.0",
            "_model_name": "LayoutModel",
            "_view_count": null,
            "_view_module": "@jupyter-widgets/base",
            "_view_module_version": "1.2.0",
            "_view_name": "LayoutView",
            "align_content": null,
            "align_items": null,
            "align_self": null,
            "border": null,
            "bottom": null,
            "display": null,
            "flex": null,
            "flex_flow": null,
            "grid_area": null,
            "grid_auto_columns": null,
            "grid_auto_flow": null,
            "grid_auto_rows": null,
            "grid_column": null,
            "grid_gap": null,
            "grid_row": null,
            "grid_template_areas": null,
            "grid_template_columns": null,
            "grid_template_rows": null,
            "height": null,
            "justify_content": null,
            "justify_items": null,
            "left": null,
            "margin": null,
            "max_height": null,
            "max_width": null,
            "min_height": null,
            "min_width": null,
            "object_fit": null,
            "object_position": null,
            "order": null,
            "overflow": null,
            "overflow_x": null,
            "overflow_y": null,
            "padding": null,
            "right": null,
            "top": null,
            "visibility": null,
            "width": null
          }
        },
        "dc6d1d65b85648249f42f0ec6aaa8018": {
          "model_module": "@jupyter-widgets/controls",
          "model_name": "DescriptionStyleModel",
          "model_module_version": "1.5.0",
          "state": {
            "_model_module": "@jupyter-widgets/controls",
            "_model_module_version": "1.5.0",
            "_model_name": "DescriptionStyleModel",
            "_view_count": null,
            "_view_module": "@jupyter-widgets/base",
            "_view_module_version": "1.2.0",
            "_view_name": "StyleView",
            "description_width": ""
          }
        },
        "0f3ca22a704d4b799df83bddb04ecee2": {
          "model_module": "@jupyter-widgets/base",
          "model_name": "LayoutModel",
          "model_module_version": "1.2.0",
          "state": {
            "_model_module": "@jupyter-widgets/base",
            "_model_module_version": "1.2.0",
            "_model_name": "LayoutModel",
            "_view_count": null,
            "_view_module": "@jupyter-widgets/base",
            "_view_module_version": "1.2.0",
            "_view_name": "LayoutView",
            "align_content": null,
            "align_items": null,
            "align_self": null,
            "border": null,
            "bottom": null,
            "display": null,
            "flex": null,
            "flex_flow": null,
            "grid_area": null,
            "grid_auto_columns": null,
            "grid_auto_flow": null,
            "grid_auto_rows": null,
            "grid_column": null,
            "grid_gap": null,
            "grid_row": null,
            "grid_template_areas": null,
            "grid_template_columns": null,
            "grid_template_rows": null,
            "height": null,
            "justify_content": null,
            "justify_items": null,
            "left": null,
            "margin": null,
            "max_height": null,
            "max_width": null,
            "min_height": null,
            "min_width": null,
            "object_fit": null,
            "object_position": null,
            "order": null,
            "overflow": null,
            "overflow_x": null,
            "overflow_y": null,
            "padding": null,
            "right": null,
            "top": null,
            "visibility": null,
            "width": null
          }
        },
        "39fb3c40d39a490c9bcde2ed043d88cc": {
          "model_module": "@jupyter-widgets/controls",
          "model_name": "ProgressStyleModel",
          "model_module_version": "1.5.0",
          "state": {
            "_model_module": "@jupyter-widgets/controls",
            "_model_module_version": "1.5.0",
            "_model_name": "ProgressStyleModel",
            "_view_count": null,
            "_view_module": "@jupyter-widgets/base",
            "_view_module_version": "1.2.0",
            "_view_name": "StyleView",
            "bar_color": null,
            "description_width": ""
          }
        },
        "4df35c26c7004033807c63687e6216ec": {
          "model_module": "@jupyter-widgets/controls",
          "model_name": "VBoxModel",
          "model_module_version": "1.5.0",
          "state": {
            "_dom_classes": [],
            "_model_module": "@jupyter-widgets/controls",
            "_model_module_version": "1.5.0",
            "_model_name": "VBoxModel",
            "_view_count": null,
            "_view_module": "@jupyter-widgets/controls",
            "_view_module_version": "1.5.0",
            "_view_name": "VBoxView",
            "box_style": "",
            "children": [
              "IPY_MODEL_38273bc71e144bdd9a57ba3b2e6790c8",
              "IPY_MODEL_14c66452228942a293554f762340ba0a"
            ],
            "layout": "IPY_MODEL_f9e1e61d70e144cea73034c94241a709"
          }
        },
        "38273bc71e144bdd9a57ba3b2e6790c8": {
          "model_module": "@jupyter-widgets/controls",
          "model_name": "LabelModel",
          "model_module_version": "1.5.0",
          "state": {
            "_dom_classes": [],
            "_model_module": "@jupyter-widgets/controls",
            "_model_module_version": "1.5.0",
            "_model_name": "LabelModel",
            "_view_count": null,
            "_view_module": "@jupyter-widgets/controls",
            "_view_module_version": "1.5.0",
            "_view_name": "LabelView",
            "description": "",
            "description_tooltip": null,
            "layout": "IPY_MODEL_67bc7e22f9d842d7aecb50b006c112ec",
            "placeholder": "​",
            "style": "IPY_MODEL_e877aa04c6114892961ec9d96c0f3be0",
            "value": "0.012 MB of 0.012 MB uploaded\r"
          }
        },
        "14c66452228942a293554f762340ba0a": {
          "model_module": "@jupyter-widgets/controls",
          "model_name": "FloatProgressModel",
          "model_module_version": "1.5.0",
          "state": {
            "_dom_classes": [],
            "_model_module": "@jupyter-widgets/controls",
            "_model_module_version": "1.5.0",
            "_model_name": "FloatProgressModel",
            "_view_count": null,
            "_view_module": "@jupyter-widgets/controls",
            "_view_module_version": "1.5.0",
            "_view_name": "ProgressView",
            "bar_style": "",
            "description": "",
            "description_tooltip": null,
            "layout": "IPY_MODEL_ef26da271f23497088ed163f3dc6b753",
            "max": 1,
            "min": 0,
            "orientation": "horizontal",
            "style": "IPY_MODEL_67581127d5894814be092dc261e6cb62",
            "value": 1
          }
        },
        "f9e1e61d70e144cea73034c94241a709": {
          "model_module": "@jupyter-widgets/base",
          "model_name": "LayoutModel",
          "model_module_version": "1.2.0",
          "state": {
            "_model_module": "@jupyter-widgets/base",
            "_model_module_version": "1.2.0",
            "_model_name": "LayoutModel",
            "_view_count": null,
            "_view_module": "@jupyter-widgets/base",
            "_view_module_version": "1.2.0",
            "_view_name": "LayoutView",
            "align_content": null,
            "align_items": null,
            "align_self": null,
            "border": null,
            "bottom": null,
            "display": null,
            "flex": null,
            "flex_flow": null,
            "grid_area": null,
            "grid_auto_columns": null,
            "grid_auto_flow": null,
            "grid_auto_rows": null,
            "grid_column": null,
            "grid_gap": null,
            "grid_row": null,
            "grid_template_areas": null,
            "grid_template_columns": null,
            "grid_template_rows": null,
            "height": null,
            "justify_content": null,
            "justify_items": null,
            "left": null,
            "margin": null,
            "max_height": null,
            "max_width": null,
            "min_height": null,
            "min_width": null,
            "object_fit": null,
            "object_position": null,
            "order": null,
            "overflow": null,
            "overflow_x": null,
            "overflow_y": null,
            "padding": null,
            "right": null,
            "top": null,
            "visibility": null,
            "width": null
          }
        },
        "67bc7e22f9d842d7aecb50b006c112ec": {
          "model_module": "@jupyter-widgets/base",
          "model_name": "LayoutModel",
          "model_module_version": "1.2.0",
          "state": {
            "_model_module": "@jupyter-widgets/base",
            "_model_module_version": "1.2.0",
            "_model_name": "LayoutModel",
            "_view_count": null,
            "_view_module": "@jupyter-widgets/base",
            "_view_module_version": "1.2.0",
            "_view_name": "LayoutView",
            "align_content": null,
            "align_items": null,
            "align_self": null,
            "border": null,
            "bottom": null,
            "display": null,
            "flex": null,
            "flex_flow": null,
            "grid_area": null,
            "grid_auto_columns": null,
            "grid_auto_flow": null,
            "grid_auto_rows": null,
            "grid_column": null,
            "grid_gap": null,
            "grid_row": null,
            "grid_template_areas": null,
            "grid_template_columns": null,
            "grid_template_rows": null,
            "height": null,
            "justify_content": null,
            "justify_items": null,
            "left": null,
            "margin": null,
            "max_height": null,
            "max_width": null,
            "min_height": null,
            "min_width": null,
            "object_fit": null,
            "object_position": null,
            "order": null,
            "overflow": null,
            "overflow_x": null,
            "overflow_y": null,
            "padding": null,
            "right": null,
            "top": null,
            "visibility": null,
            "width": null
          }
        },
        "e877aa04c6114892961ec9d96c0f3be0": {
          "model_module": "@jupyter-widgets/controls",
          "model_name": "DescriptionStyleModel",
          "model_module_version": "1.5.0",
          "state": {
            "_model_module": "@jupyter-widgets/controls",
            "_model_module_version": "1.5.0",
            "_model_name": "DescriptionStyleModel",
            "_view_count": null,
            "_view_module": "@jupyter-widgets/base",
            "_view_module_version": "1.2.0",
            "_view_name": "StyleView",
            "description_width": ""
          }
        },
        "ef26da271f23497088ed163f3dc6b753": {
          "model_module": "@jupyter-widgets/base",
          "model_name": "LayoutModel",
          "model_module_version": "1.2.0",
          "state": {
            "_model_module": "@jupyter-widgets/base",
            "_model_module_version": "1.2.0",
            "_model_name": "LayoutModel",
            "_view_count": null,
            "_view_module": "@jupyter-widgets/base",
            "_view_module_version": "1.2.0",
            "_view_name": "LayoutView",
            "align_content": null,
            "align_items": null,
            "align_self": null,
            "border": null,
            "bottom": null,
            "display": null,
            "flex": null,
            "flex_flow": null,
            "grid_area": null,
            "grid_auto_columns": null,
            "grid_auto_flow": null,
            "grid_auto_rows": null,
            "grid_column": null,
            "grid_gap": null,
            "grid_row": null,
            "grid_template_areas": null,
            "grid_template_columns": null,
            "grid_template_rows": null,
            "height": null,
            "justify_content": null,
            "justify_items": null,
            "left": null,
            "margin": null,
            "max_height": null,
            "max_width": null,
            "min_height": null,
            "min_width": null,
            "object_fit": null,
            "object_position": null,
            "order": null,
            "overflow": null,
            "overflow_x": null,
            "overflow_y": null,
            "padding": null,
            "right": null,
            "top": null,
            "visibility": null,
            "width": null
          }
        },
        "67581127d5894814be092dc261e6cb62": {
          "model_module": "@jupyter-widgets/controls",
          "model_name": "ProgressStyleModel",
          "model_module_version": "1.5.0",
          "state": {
            "_model_module": "@jupyter-widgets/controls",
            "_model_module_version": "1.5.0",
            "_model_name": "ProgressStyleModel",
            "_view_count": null,
            "_view_module": "@jupyter-widgets/base",
            "_view_module_version": "1.2.0",
            "_view_name": "StyleView",
            "bar_color": null,
            "description_width": ""
          }
        },
        "d659f126ec7d41e89fc27b349cc1a37f": {
          "model_module": "@jupyter-widgets/controls",
          "model_name": "VBoxModel",
          "model_module_version": "1.5.0",
          "state": {
            "_dom_classes": [],
            "_model_module": "@jupyter-widgets/controls",
            "_model_module_version": "1.5.0",
            "_model_name": "VBoxModel",
            "_view_count": null,
            "_view_module": "@jupyter-widgets/controls",
            "_view_module_version": "1.5.0",
            "_view_name": "VBoxView",
            "box_style": "",
            "children": [
              "IPY_MODEL_f52725f893094057a6fbb9671db418c4",
              "IPY_MODEL_42ab7983587e43beb1d0dc32df45b180"
            ],
            "layout": "IPY_MODEL_3d9c749434a84b5082119c94e0212c5e"
          }
        },
        "f52725f893094057a6fbb9671db418c4": {
          "model_module": "@jupyter-widgets/controls",
          "model_name": "LabelModel",
          "model_module_version": "1.5.0",
          "state": {
            "_dom_classes": [],
            "_model_module": "@jupyter-widgets/controls",
            "_model_module_version": "1.5.0",
            "_model_name": "LabelModel",
            "_view_count": null,
            "_view_module": "@jupyter-widgets/controls",
            "_view_module_version": "1.5.0",
            "_view_name": "LabelView",
            "description": "",
            "description_tooltip": null,
            "layout": "IPY_MODEL_2f9dc13439b6496ca6c38b8e45f8afd8",
            "placeholder": "​",
            "style": "IPY_MODEL_543348e6832d4660a04fea853f8e4e25",
            "value": "0.011 MB of 0.011 MB uploaded\r"
          }
        },
        "42ab7983587e43beb1d0dc32df45b180": {
          "model_module": "@jupyter-widgets/controls",
          "model_name": "FloatProgressModel",
          "model_module_version": "1.5.0",
          "state": {
            "_dom_classes": [],
            "_model_module": "@jupyter-widgets/controls",
            "_model_module_version": "1.5.0",
            "_model_name": "FloatProgressModel",
            "_view_count": null,
            "_view_module": "@jupyter-widgets/controls",
            "_view_module_version": "1.5.0",
            "_view_name": "ProgressView",
            "bar_style": "",
            "description": "",
            "description_tooltip": null,
            "layout": "IPY_MODEL_2bf8a24e5cde4f9c9bac1ea92337e66e",
            "max": 1,
            "min": 0,
            "orientation": "horizontal",
            "style": "IPY_MODEL_0f52bb00b97841c587eebe0b1fedf8a1",
            "value": 1
          }
        },
        "3d9c749434a84b5082119c94e0212c5e": {
          "model_module": "@jupyter-widgets/base",
          "model_name": "LayoutModel",
          "model_module_version": "1.2.0",
          "state": {
            "_model_module": "@jupyter-widgets/base",
            "_model_module_version": "1.2.0",
            "_model_name": "LayoutModel",
            "_view_count": null,
            "_view_module": "@jupyter-widgets/base",
            "_view_module_version": "1.2.0",
            "_view_name": "LayoutView",
            "align_content": null,
            "align_items": null,
            "align_self": null,
            "border": null,
            "bottom": null,
            "display": null,
            "flex": null,
            "flex_flow": null,
            "grid_area": null,
            "grid_auto_columns": null,
            "grid_auto_flow": null,
            "grid_auto_rows": null,
            "grid_column": null,
            "grid_gap": null,
            "grid_row": null,
            "grid_template_areas": null,
            "grid_template_columns": null,
            "grid_template_rows": null,
            "height": null,
            "justify_content": null,
            "justify_items": null,
            "left": null,
            "margin": null,
            "max_height": null,
            "max_width": null,
            "min_height": null,
            "min_width": null,
            "object_fit": null,
            "object_position": null,
            "order": null,
            "overflow": null,
            "overflow_x": null,
            "overflow_y": null,
            "padding": null,
            "right": null,
            "top": null,
            "visibility": null,
            "width": null
          }
        },
        "2f9dc13439b6496ca6c38b8e45f8afd8": {
          "model_module": "@jupyter-widgets/base",
          "model_name": "LayoutModel",
          "model_module_version": "1.2.0",
          "state": {
            "_model_module": "@jupyter-widgets/base",
            "_model_module_version": "1.2.0",
            "_model_name": "LayoutModel",
            "_view_count": null,
            "_view_module": "@jupyter-widgets/base",
            "_view_module_version": "1.2.0",
            "_view_name": "LayoutView",
            "align_content": null,
            "align_items": null,
            "align_self": null,
            "border": null,
            "bottom": null,
            "display": null,
            "flex": null,
            "flex_flow": null,
            "grid_area": null,
            "grid_auto_columns": null,
            "grid_auto_flow": null,
            "grid_auto_rows": null,
            "grid_column": null,
            "grid_gap": null,
            "grid_row": null,
            "grid_template_areas": null,
            "grid_template_columns": null,
            "grid_template_rows": null,
            "height": null,
            "justify_content": null,
            "justify_items": null,
            "left": null,
            "margin": null,
            "max_height": null,
            "max_width": null,
            "min_height": null,
            "min_width": null,
            "object_fit": null,
            "object_position": null,
            "order": null,
            "overflow": null,
            "overflow_x": null,
            "overflow_y": null,
            "padding": null,
            "right": null,
            "top": null,
            "visibility": null,
            "width": null
          }
        },
        "543348e6832d4660a04fea853f8e4e25": {
          "model_module": "@jupyter-widgets/controls",
          "model_name": "DescriptionStyleModel",
          "model_module_version": "1.5.0",
          "state": {
            "_model_module": "@jupyter-widgets/controls",
            "_model_module_version": "1.5.0",
            "_model_name": "DescriptionStyleModel",
            "_view_count": null,
            "_view_module": "@jupyter-widgets/base",
            "_view_module_version": "1.2.0",
            "_view_name": "StyleView",
            "description_width": ""
          }
        },
        "2bf8a24e5cde4f9c9bac1ea92337e66e": {
          "model_module": "@jupyter-widgets/base",
          "model_name": "LayoutModel",
          "model_module_version": "1.2.0",
          "state": {
            "_model_module": "@jupyter-widgets/base",
            "_model_module_version": "1.2.0",
            "_model_name": "LayoutModel",
            "_view_count": null,
            "_view_module": "@jupyter-widgets/base",
            "_view_module_version": "1.2.0",
            "_view_name": "LayoutView",
            "align_content": null,
            "align_items": null,
            "align_self": null,
            "border": null,
            "bottom": null,
            "display": null,
            "flex": null,
            "flex_flow": null,
            "grid_area": null,
            "grid_auto_columns": null,
            "grid_auto_flow": null,
            "grid_auto_rows": null,
            "grid_column": null,
            "grid_gap": null,
            "grid_row": null,
            "grid_template_areas": null,
            "grid_template_columns": null,
            "grid_template_rows": null,
            "height": null,
            "justify_content": null,
            "justify_items": null,
            "left": null,
            "margin": null,
            "max_height": null,
            "max_width": null,
            "min_height": null,
            "min_width": null,
            "object_fit": null,
            "object_position": null,
            "order": null,
            "overflow": null,
            "overflow_x": null,
            "overflow_y": null,
            "padding": null,
            "right": null,
            "top": null,
            "visibility": null,
            "width": null
          }
        },
        "0f52bb00b97841c587eebe0b1fedf8a1": {
          "model_module": "@jupyter-widgets/controls",
          "model_name": "ProgressStyleModel",
          "model_module_version": "1.5.0",
          "state": {
            "_model_module": "@jupyter-widgets/controls",
            "_model_module_version": "1.5.0",
            "_model_name": "ProgressStyleModel",
            "_view_count": null,
            "_view_module": "@jupyter-widgets/base",
            "_view_module_version": "1.2.0",
            "_view_name": "StyleView",
            "bar_color": null,
            "description_width": ""
          }
        },
        "0f64f2061cfd4b599fe68908f0c10381": {
          "model_module": "@jupyter-widgets/controls",
          "model_name": "VBoxModel",
          "model_module_version": "1.5.0",
          "state": {
            "_dom_classes": [],
            "_model_module": "@jupyter-widgets/controls",
            "_model_module_version": "1.5.0",
            "_model_name": "VBoxModel",
            "_view_count": null,
            "_view_module": "@jupyter-widgets/controls",
            "_view_module_version": "1.5.0",
            "_view_name": "VBoxView",
            "box_style": "",
            "children": [
              "IPY_MODEL_a70e2fdac5774af5a93004fa6820012a",
              "IPY_MODEL_cec18dc83a12462b83e095b9fbee5712"
            ],
            "layout": "IPY_MODEL_36ca28929c9f468f86e9a16f3ebc80a2"
          }
        },
        "a70e2fdac5774af5a93004fa6820012a": {
          "model_module": "@jupyter-widgets/controls",
          "model_name": "LabelModel",
          "model_module_version": "1.5.0",
          "state": {
            "_dom_classes": [],
            "_model_module": "@jupyter-widgets/controls",
            "_model_module_version": "1.5.0",
            "_model_name": "LabelModel",
            "_view_count": null,
            "_view_module": "@jupyter-widgets/controls",
            "_view_module_version": "1.5.0",
            "_view_name": "LabelView",
            "description": "",
            "description_tooltip": null,
            "layout": "IPY_MODEL_753f1fd64f5e4d02b37f4e0ad8e77561",
            "placeholder": "​",
            "style": "IPY_MODEL_7b2177c9b9f842ff8c0687b6d265116d",
            "value": "0.012 MB of 0.012 MB uploaded\r"
          }
        },
        "cec18dc83a12462b83e095b9fbee5712": {
          "model_module": "@jupyter-widgets/controls",
          "model_name": "FloatProgressModel",
          "model_module_version": "1.5.0",
          "state": {
            "_dom_classes": [],
            "_model_module": "@jupyter-widgets/controls",
            "_model_module_version": "1.5.0",
            "_model_name": "FloatProgressModel",
            "_view_count": null,
            "_view_module": "@jupyter-widgets/controls",
            "_view_module_version": "1.5.0",
            "_view_name": "ProgressView",
            "bar_style": "",
            "description": "",
            "description_tooltip": null,
            "layout": "IPY_MODEL_fde13b4c9e31410e896df67bdc71a792",
            "max": 1,
            "min": 0,
            "orientation": "horizontal",
            "style": "IPY_MODEL_27852c5ef65c4a2492692e134209555a",
            "value": 1
          }
        },
        "36ca28929c9f468f86e9a16f3ebc80a2": {
          "model_module": "@jupyter-widgets/base",
          "model_name": "LayoutModel",
          "model_module_version": "1.2.0",
          "state": {
            "_model_module": "@jupyter-widgets/base",
            "_model_module_version": "1.2.0",
            "_model_name": "LayoutModel",
            "_view_count": null,
            "_view_module": "@jupyter-widgets/base",
            "_view_module_version": "1.2.0",
            "_view_name": "LayoutView",
            "align_content": null,
            "align_items": null,
            "align_self": null,
            "border": null,
            "bottom": null,
            "display": null,
            "flex": null,
            "flex_flow": null,
            "grid_area": null,
            "grid_auto_columns": null,
            "grid_auto_flow": null,
            "grid_auto_rows": null,
            "grid_column": null,
            "grid_gap": null,
            "grid_row": null,
            "grid_template_areas": null,
            "grid_template_columns": null,
            "grid_template_rows": null,
            "height": null,
            "justify_content": null,
            "justify_items": null,
            "left": null,
            "margin": null,
            "max_height": null,
            "max_width": null,
            "min_height": null,
            "min_width": null,
            "object_fit": null,
            "object_position": null,
            "order": null,
            "overflow": null,
            "overflow_x": null,
            "overflow_y": null,
            "padding": null,
            "right": null,
            "top": null,
            "visibility": null,
            "width": null
          }
        },
        "753f1fd64f5e4d02b37f4e0ad8e77561": {
          "model_module": "@jupyter-widgets/base",
          "model_name": "LayoutModel",
          "model_module_version": "1.2.0",
          "state": {
            "_model_module": "@jupyter-widgets/base",
            "_model_module_version": "1.2.0",
            "_model_name": "LayoutModel",
            "_view_count": null,
            "_view_module": "@jupyter-widgets/base",
            "_view_module_version": "1.2.0",
            "_view_name": "LayoutView",
            "align_content": null,
            "align_items": null,
            "align_self": null,
            "border": null,
            "bottom": null,
            "display": null,
            "flex": null,
            "flex_flow": null,
            "grid_area": null,
            "grid_auto_columns": null,
            "grid_auto_flow": null,
            "grid_auto_rows": null,
            "grid_column": null,
            "grid_gap": null,
            "grid_row": null,
            "grid_template_areas": null,
            "grid_template_columns": null,
            "grid_template_rows": null,
            "height": null,
            "justify_content": null,
            "justify_items": null,
            "left": null,
            "margin": null,
            "max_height": null,
            "max_width": null,
            "min_height": null,
            "min_width": null,
            "object_fit": null,
            "object_position": null,
            "order": null,
            "overflow": null,
            "overflow_x": null,
            "overflow_y": null,
            "padding": null,
            "right": null,
            "top": null,
            "visibility": null,
            "width": null
          }
        },
        "7b2177c9b9f842ff8c0687b6d265116d": {
          "model_module": "@jupyter-widgets/controls",
          "model_name": "DescriptionStyleModel",
          "model_module_version": "1.5.0",
          "state": {
            "_model_module": "@jupyter-widgets/controls",
            "_model_module_version": "1.5.0",
            "_model_name": "DescriptionStyleModel",
            "_view_count": null,
            "_view_module": "@jupyter-widgets/base",
            "_view_module_version": "1.2.0",
            "_view_name": "StyleView",
            "description_width": ""
          }
        },
        "fde13b4c9e31410e896df67bdc71a792": {
          "model_module": "@jupyter-widgets/base",
          "model_name": "LayoutModel",
          "model_module_version": "1.2.0",
          "state": {
            "_model_module": "@jupyter-widgets/base",
            "_model_module_version": "1.2.0",
            "_model_name": "LayoutModel",
            "_view_count": null,
            "_view_module": "@jupyter-widgets/base",
            "_view_module_version": "1.2.0",
            "_view_name": "LayoutView",
            "align_content": null,
            "align_items": null,
            "align_self": null,
            "border": null,
            "bottom": null,
            "display": null,
            "flex": null,
            "flex_flow": null,
            "grid_area": null,
            "grid_auto_columns": null,
            "grid_auto_flow": null,
            "grid_auto_rows": null,
            "grid_column": null,
            "grid_gap": null,
            "grid_row": null,
            "grid_template_areas": null,
            "grid_template_columns": null,
            "grid_template_rows": null,
            "height": null,
            "justify_content": null,
            "justify_items": null,
            "left": null,
            "margin": null,
            "max_height": null,
            "max_width": null,
            "min_height": null,
            "min_width": null,
            "object_fit": null,
            "object_position": null,
            "order": null,
            "overflow": null,
            "overflow_x": null,
            "overflow_y": null,
            "padding": null,
            "right": null,
            "top": null,
            "visibility": null,
            "width": null
          }
        },
        "27852c5ef65c4a2492692e134209555a": {
          "model_module": "@jupyter-widgets/controls",
          "model_name": "ProgressStyleModel",
          "model_module_version": "1.5.0",
          "state": {
            "_model_module": "@jupyter-widgets/controls",
            "_model_module_version": "1.5.0",
            "_model_name": "ProgressStyleModel",
            "_view_count": null,
            "_view_module": "@jupyter-widgets/base",
            "_view_module_version": "1.2.0",
            "_view_name": "StyleView",
            "bar_color": null,
            "description_width": ""
          }
        }
      }
    }
  },
  "cells": [
    {
      "cell_type": "markdown",
      "metadata": {
        "id": "view-in-github",
        "colab_type": "text"
      },
      "source": [
        "<a href=\"https://colab.research.google.com/github/parthasarathi1234/DL_assignment_1/blob/main/DL_assignment1.ipynb\" target=\"_parent\"><img src=\"https://colab.research.google.com/assets/colab-badge.svg\" alt=\"Open In Colab\"/></a>"
      ]
    },
    {
      "cell_type": "code",
      "execution_count": 1,
      "metadata": {
        "id": "3IiiF-5w6R0h",
        "colab": {
          "base_uri": "https://localhost:8080/"
        },
        "outputId": "b6db60d2-6809-4164-974a-d6a5166c02bb"
      },
      "outputs": [
        {
          "output_type": "stream",
          "name": "stdout",
          "text": [
            "Downloading data from https://storage.googleapis.com/tensorflow/tf-keras-datasets/train-labels-idx1-ubyte.gz\n",
            "29515/29515 [==============================] - 0s 0us/step\n",
            "Downloading data from https://storage.googleapis.com/tensorflow/tf-keras-datasets/train-images-idx3-ubyte.gz\n",
            "26421880/26421880 [==============================] - 1s 0us/step\n",
            "Downloading data from https://storage.googleapis.com/tensorflow/tf-keras-datasets/t10k-labels-idx1-ubyte.gz\n",
            "5148/5148 [==============================] - 0s 0us/step\n",
            "Downloading data from https://storage.googleapis.com/tensorflow/tf-keras-datasets/t10k-images-idx3-ubyte.gz\n",
            "4422102/4422102 [==============================] - 0s 0us/step\n",
            "(60000, 28, 28) (60000,) (10000, 28, 28) (10000,)\n",
            "(54000, 28, 28) (6000, 28, 28) (54000,) (6000,)\n"
          ]
        }
      ],
      "source": [
        "from keras.datasets import fashion_mnist\n",
        "import matplotlib.pyplot as plt\n",
        "import numpy as np\n",
        "from sklearn.model_selection import train_test_split\n",
        "import seaborn as sn\n",
        "from sklearn.metrics import confusion_matrix\n",
        "(x_train,y_train),(x_test,y_test)=fashion_mnist.load_data();\n",
        "x_train_images, x_validation_images,y_train_labels, y_validation_labels  = train_test_split(x_train,y_train,test_size = 0.1)\n",
        "print(x_train.shape,y_train.shape,x_test.shape,y_test.shape)\n",
        "print(x_train_images.shape,x_validation_images.shape,y_train_labels.shape,y_validation_labels.shape)"
      ]
    },
    {
      "cell_type": "code",
      "source": [
        "# !pip install wandb\n",
        "!pip install -U wandb\n",
        "\n",
        "import wandb\n",
        "from wandb.keras import WandbCallback\n",
        "import socket\n",
        "socket.setdefaulttimeout(30)\n",
        "wandb.login()\n",
        "wandb.init(project=\"cs23m035_DL_Assignment1\")"
      ],
      "metadata": {
        "colab": {
          "base_uri": "https://localhost:8080/",
          "height": 782
        },
        "id": "oSCQyD-2tqOR",
        "outputId": "eb52ae70-fa84-4876-8f14-a4efb489f373"
      },
      "execution_count": 2,
      "outputs": [
        {
          "output_type": "stream",
          "name": "stdout",
          "text": [
            "Collecting wandb\n",
            "  Downloading wandb-0.16.4-py3-none-any.whl (2.2 MB)\n",
            "\u001b[2K     \u001b[90m━━━━━━━━━━━━━━━━━━━━━━━━━━━━━━━━━━━━━━━━\u001b[0m \u001b[32m2.2/2.2 MB\u001b[0m \u001b[31m9.2 MB/s\u001b[0m eta \u001b[36m0:00:00\u001b[0m\n",
            "\u001b[?25hRequirement already satisfied: Click!=8.0.0,>=7.1 in /usr/local/lib/python3.10/dist-packages (from wandb) (8.1.7)\n",
            "Collecting GitPython!=3.1.29,>=1.0.0 (from wandb)\n",
            "  Downloading GitPython-3.1.42-py3-none-any.whl (195 kB)\n",
            "\u001b[2K     \u001b[90m━━━━━━━━━━━━━━━━━━━━━━━━━━━━━━━━━━━━━━━━\u001b[0m \u001b[32m195.4/195.4 kB\u001b[0m \u001b[31m11.1 MB/s\u001b[0m eta \u001b[36m0:00:00\u001b[0m\n",
            "\u001b[?25hRequirement already satisfied: requests<3,>=2.0.0 in /usr/local/lib/python3.10/dist-packages (from wandb) (2.31.0)\n",
            "Requirement already satisfied: psutil>=5.0.0 in /usr/local/lib/python3.10/dist-packages (from wandb) (5.9.5)\n",
            "Collecting sentry-sdk>=1.0.0 (from wandb)\n",
            "  Downloading sentry_sdk-1.43.0-py2.py3-none-any.whl (264 kB)\n",
            "\u001b[2K     \u001b[90m━━━━━━━━━━━━━━━━━━━━━━━━━━━━━━━━━━━━━━━━\u001b[0m \u001b[32m264.6/264.6 kB\u001b[0m \u001b[31m12.0 MB/s\u001b[0m eta \u001b[36m0:00:00\u001b[0m\n",
            "\u001b[?25hCollecting docker-pycreds>=0.4.0 (from wandb)\n",
            "  Downloading docker_pycreds-0.4.0-py2.py3-none-any.whl (9.0 kB)\n",
            "Requirement already satisfied: PyYAML in /usr/local/lib/python3.10/dist-packages (from wandb) (6.0.1)\n",
            "Collecting setproctitle (from wandb)\n",
            "  Downloading setproctitle-1.3.3-cp310-cp310-manylinux_2_5_x86_64.manylinux1_x86_64.manylinux_2_17_x86_64.manylinux2014_x86_64.whl (30 kB)\n",
            "Requirement already satisfied: setuptools in /usr/local/lib/python3.10/dist-packages (from wandb) (67.7.2)\n",
            "Requirement already satisfied: appdirs>=1.4.3 in /usr/local/lib/python3.10/dist-packages (from wandb) (1.4.4)\n",
            "Requirement already satisfied: protobuf!=4.21.0,<5,>=3.19.0 in /usr/local/lib/python3.10/dist-packages (from wandb) (3.20.3)\n",
            "Requirement already satisfied: six>=1.4.0 in /usr/local/lib/python3.10/dist-packages (from docker-pycreds>=0.4.0->wandb) (1.16.0)\n",
            "Collecting gitdb<5,>=4.0.1 (from GitPython!=3.1.29,>=1.0.0->wandb)\n",
            "  Downloading gitdb-4.0.11-py3-none-any.whl (62 kB)\n",
            "\u001b[2K     \u001b[90m━━━━━━━━━━━━━━━━━━━━━━━━━━━━━━━━━━━━━━━━\u001b[0m \u001b[32m62.7/62.7 kB\u001b[0m \u001b[31m5.6 MB/s\u001b[0m eta \u001b[36m0:00:00\u001b[0m\n",
            "\u001b[?25hRequirement already satisfied: charset-normalizer<4,>=2 in /usr/local/lib/python3.10/dist-packages (from requests<3,>=2.0.0->wandb) (3.3.2)\n",
            "Requirement already satisfied: idna<4,>=2.5 in /usr/local/lib/python3.10/dist-packages (from requests<3,>=2.0.0->wandb) (3.6)\n",
            "Requirement already satisfied: urllib3<3,>=1.21.1 in /usr/local/lib/python3.10/dist-packages (from requests<3,>=2.0.0->wandb) (2.0.7)\n",
            "Requirement already satisfied: certifi>=2017.4.17 in /usr/local/lib/python3.10/dist-packages (from requests<3,>=2.0.0->wandb) (2024.2.2)\n",
            "Collecting smmap<6,>=3.0.1 (from gitdb<5,>=4.0.1->GitPython!=3.1.29,>=1.0.0->wandb)\n",
            "  Downloading smmap-5.0.1-py3-none-any.whl (24 kB)\n",
            "Installing collected packages: smmap, setproctitle, sentry-sdk, docker-pycreds, gitdb, GitPython, wandb\n",
            "Successfully installed GitPython-3.1.42 docker-pycreds-0.4.0 gitdb-4.0.11 sentry-sdk-1.43.0 setproctitle-1.3.3 smmap-5.0.1 wandb-0.16.4\n"
          ]
        },
        {
          "output_type": "display_data",
          "data": {
            "text/plain": [
              "<IPython.core.display.Javascript object>"
            ],
            "application/javascript": [
              "\n",
              "        window._wandbApiKey = new Promise((resolve, reject) => {\n",
              "            function loadScript(url) {\n",
              "            return new Promise(function(resolve, reject) {\n",
              "                let newScript = document.createElement(\"script\");\n",
              "                newScript.onerror = reject;\n",
              "                newScript.onload = resolve;\n",
              "                document.body.appendChild(newScript);\n",
              "                newScript.src = url;\n",
              "            });\n",
              "            }\n",
              "            loadScript(\"https://cdn.jsdelivr.net/npm/postmate/build/postmate.min.js\").then(() => {\n",
              "            const iframe = document.createElement('iframe')\n",
              "            iframe.style.cssText = \"width:0;height:0;border:none\"\n",
              "            document.body.appendChild(iframe)\n",
              "            const handshake = new Postmate({\n",
              "                container: iframe,\n",
              "                url: 'https://wandb.ai/authorize'\n",
              "            });\n",
              "            const timeout = setTimeout(() => reject(\"Couldn't auto authenticate\"), 5000)\n",
              "            handshake.then(function(child) {\n",
              "                child.on('authorize', data => {\n",
              "                    clearTimeout(timeout)\n",
              "                    resolve(data)\n",
              "                });\n",
              "            });\n",
              "            })\n",
              "        });\n",
              "    "
            ]
          },
          "metadata": {}
        },
        {
          "output_type": "stream",
          "name": "stderr",
          "text": [
            "\u001b[34m\u001b[1mwandb\u001b[0m: Logging into wandb.ai. (Learn how to deploy a W&B server locally: https://wandb.me/wandb-server)\n",
            "\u001b[34m\u001b[1mwandb\u001b[0m: You can find your API key in your browser here: https://wandb.ai/authorize\n",
            "wandb: Paste an API key from your profile and hit enter, or press ctrl+c to quit:"
          ]
        },
        {
          "name": "stdout",
          "output_type": "stream",
          "text": [
            " ··········\n"
          ]
        },
        {
          "output_type": "stream",
          "name": "stderr",
          "text": [
            "\u001b[34m\u001b[1mwandb\u001b[0m: Appending key for api.wandb.ai to your netrc file: /root/.netrc\n",
            "\u001b[34m\u001b[1mwandb\u001b[0m: Currently logged in as: \u001b[33mcs23m035\u001b[0m. Use \u001b[1m`wandb login --relogin`\u001b[0m to force relogin\n"
          ]
        },
        {
          "output_type": "display_data",
          "data": {
            "text/plain": [
              "<IPython.core.display.HTML object>"
            ],
            "text/html": [
              "Tracking run with wandb version 0.16.4"
            ]
          },
          "metadata": {}
        },
        {
          "output_type": "display_data",
          "data": {
            "text/plain": [
              "<IPython.core.display.HTML object>"
            ],
            "text/html": [
              "Run data is saved locally in <code>/content/wandb/run-20240322_125831-shvbp8ue</code>"
            ]
          },
          "metadata": {}
        },
        {
          "output_type": "display_data",
          "data": {
            "text/plain": [
              "<IPython.core.display.HTML object>"
            ],
            "text/html": [
              "Syncing run <strong><a href='https://wandb.ai/cs23m035/cs23m035_DL_Assignment1/runs/shvbp8ue' target=\"_blank\">rosy-forest-416</a></strong> to <a href='https://wandb.ai/cs23m035/cs23m035_DL_Assignment1' target=\"_blank\">Weights & Biases</a> (<a href='https://wandb.me/run' target=\"_blank\">docs</a>)<br/>"
            ]
          },
          "metadata": {}
        },
        {
          "output_type": "display_data",
          "data": {
            "text/plain": [
              "<IPython.core.display.HTML object>"
            ],
            "text/html": [
              " View project at <a href='https://wandb.ai/cs23m035/cs23m035_DL_Assignment1' target=\"_blank\">https://wandb.ai/cs23m035/cs23m035_DL_Assignment1</a>"
            ]
          },
          "metadata": {}
        },
        {
          "output_type": "display_data",
          "data": {
            "text/plain": [
              "<IPython.core.display.HTML object>"
            ],
            "text/html": [
              " View run at <a href='https://wandb.ai/cs23m035/cs23m035_DL_Assignment1/runs/shvbp8ue' target=\"_blank\">https://wandb.ai/cs23m035/cs23m035_DL_Assignment1/runs/shvbp8ue</a>"
            ]
          },
          "metadata": {}
        },
        {
          "output_type": "execute_result",
          "data": {
            "text/html": [
              "<button onClick=\"this.nextSibling.style.display='block';this.style.display='none';\">Display W&B run</button><iframe src='https://wandb.ai/cs23m035/cs23m035_DL_Assignment1/runs/shvbp8ue?jupyter=true' style='border:none;width:100%;height:420px;display:none;'></iframe>"
            ],
            "text/plain": [
              "<wandb.sdk.wandb_run.Run at 0x7f9e293b42e0>"
            ]
          },
          "metadata": {},
          "execution_count": 2
        }
      ]
    },
    {
      "cell_type": "markdown",
      "source": [
        "#Question1"
      ],
      "metadata": {
        "id": "Up23WKX5nIS2"
      }
    },
    {
      "cell_type": "code",
      "source": [
        "n=0\n",
        "i=0\n",
        "while(n!=10):\n",
        "  if(y_train[i]==n):\n",
        "    plt.subplot(2,5,n+1)\n",
        "    plt.gray()\n",
        "    plt.xticks([])\n",
        "    plt.yticks([])\n",
        "    plt.imshow(x_train[i])\n",
        "    plt.xlabel(y_train[i])\n",
        "    n=n+1\n",
        "  i=i+1\n",
        "\n",
        "plt.savefig('images.png')\n",
        "wandb.log({'image':wandb.Image('images.png')})\n",
        "wandb.log({'plt':plt})\n",
        "plt.show()\n"
      ],
      "metadata": {
        "colab": {
          "base_uri": "https://localhost:8080/",
          "height": 343
        },
        "id": "z7s2J_I47l-3",
        "outputId": "2ebdc281-8de9-4423-a185-34d07da5eb9f"
      },
      "execution_count": 3,
      "outputs": [
        {
          "output_type": "display_data",
          "data": {
            "text/plain": [
              "<Figure size 640x480 with 10 Axes>"
            ],
            "image/png": "[encoded data removed]"
          },
          "metadata": {}
        }
      ]
    },
    {
      "cell_type": "markdown",
      "source": [
        "#Question 2\n"
      ],
      "metadata": {
        "id": "HfWSu8Q-Cmvg"
      }
    },
    {
      "cell_type": "markdown",
      "source": [
        "### weights generation   ,   Activation functions"
      ],
      "metadata": {
        "id": "Zqk2S9SqCpPz"
      }
    },
    {
      "cell_type": "code",
      "source": [
        "def weight(No_of_layers,neurons,weightInit):\n",
        "  weights=[]\n",
        "  bias=[]\n",
        "\n",
        "  if(weightInit=='random'):\n",
        "  # input layer\n",
        "    weights.append(0.01*np.random.randn(neurons,784))\n",
        "    bias.append(0.01*np.random.randn(neurons,1))\n",
        "\n",
        "    # Hidden layer\n",
        "    for i in range(1,No_of_layers):\n",
        "      weights.append(0.01*np.random.randn(neurons,neurons))\n",
        "      bias.append(0.01*np.random.randn(neurons,1))\n",
        "\n",
        "    # output layer\n",
        "    weights.append(0.01*np.random.randn(10,neurons))\n",
        "    bias.append(0.01*np.random.randn(10,1))\n",
        "\n",
        "  elif(weightInit=='xavier'):\n",
        "    # input layer\n",
        "    weights.append(0.01*np.random.randn(neurons,784))\n",
        "    bias.append(np.zeros((neurons,1)))\n",
        "\n",
        "    # Hidden layer\n",
        "    for i in range(1,No_of_layers):\n",
        "      weights.append(0.01*np.random.randn(neurons,neurons))\n",
        "      bias.append(np.zeros((neurons,1)))\n",
        "\n",
        "    # output layer\n",
        "    weights.append(0.01*np.random.randn(10,neurons))\n",
        "    bias.append(np.zeros((10,1)))\n",
        "\n",
        "  else:\n",
        "    weights.append(np.random.randn(neurons,784))\n",
        "    bias.append(np.random.randn(neurons,1))\n",
        "\n",
        "    # Hidden layer\n",
        "    for i in range(1,No_of_layers):\n",
        "      weights.append(np.random.randn(neurons,neurons))\n",
        "      bias.append(np.random.randn(neurons,1))\n",
        "\n",
        "    # output layer\n",
        "    weights.append(0.01*np.random.randn(10,neurons))\n",
        "    bias.append(0.01*np.random.randn(10,1))\n",
        "\n",
        "\n",
        "  return weights,bias\n",
        "\n",
        "\n",
        "\n",
        "def sigmoid(a):\n",
        "  z=np.clip(a,-500, 500)\n",
        "  return 1 / (1 + np.exp(-z))\n",
        "\n",
        "def tanh(a):\n",
        "  z=np.clip(a,-50,50)\n",
        "  return np.tanh(z)\n",
        "\n",
        "def softmax(a):\n",
        "  x=1e-6\n",
        "  return (np.exp(a-max(a))/(sum(np.exp(a-max(a)))+x))\n",
        "\n",
        "def tanh_derivative(z):\n",
        "  return 1-np.tanh(z)**2\n",
        "\n",
        "def relu(Z):\n",
        "    A = np.maximum(0, Z)\n",
        "    return A\n",
        "\n",
        "def relu_derivative(z):\n",
        "  return np.where(z>0,1,0)\n",
        "\n",
        "def sigmoid_derivative(z):\n",
        "    return sigmoid(z) * (1 - sigmoid(z))\n",
        "\n",
        "\n",
        "\n",
        "def  feeb_forward(x,layers,act,wei,b):\n",
        "  pre_activation=[0 for i in range(layers+1)]\n",
        "  activation=[0 for i in range(layers+1)]\n",
        "  z=x.reshape(784,1)/255.0\n",
        "  for i in range(layers+1):\n",
        "    if(i==0):\n",
        "      pre_activation[i]=np.matmul(wei[i],z)+b[i]\n",
        "    elif(i==layers):\n",
        "        pre_activation[i]=b[i]+np.matmul(wei[i],z)\n",
        "        activation[i]=np.copy(softmax(pre_activation[i]))\n",
        "        continue\n",
        "    else:\n",
        "      pre_activation[i]=b[i]+np.matmul(wei[i],z)  # pre activation\n",
        "    if(act==\"sigmoid\"):\n",
        "      z=sigmoid(pre_activation[i])\n",
        "    elif(act==\"tanh\"):\n",
        "      z=tanh(pre_activation[i])\n",
        "    elif(act==\"ReLU\"):\n",
        "      z=relu(pre_activation[i])\n",
        "    else:\n",
        "      z=identity(pre_activation[i])\n",
        "    activation[i]=z\n",
        "  return pre_activation,activation,z\n",
        "\n",
        "def back_propagation(x_t,y_train,z,H,A,layers,W,activation,loss_Fun):\n",
        "  update_x=x_t.reshape(784,1)/255.0\n",
        "  dw=[0 for i in range(layers+1)]\n",
        "  db=[0 for i in range(layers+1)]\n",
        "  y=np.zeros((10,1))\n",
        "  y[y_train]=1\n",
        "  if(loss_Fun=='cross_entropy'):\n",
        "    loss=-(y-H[layers])\n",
        "  else:\n",
        "    loss=(H[layers]-y)*H[layers]*(1-H[layers])\n",
        "  for k in range(len(W)-1,-1,-1):\n",
        "    if(k==0):\n",
        "        dw[0]=np.matmul(loss,update_x.T)\n",
        "        db[0]=np.copy(loss)\n",
        "        continue\n",
        "    dw[k]=np.matmul(loss,(H[k-1].T))\n",
        "    db[k]=np.copy(loss)\n",
        "    loss_dh=np.matmul((W[k].T),loss)\n",
        "    if(activation==\"tanh\"):\n",
        "      x=tanh_derivative(A[k-1])\n",
        "    elif(activation==\"sigmoid\"):\n",
        "      x=sigmoid_derivative(A[k-1])\n",
        "    elif(activation==\"ReLU\"):\n",
        "      x=relu_derivative(A[k-1])\n",
        "    else:\n",
        "      x=identity_derivative(A[k-1])\n",
        "    loss=np.multiply(loss_dh,x)\n",
        "  return dw,db\n",
        "\n",
        "def accuracy(theta_w,theta_b,X,Y,activationfun,layers,loss_Fun):\n",
        "  # print(\"accuracy\")\n",
        "  count=0\n",
        "  loss=0\n",
        "  # print(X.shape)\n",
        "  for train_ima,train_labe in zip(X,Y):\n",
        "    p_act, act, z = feeb_forward(train_ima, layers, activationfun, theta_w, theta_b)\n",
        "    # print(np.argmax(z),np.argmax(act[layers]),end=\",\")\n",
        "    if(np.argmax(act[layers])==train_labe):\n",
        "      count=count+1\n",
        "\n",
        "    if(loss_Fun=='crossEntropy'):\n",
        "      loss+=-np.log(act[layers])[train_labe][0]\n",
        "    else:\n",
        "      loss+=(np.argmax(act[layers]-Y.shape[0])**2)\n",
        "    loss=loss/Y.shape[0]\n",
        "    acc=(count/Y.shape[0])\n",
        "  return acc*100,loss*100\n",
        "\n",
        "def accuracy_confusion(theta_w,theta_b,X,Y,activationfun,layers,loss_Fun,predicted,original):\n",
        "  # print(\"accuracy\")\n",
        "  count=0\n",
        "  loss=0\n",
        "  # print(X.shape)\n",
        "  for train_ima,train_labe in zip(X,Y):\n",
        "    p_act, act, z = feeb_forward(train_ima, layers, activationfun, theta_w, theta_b)\n",
        "    # print(np.argmax(z),np.argmax(act[layers]),end=\",\")\n",
        "    original.append(train_labe)\n",
        "    predicted.append(np.argmax(act[layers]))\n",
        "    if(np.argmax(act[layers])==train_labe):\n",
        "      count=count+1\n",
        "\n",
        "    if(loss_Fun=='crossEntropy'):\n",
        "      loss+=-np.log(act[layers])[train_labe][0]\n",
        "    else:\n",
        "      loss+=(np.argmax(act[layers]-Y.shape[0])**2)\n",
        "    loss=loss/Y.shape[0]\n",
        "    acc=(count/Y.shape[0])\n",
        "  return acc*100,loss*100\n",
        "\n",
        "\n",
        "\n",
        "\n",
        "\n",
        "def stochastic_gradient_descent(epochs,eta,layers,neurons,activation_fun,weightInit,weightDecay,loss_Fun):\n",
        "  W, B = weight(layers,neurons,weightInit)\n",
        "  for i in range(epochs):\n",
        "    dw=[[0 for colu in range(row)] for row in range(len(W))]\n",
        "    db=[[0 for colu in range(row)] for row in range(len(B))]\n",
        "\n",
        "    for train_ima,train_labe in zip(x_train_images,y_train_labels):\n",
        "      A,H,Z=feeb_forward(train_ima,layers,activation_fun,W,B)\n",
        "      current_dw,current_db=back_propagation(train_ima,train_labe,Z,H,A,layers,W,activation_fun,loss_Fun)\n",
        "\n",
        "      for k in range(layers+1):\n",
        "        W[k]=W[k]-eta*current_dw[k]-(weightDecay*W[k])\n",
        "        B[k]=B[k]-eta*current_db[k]\n",
        "\n",
        "    acc,loss=accuracy(W,B,x_train_images,y_train_labels,activation_fun,layers,loss_Fun)\n",
        "    v_acc,v_loss=accuracy(W,B,x_validation_images,y_validation_labels,activation_fun,layers,loss_Fun)\n",
        "    print(\"Accuracy\")\n",
        "    print(acc,loss,v_acc,v_loss)\n",
        "    wandb.log({\"Train_Accuracy\" : acc,\"Train_Loss\" : loss,\"Validation_acc\" : v_acc,\"validation_loss\" : v_loss,'epoch':i})\n",
        "\n",
        "\n",
        "def momentum_gradient_descent(epochs,eta,layers,neurons,activation_fun,batchSize,weightInit,weightDecay,loss_Fun):\n",
        "  beta=0.9\n",
        "  W,B=weight(layers,neurons,weightInit)\n",
        "  pre_v_w=[0 for i in range(layers+1)]\n",
        "  pre_v_b=[0 for i in range(layers+1)]\n",
        "\n",
        "  for i in range(epochs):\n",
        "    batch=1\n",
        "    dw=[0 for i in range(layers+1)]\n",
        "    db=[0 for i in range(layers+1)]\n",
        "    for train_ima,train_labe in zip(x_train_images,y_train_labels):\n",
        "      A,H,Z=feeb_forward(train_ima,layers,activation_fun,W,B)\n",
        "      current_dw, current_db = back_propagation(train_ima,train_labe,Z,H,A,layers,W,activation_fun,loss_Fun)\n",
        "\n",
        "      for k in range(len(W)):\n",
        "        dw[k]+=current_dw[k]\n",
        "        db[k]+=current_db[k]\n",
        "\n",
        "      if(batch%batchSize==0):\n",
        "        for k in range(len(W)):\n",
        "          v_w=beta*pre_v_w[k]+dw[k]\n",
        "          v_b=beta*pre_v_b[k]+db[k]\n",
        "\n",
        "          W[k]=W[k]-(eta*v_w) - (weightDecay * W[k])\n",
        "          B[k]=B[k]-eta*v_b\n",
        "\n",
        "          pre_v_w[k]=v_w\n",
        "          pre_v_b[k]=v_b\n",
        "\n",
        "        for xw in dw:\n",
        "          xw[:]=0\n",
        "        for xb in db:\n",
        "          xb[:]=0\n",
        "      batch+=1\n",
        "\n",
        "    acc,loss=accuracy(W,B,x_train_images,y_train_labels,activation_fun,layers,loss_Fun)\n",
        "    v_acc,v_loss=accuracy(W,B,x_validation_images,y_validation_labels,activation_fun,layers,loss_Fun)\n",
        "    print(\"Accuracy\")\n",
        "    print(acc,loss,v_acc,v_loss)\n",
        "    wandb.log({\"Train_Accuracy\" : acc,\"Train_Loss\" : loss,\"Validation_acc\" : v_acc,\"validation_loss\" : v_loss,'epoch':i})\n",
        "\n",
        "\n",
        "def nesterov_accelerated_gradient_descent(epochs,layers,neurons,eta,activation_fun,batchSize,weightInit,weightDecay,loss_Fun):\n",
        "  beta=0.9\n",
        "  W,B=weight(layers,neurons,weightInit)\n",
        "  pre_v_w=[0 for i in range(layers+1)]\n",
        "  pre_v_b=[0 for i in range(layers+1)]\n",
        "\n",
        "  v_w=[0 for i in range(layers+1)]\n",
        "  v_b=[0 for i in range(layers+1)]\n",
        "\n",
        "  for i in range(epochs):\n",
        "    batch=1\n",
        "    dw=[0 for i in range(layers+1)]\n",
        "    db=[0 for i in range(layers+1)]\n",
        "\n",
        "    for k in range(len(W)):\n",
        "      W[k] = W[k] - beta * pre_v_w[k]\n",
        "      B[k] = B[k] - beta * pre_v_b[k]\n",
        "    for train_ima,train_labe in zip(x_train_images,y_train_labels):\n",
        "      A,H,Z=feeb_forward(train_ima,layers,activation_fun,W,B)\n",
        "      current_dw,current_db=back_propagation(train_ima,train_labe,Z,H,A,layers,W,activation_fun,loss_Fun)\n",
        "\n",
        "      for k in range(len(W)):\n",
        "          dw[k]+=current_dw[k]\n",
        "          db[k]+=current_db[k]\n",
        "\n",
        "      if(batch%batchSize==0):\n",
        "        for k in range(len(W)):\n",
        "          W[k]=W[k]-eta*dw[k]-(weightDecay*W[k])\n",
        "          B[k]=B[k]-eta*db[k]\n",
        "          pre_v_w[k]=eta*dw[k]+beta*pre_v_w[k]\n",
        "          pre_v_b[k]=eta*db[k]+beta*pre_v_b[k]\n",
        "        for xw in dw:\n",
        "          xw[:]=0\n",
        "        for xb in db:\n",
        "          xb[:]=0\n",
        "      batch+=1\n",
        "    acc, loss = accuracy(W,B,x_train_images,y_train_labels,activation_fun,layers,loss_Fun)\n",
        "    v_acc, v_loss = accuracy(W,B,x_validation_images,y_validation_labels,activation_fun,layers,loss_Fun)\n",
        "    print(\"Accuracy\")\n",
        "    print(acc,loss,v_acc,v_loss)\n",
        "    wandb.log({\"Train_Accuracy\" : acc,\"Train_Loss\" : loss,\"Validation_acc\" : v_acc,\"validation_loss\" : v_loss,'epoch':i})\n",
        "\n",
        "\n",
        "\n",
        "def rms_prop(epochs,layers,neurons,eta,activation_fun,batchSize,weightInit,weightDecay,loss_Fun):\n",
        "  beta=0.5\n",
        "  W,B=weight(layers,neurons,weightInit)\n",
        "  eps=1e-4\n",
        "  v_w=[0 for i in range(layers+1)]\n",
        "  v_b=[0 for i in range(layers+1)]\n",
        "\n",
        "  for i in range(epochs):\n",
        "    batch=1\n",
        "    dw=[0 for i in range(layers+1)]\n",
        "    db=[0 for i in range(layers+1)]\n",
        "    for train_ima,train_labe in zip(x_train_images,y_train_labels):\n",
        "      A, H, Z = feeb_forward(train_ima,layers,activation_fun,W,B)\n",
        "      current_dw, current_db = back_propagation(train_ima,train_labe,Z,H,A,layers,W,activation_fun,loss_Fun)\n",
        "\n",
        "      for k in range(len(W)):\n",
        "        dw[k]=dw[k]+current_dw[k]\n",
        "        db[k]=db[k]+current_db[k]\n",
        "      if(batch%batchSize==0):\n",
        "        for k in range(len(W)):\n",
        "          v_w[k]=beta*v_w[k]+(1-beta)*pow(dw[k],2)\n",
        "          v_b[k]=beta*v_b[k]+(1-beta)*pow(db[k],2)\n",
        "          W[k]=W[k]-eta*dw[k]/(np.sqrt(v_w[k])+eps) -(weightDecay*W[k])\n",
        "          B[k]=B[k]-eta*db[k]/(np.sqrt(v_b[k])+eps)\n",
        "\n",
        "        for xw in dw:\n",
        "          xw[:]=0\n",
        "        for xb in db:\n",
        "          xb[:]=0\n",
        "      batch+=1\n",
        "\n",
        "    acc,loss=accuracy(W,B,x_train_images,y_train_labels,activation_fun,layers,loss_Fun)\n",
        "    v_acc,v_loss=accuracy(W,B,x_validation_images,y_validation_labels,activation_fun,layers,loss_Fun)\n",
        "    print(\"Accuracy\")\n",
        "    print(acc,loss,v_acc,v_loss)\n",
        "    wandb.log({\"Train_Accuracy\" : acc,\"Train_Loss\" : loss,\"Validation_acc\" : v_acc,\"validation_loss\" : v_loss,'epoch':i})\n",
        "  return W,B\n",
        "\n",
        "\n",
        "\n",
        "def adam(epochs,eta,activation_fun,layers,neurons,batchSize,weightInit,weightDecay,loss_Fun):\n",
        "  beta1=0.9\n",
        "  beta2=0.999\n",
        "  W,B=weight(layers,neurons,weightInit)\n",
        "  v_w=[np.zeros_like(w) for w in W]\n",
        "  v_b=[np.zeros_like(w) for w in B]\n",
        "  m_w=[np.zeros_like(w) for w in W]\n",
        "  m_b=[np.zeros_like(w) for w in B]\n",
        "  eps=1e-10\n",
        "  for i in range(epochs):\n",
        "    batch=1\n",
        "    dw=[np.zeros_like(w) for w in W]\n",
        "    db=[np.zeros_like(w) for w in B]\n",
        "\n",
        "    for train_ima,train_labe in zip(x_train_images,y_train_labels):\n",
        "      A,H,Z=feeb_forward(train_ima,layers,activation_fun,W,B)\n",
        "      current_dw,current_db=back_propagation(train_ima,train_labe,Z,H,A,layers,W,activation_fun,loss_Fun)\n",
        "\n",
        "      for k in range(len(W)):\n",
        "        dw[k]=dw[k]+current_dw[k]\n",
        "        db[k]=db[k]+current_db[k]\n",
        "\n",
        "      if(batch%batchSize==0):\n",
        "        for k in range(len(W)):\n",
        "          m_w[k]=beta1*m_w[k]+(1-beta1)*dw[k]\n",
        "          m_b[k]=beta1*m_b[k]+(1-beta1)*db[k]\n",
        "          v_w[k]=beta2*v_w[k]+(1-beta2)*pow(dw[k],2)\n",
        "          v_b[k]=beta2*v_b[k]+(1-beta2)*pow(db[k],2)\n",
        "\n",
        "          m_w_hat=m_w[k]/(1-pow(beta1,k+1))\n",
        "          m_b_hat=m_b[k]/(1-pow(beta1,k+1))\n",
        "          v_w_hat=v_w[k]/(1-pow(beta2,k+1))\n",
        "          v_b_hat=v_b[k]/(1-pow(beta2,k+1))\n",
        "\n",
        "          W[k]=W[k]-eta*m_w_hat/(np.sqrt(v_w_hat)+eps) - (weightDecay*W[k])\n",
        "          B[k]=B[k]-eta*m_b_hat/(np.sqrt(v_b_hat)+eps)\n",
        "        for xw in dw:\n",
        "          xw[:]=0\n",
        "        for xb in db:\n",
        "          xb[:]=0\n",
        "      batch+=1\n",
        "    acc, loss = accuracy(W,B,x_train_images,y_train_labels,activation_fun,layers,loss_Fun)\n",
        "    v_acc, v_loss = accuracy(W,B,x_validation_images,y_validation_labels,activation_fun,layers,loss_Fun)\n",
        "    x_acc,y_loss=accuracy(W,B,x_test,y_test,activation_fun,layers,loss_Fun)\n",
        "    print(\"Accuracy\")\n",
        "    print(acc,loss,v_acc,v_loss,x_acc,y_loss)\n",
        "\n",
        "    wandb.log({\"Train_Accuracy\" : acc,\"Train_Loss\" : loss,\"Validation_acc\" : v_acc,\"validation_loss\" : v_loss,'epoch':i})\n",
        "  return W,B\n",
        "\n",
        "\n",
        "\n",
        "def nadam(eta,layers,neurons,epochs,activation_fun,batchSize,weightInit,weightDecay,loss_Fun):\n",
        "  beta1=0.9\n",
        "  beta2=0.999\n",
        "  W,B=weight(layers,neurons,weightInit)\n",
        "  v_w=[np.zeros_like(w) for w in W]\n",
        "  v_b=[np.zeros_like(w) for w in B]\n",
        "  m_w=[np.zeros_like(w) for w in W]\n",
        "  m_b=[np.zeros_like(w) for w in B]\n",
        "  eps=1e-10\n",
        "  for i in range(epochs):\n",
        "    temp=1\n",
        "    dw=[np.zeros_like(w) for w in W]\n",
        "    db=[np.zeros_like(w) for w in B]\n",
        "    for train_ima,train_labe in zip(x_train_images,y_train_labels):\n",
        "      A,H,Z=feeb_forward(train_ima,layers,activation_fun,W,B)\n",
        "      current_dw,current_db=back_propagation(train_ima,train_labe,Z,H,A,layers,W,activation_fun,loss_Fun)\n",
        "      # current_dw.reverse()\n",
        "      # current_db.reverse()\n",
        "\n",
        "      for k in range(len(W)):\n",
        "        dw[k]+=current_dw[k]\n",
        "        db[k]+=current_db[k]\n",
        "\n",
        "      if(temp%batchSize==0):\n",
        "        for k in range(len(W)):\n",
        "          m_w[k]=beta1*m_w[k]+(1-beta1)*dw[k]\n",
        "          m_b[k]=beta1*m_b[k]+(1-beta1)*db[k]\n",
        "          v_w[k]=beta2*v_w[k]+(1-beta2)*pow(dw[k],2)\n",
        "          v_b[k]=beta2*v_b[k]+(1-beta2)*pow(db[k],2)\n",
        "\n",
        "          m_w_hat=m_w[k]/(1-pow(beta1,i+1))\n",
        "          m_b_hat=m_b[k]/(1-pow(beta1,i+1))\n",
        "          v_w_hat=v_w[k]/(1-pow(beta2,i+1))\n",
        "          v_b_hat=v_b[k]/(1-pow(beta2,i+1))\n",
        "\n",
        "          W[k]=W[k]-(eta/(np.sqrt(v_w_hat+eps)))*(beta1*m_w_hat+(1-beta1)*dw[k]/(1-beta1**(k+1))) - (weightDecay*W[k])\n",
        "          B[k]=B[k]-(eta/(np.sqrt(v_b_hat+eps)))*(beta1*m_b_hat+(1-beta1)*db[k]/(1-beta1**(k+1)))\n",
        "        for xw in dw:\n",
        "          xw[:]=0\n",
        "        for xb in db:\n",
        "          xb[:]=0\n",
        "      temp+=1\n",
        "    acc,loss=accuracy(W,B,x_train_images,y_train_labels,activation_fun,layers,loss_Fun)\n",
        "    v_acc,v_loss=accuracy(W,B,x_validation_images,y_validation_labels,activation_fun,layers,loss_Fun)\n",
        "    x_acc,y_loss=accuracy(W,B,x_test,y_test,activation_fun,layers,loss_Fun)\n",
        "    print(\"Accuracy\")\n",
        "    print(acc,loss,v_acc,v_loss,x_acc,y_loss)\n",
        "    wandb.log({\"Train_Accuracy\" : acc,\"Train_Loss\" : loss,\"Validation_acc\" : v_acc,\"validation_loss\" : v_loss,'epoch':i})\n",
        "  return W,B"
      ],
      "metadata": {
        "id": "Ryknymv2sSpl"
      },
      "execution_count": 49,
      "outputs": []
    },
    {
      "cell_type": "markdown",
      "source": [
        "### accuracy 2"
      ],
      "metadata": {
        "id": "dqykn9Hkcot5"
      }
    },
    {
      "cell_type": "code",
      "source": [
        "def accuracyCalc(train_image,train_label,W,B,layers,activationfun,lossFun):\n",
        "  a,h,z = feeb_forward(train_image,layers,activationfun,W,B)\n",
        "  res = np.copy(h[layers])\n",
        "  maxi = res[0]\n",
        "  label = 0\n",
        "  for i in range(1,10):\n",
        "    if(res[i] > maxi ):\n",
        "      maxi = res[i]\n",
        "      label = i\n",
        "  if(lossFun == 'entropy'):\n",
        "    # print(train_label)\n",
        "    return label , -np.log(res[train_label]+(1e-5))\n",
        "  else:\n",
        "    a_l = np.zeros((10,1))\n",
        "    a_l[train_label] = 1\n",
        "    return label, np.sum((h[n]-a_l)**2)\n",
        "\n",
        "\n",
        "\n",
        "def validationAccuracy(validation_image,validation_label,W,B,layers,activationfun,lossFun):\n",
        "  a,h,z = feeb_forward(validation_image,layers,activationfun,W,B)\n",
        "  res = np.copy(h[layers])\n",
        "  maxi = res[0]\n",
        "  label = 0\n",
        "  for i in range(1,10):\n",
        "    if(res[i] > maxi ):\n",
        "      maxi = res[i]\n",
        "      label = i\n",
        "  if(lossFun == 'entropy'):\n",
        "    return label,-np.log(res[validation_label]+(1e-5))\n",
        "  else:\n",
        "    a_l = np.zeros((10,1))\n",
        "    a_l[validation_label] = 1\n",
        "    return label, np.sum((h[n]-a_l)**2)"
      ],
      "metadata": {
        "id": "lQWmbGBTx7fb"
      },
      "execution_count": null,
      "outputs": []
    },
    {
      "cell_type": "code",
      "source": [
        "stochastic_gradient_descent(3,0.01,3,32,\"sigmoid\",\"random\",0,\"crossEntropy\")"
      ],
      "metadata": {
        "id": "5gB9VXZ20k23"
      },
      "execution_count": null,
      "outputs": []
    },
    {
      "cell_type": "code",
      "source": [
        "nesterov_accelerated_gradient_descent(3,3,32,0.01,\"tanh\",100,\"random\",0,\"crossEntropy\")"
      ],
      "metadata": {
        "id": "Zd_jyqVGBJke"
      },
      "execution_count": null,
      "outputs": []
    },
    {
      "cell_type": "code",
      "source": [
        "rms_prop(3,3,32,0.001,\"tanh\",100,\"random\",0,\"crossEntropy\")"
      ],
      "metadata": {
        "id": "gCOXBiruIfQ_"
      },
      "execution_count": null,
      "outputs": []
    },
    {
      "cell_type": "code",
      "source": [
        "adam(3,0.01,\"sigmoid\",4,64,64,\"random\",0,\"crossEntropy\")"
      ],
      "metadata": {
        "id": "1Oyw4fa0Ou9J"
      },
      "execution_count": null,
      "outputs": []
    },
    {
      "cell_type": "code",
      "source": [
        "nadam(0.001,3,32,3,\"tanh\",64,\"random\",0,\"crossEntropy\")"
      ],
      "metadata": {
        "id": "LkRwpUkHX5OS"
      },
      "execution_count": null,
      "outputs": []
    },
    {
      "cell_type": "markdown",
      "source": [
        "### confusion matrix"
      ],
      "metadata": {
        "id": "jeieQhhKUmHT"
      }
    },
    {
      "cell_type": "code",
      "source": [
        "def confusion_Matrix(epochs, layers, neurons, learningRate, optimizer, batchSize, activationFun, weightInit,weightDecay,loss_Fun):\n",
        "  predicted=[]\n",
        "  original=[]\n",
        "  W,B=nadam(learningRate, layers, neurons, epochs, activationFun, batchSize, weightInit,weightDecay,loss_Fun)\n",
        "  acc,loss=accuracy_confusion(W,B,x_test,y_test,activationFun,layers,loss_Fun,predicted,original)\n",
        "  confusion=confusion_matrix(original,predicted)\n",
        "  plt.figure(figsize=(10,10))\n",
        "  sn.heatmap(confusion, annot=True, fmt='d',cmap='Oranges',linewidths=2,cbar=True,linecolor='black',\n",
        "          xticklabels=['0','1','2','3','4','5','6','7','8','9'], yticklabels=['0','1','2','3','4','5','6','7','8','9'])\n",
        "  plt.xlabel(\"PREDICTED\")\n",
        "  plt.ylabel(\"ORIGINAL\")\n",
        "  plt.title('confusion matrix')\n",
        "  plt.savefig('confusion_matric_1.png')\n",
        "  wandb.log({'confusion_matrix':wandb.Image('confusion_matric_1.png')})\n",
        "  plt.show()"
      ],
      "metadata": {
        "id": "xt3SAruUUWTE"
      },
      "execution_count": 50,
      "outputs": []
    },
    {
      "cell_type": "code",
      "source": [
        "confusion_Matrix(10, 3, 128, 0.001, 'optimizer', 32, 'tanh', 'xavier',0,'crossEntropy')"
      ],
      "metadata": {
        "colab": {
          "base_uri": "https://localhost:8080/",
          "height": 1000
        },
        "id": "wK4fmFZaT1jK",
        "outputId": "1ec059ef-ffa9-4c8a-887a-0831456c308e"
      },
      "execution_count": 51,
      "outputs": [
        {
          "output_type": "stream",
          "name": "stdout",
          "text": [
            "Accuracy\n",
            "83.81851851851852 0.001927655909885917 83.23333333333333 0.001948861186244928 82.57 0.00035528487200696483\n",
            "Accuracy\n",
            "86.26851851851852 0.001412758823075988 85.16666666666667 0.0013875251941283188 84.27 0.0002012102993022824\n",
            "Accuracy\n",
            "87.5 0.0018997977781570312 86.36666666666667 0.0012638098313430633 85.42 0.00012121032744750548\n",
            "Accuracy\n",
            "88.33148148148148 0.0019441954200219089 86.98333333333333 0.0010726524263724513 86.11 9.371405074220475e-05\n",
            "Accuracy\n",
            "88.82962962962962 0.0017134330192106818 87.48333333333333 0.0008846649014200839 86.56 7.756127180719688e-05\n",
            "Accuracy\n",
            "89.3425925925926 0.0013463471813466256 88.08333333333334 0.0007167888792109374 86.9 6.786220074245836e-05\n",
            "Accuracy\n",
            "89.71666666666667 0.001015401293216484 88.11666666666666 0.0005946968482470699 87.06 6.256018992407539e-05\n",
            "Accuracy\n",
            "90.04629629629629 0.0007947098328158331 88.36666666666667 0.0005088827663978759 87.25 5.645134034356485e-05\n",
            "Accuracy\n",
            "90.25925925925927 0.0006549124640768268 88.4 0.0004417014083864548 87.35000000000001 4.8022977451320176e-05\n",
            "Accuracy\n",
            "90.5111111111111 0.0005584791702646111 88.48333333333333 0.0003828521289787325 87.39 3.858101806635336e-05\n"
          ]
        },
        {
          "output_type": "display_data",
          "data": {
            "text/plain": [
              "<Figure size 1000x1000 with 2 Axes>"
            ],
            "image/png": "[encoded data removed]"
          },
          "metadata": {}
        }
      ]
    },
    {
      "cell_type": "code",
      "source": [
        "confusion_Matrix(10, 3, 128, 0.001, 'optimizer', 32, 'tanh', 'random',0,'crossEntropy')"
      ],
      "metadata": {
        "id": "9JOUq62NL5Hi"
      },
      "execution_count": null,
      "outputs": []
    },
    {
      "cell_type": "markdown",
      "source": [
        "### mnist\n"
      ],
      "metadata": {
        "id": "ul00caN1JZ0z"
      }
    },
    {
      "cell_type": "code",
      "source": [
        "nadam(0.001, 3, 128, 10, 'tanh', 32, 'xavier',0,'crossEntropy')"
      ],
      "metadata": {
        "id": "5RI7hGKCImCV"
      },
      "execution_count": null,
      "outputs": []
    },
    {
      "cell_type": "code",
      "source": [
        "!python train.py"
      ],
      "metadata": {
        "colab": {
          "base_uri": "https://localhost:8080/"
        },
        "id": "tP1T2rxPLsV5",
        "outputId": "64634c52-d697-4d95-943e-374ee2cda4d2"
      },
      "execution_count": 13,
      "outputs": [
        {
          "output_type": "stream",
          "name": "stdout",
          "text": [
            "2024-03-22 12:46:08.902045: E external/local_xla/xla/stream_executor/cuda/cuda_dnn.cc:9261] Unable to register cuDNN factory: Attempting to register factory for plugin cuDNN when one has already been registered\n",
            "2024-03-22 12:46:08.902120: E external/local_xla/xla/stream_executor/cuda/cuda_fft.cc:607] Unable to register cuFFT factory: Attempting to register factory for plugin cuFFT when one has already been registered\n",
            "2024-03-22 12:46:08.903527: E external/local_xla/xla/stream_executor/cuda/cuda_blas.cc:1515] Unable to register cuBLAS factory: Attempting to register factory for plugin cuBLAS when one has already been registered\n",
            "2024-03-22 12:46:10.672753: W tensorflow/compiler/tf2tensorrt/utils/py_utils.cc:38] TF-TRT Warning: Could not find TensorRT\n",
            "\u001b[34m\u001b[1mwandb\u001b[0m: (1) Create a W&B account\n",
            "\u001b[34m\u001b[1mwandb\u001b[0m: (2) Use an existing W&B account\n",
            "\u001b[34m\u001b[1mwandb\u001b[0m: (3) Don't visualize my results\n",
            "\u001b[34m\u001b[1mwandb\u001b[0m: Enter your choice: 2\n",
            "\u001b[34m\u001b[1mwandb\u001b[0m: You chose 'Use an existing W&B account'\n",
            "\u001b[34m\u001b[1mwandb\u001b[0m: Logging into wandb.ai. (Learn how to deploy a W&B server locally: https://wandb.me/wandb-server)\n",
            "\u001b[34m\u001b[1mwandb\u001b[0m: You can find your API key in your browser here: https://wandb.ai/authorize\n",
            "\u001b[34m\u001b[1mwandb\u001b[0m: Paste an API key from your profile and hit enter, or press ctrl+c to quit: \n",
            "\u001b[34m\u001b[1mwandb\u001b[0m: Appending key for api.wandb.ai to your netrc file: /root/.netrc\n",
            "\u001b[34m\u001b[1mwandb\u001b[0m: Currently logged in as: \u001b[33mcs23m035\u001b[0m. Use \u001b[1m`wandb login --relogin`\u001b[0m to force relogin\n",
            "\u001b[34m\u001b[1mwandb\u001b[0m: Tracking run with wandb version 0.16.4\n",
            "\u001b[34m\u001b[1mwandb\u001b[0m: Run data is saved locally in \u001b[35m\u001b[1m/content/wandb/run-20240322_124718-bjcbvnk2\u001b[0m\n",
            "\u001b[34m\u001b[1mwandb\u001b[0m: Run \u001b[1m`wandb offline`\u001b[0m to turn off syncing.\n",
            "\u001b[34m\u001b[1mwandb\u001b[0m: Syncing run \u001b[33mfeasible-feather-414\u001b[0m\n",
            "\u001b[34m\u001b[1mwandb\u001b[0m: ⭐️ View project at \u001b[34m\u001b[4mhttps://wandb.ai/cs23m035/cs23m035_DL_Assignment1\u001b[0m\n",
            "\u001b[34m\u001b[1mwandb\u001b[0m: 🚀 View run at \u001b[34m\u001b[4mhttps://wandb.ai/cs23m035/cs23m035_DL_Assignment1/runs/bjcbvnk2\u001b[0m\n",
            "Accuracy\n",
            "83.03148148148148 0.00046822450592618126 82.26666666666667 0.0014378773819832145\n",
            "Traceback (most recent call last):\n",
            "  File \"/content/train.py\", line 539, in <module>\n",
            "    main_function(args.epochs, args.num_layers, args.hidden_size, args.learning_rate, args.optimizer, args.batch_size, args.activation, args.weight_init, args.weight_decay, args.loss, args.beta, args.momentum, args.beta1, args.beta2, args.epsilon)\n",
            "  File \"/content/train.py\", line 479, in main_function\n",
            "    w,b=nadam(learningRate, layers, neurons, epochs, activationFun, batchSize, weightInit,weightDecay,loss_Fun,beta1,beta2)\n",
            "  File \"/content/train.py\", line 413, in nadam\n",
            "    current_dw,current_db=back_propagation(train_ima,train_labe,Z,H,A,layers,W,activation_fun,loss_Fun)\n",
            "  File \"/content/train.py\", line 161, in back_propagation\n",
            "    loss_dh=np.matmul((W[k].T),loss)\n",
            "KeyboardInterrupt\n",
            "^C\n"
          ]
        }
      ]
    },
    {
      "cell_type": "code",
      "source": [],
      "metadata": {
        "id": "73UNlfySNIjj"
      },
      "execution_count": null,
      "outputs": []
    },
    {
      "cell_type": "markdown",
      "source": [
        "### minst data set"
      ],
      "metadata": {
        "id": "6TEhfrhsuLhI"
      }
    },
    {
      "cell_type": "code",
      "source": [
        "def main_function(epochs, layers, neurons, learningRate, optimizer, batchSize, activationFun, weightInit,weightDecay,loss_Fun):\n",
        "    if optimizer == \"SGD\":\n",
        "        accuracy=stochastic_gradient_descent(epochs, learningRate, layers, neurons, activationFun, weightInit,weightDecay,loss_Fun)\n",
        "    elif optimizer == \"ADAM\":\n",
        "        accuracy=adam(epochs, learningRate, activationFun, layers, neurons, batchSize, weightInit,weightDecay,loss_Fun)\n",
        "    elif optimizer == \"NADAM\":\n",
        "        accuracy=nadam(learningRate, layers, neurons, epochs, activationFun, batchSize, weightInit,weightDecay,loss_Fun)\n",
        "\n",
        "def main_fun():\n",
        "    wandb.init(project='cs23m035_DL_Assignment1')\n",
        "    params = wandb.config\n",
        "    with wandb.init(project='cs23m035_DL_Assignment1', name='optimizer_func_'+params.optimizer+'_weight_initial_'+params.weightInit+'_activation_func_'+params.activationFun) as run:\n",
        "        main_function(params.maxIterations,\n",
        "                      params.layers,\n",
        "                      params.neurons,\n",
        "                      params.learningRate,\n",
        "                      params.optimizer,\n",
        "                      params.batchSize,\n",
        "                      params.activationFun,\n",
        "                      params.weightInit,\n",
        "                      params.weightDecay,\n",
        "                      params.loss_Fun)\n",
        "\n",
        "sweep_params = {\n",
        "    'method': 'bayes',\n",
        "    'name': 'Accuracy',\n",
        "    'metric': {\n",
        "        'goal': 'maximize',\n",
        "        'name': 'Validation_acc',\n",
        "    },\n",
        "    'parameters': {\n",
        "        'maxIterations': {'values': [10]},\n",
        "        'layers': {'values': [3]},\n",
        "        'neurons': {'values': [128]},\n",
        "        'learningRate': {'values': [0.001]},\n",
        "        'optimizer': {'values': ['NADAM']},\n",
        "        'batchSize': {'values': [32]},\n",
        "        'activationFun': {'values': ['tanh']},\n",
        "        'weightInit': {'values': ['xavier']},\n",
        "        'weightDecay': {'values': [0]},\n",
        "        'loss_Fun':{'values':['crossEntropy']}\n",
        "\n",
        "    }\n",
        "}\n",
        "\n",
        "sweepId = wandb.sweep(sweep_params, project='cs23m035_DL_Assignment1')\n",
        "wandb.agent(sweepId, function=main_fun,count=1)"
      ],
      "metadata": {
        "colab": {
          "base_uri": "https://localhost:8080/",
          "height": 0,
          "referenced_widgets": [
            "a70a244dee4846889a7a6bd3213e5ac5",
            "c830c6f5c2844a42bcf509837170cd8b",
            "80293c5b5fdd4ac4bfb85f44044d25c7",
            "6092c012e5754f1792421b3eeb1d5a4f",
            "7385d618966a45c3bcf3933eadaf4d27",
            "04c259a4e60846dd8a8f069f00e27c00",
            "b9af0beda32944e397f7530eb173d6bd",
            "62b1009f9dd049f5ac7c824d9cd1fdcf",
            "534ac65b594140dd8d6fa0e277829c36",
            "05cf8a68feb140699aa558888597e939",
            "cdf6fa1aefba46a2b3f9607d931b5e06",
            "53d85c8b6ba74902b794d9bc43b57066",
            "7b1e8e7cbc95466e8c654aebaa6c427e",
            "e8d76208acf648a2892cfd1f270c72a6",
            "081220da7e294163b06df166dbfff198",
            "fee41918a7c04904a9424cf89f70cd50"
          ]
        },
        "id": "m7My0KDFLEpK",
        "outputId": "94a1f9b5-f08c-4e39-c8c8-ccf7e92e5ece"
      },
      "execution_count": 41,
      "outputs": [
        {
          "output_type": "stream",
          "name": "stdout",
          "text": [
            "Create sweep with ID: cl7fzzsd\n",
            "Sweep URL: https://wandb.ai/cs23m035/cs23m035_DL_Assignment1/sweeps/cl7fzzsd\n"
          ]
        },
        {
          "output_type": "stream",
          "name": "stderr",
          "text": [
            "\u001b[34m\u001b[1mwandb\u001b[0m: Agent Starting Run: e8g2pv9y with config:\n",
            "\u001b[34m\u001b[1mwandb\u001b[0m: \tactivationFun: tanh\n",
            "\u001b[34m\u001b[1mwandb\u001b[0m: \tbatchSize: 32\n",
            "\u001b[34m\u001b[1mwandb\u001b[0m: \tlayers: 3\n",
            "\u001b[34m\u001b[1mwandb\u001b[0m: \tlearningRate: 0.001\n",
            "\u001b[34m\u001b[1mwandb\u001b[0m: \tloss_Fun: crossEntropy\n",
            "\u001b[34m\u001b[1mwandb\u001b[0m: \tmaxIterations: 10\n",
            "\u001b[34m\u001b[1mwandb\u001b[0m: \tneurons: 128\n",
            "\u001b[34m\u001b[1mwandb\u001b[0m: \toptimizer: NADAM\n",
            "\u001b[34m\u001b[1mwandb\u001b[0m: \tweightDecay: 0\n",
            "\u001b[34m\u001b[1mwandb\u001b[0m: \tweightInit: xavier\n",
            "\u001b[34m\u001b[1mwandb\u001b[0m: \u001b[33mWARNING\u001b[0m Ignored wandb.init() arg project when running a sweep.\n"
          ]
        },
        {
          "output_type": "display_data",
          "data": {
            "text/plain": [
              "<IPython.core.display.HTML object>"
            ],
            "text/html": [
              "Tracking run with wandb version 0.16.4"
            ]
          },
          "metadata": {}
        },
        {
          "output_type": "display_data",
          "data": {
            "text/plain": [
              "<IPython.core.display.HTML object>"
            ],
            "text/html": [
              "Run data is saved locally in <code>/content/wandb/run-20240322_091606-e8g2pv9y</code>"
            ]
          },
          "metadata": {}
        },
        {
          "output_type": "display_data",
          "data": {
            "text/plain": [
              "<IPython.core.display.HTML object>"
            ],
            "text/html": [
              "Syncing run <strong><a href='https://wandb.ai/cs23m035/cs23m035_DL_Assignment1/runs/e8g2pv9y' target=\"_blank\">apricot-sweep-1</a></strong> to <a href='https://wandb.ai/cs23m035/cs23m035_DL_Assignment1' target=\"_blank\">Weights & Biases</a> (<a href='https://wandb.me/run' target=\"_blank\">docs</a>)<br/>Sweep page: <a href='https://wandb.ai/cs23m035/cs23m035_DL_Assignment1/sweeps/cl7fzzsd' target=\"_blank\">https://wandb.ai/cs23m035/cs23m035_DL_Assignment1/sweeps/cl7fzzsd</a>"
            ]
          },
          "metadata": {}
        },
        {
          "output_type": "display_data",
          "data": {
            "text/plain": [
              "<IPython.core.display.HTML object>"
            ],
            "text/html": [
              " View project at <a href='https://wandb.ai/cs23m035/cs23m035_DL_Assignment1' target=\"_blank\">https://wandb.ai/cs23m035/cs23m035_DL_Assignment1</a>"
            ]
          },
          "metadata": {}
        },
        {
          "output_type": "display_data",
          "data": {
            "text/plain": [
              "<IPython.core.display.HTML object>"
            ],
            "text/html": [
              " View sweep at <a href='https://wandb.ai/cs23m035/cs23m035_DL_Assignment1/sweeps/cl7fzzsd' target=\"_blank\">https://wandb.ai/cs23m035/cs23m035_DL_Assignment1/sweeps/cl7fzzsd</a>"
            ]
          },
          "metadata": {}
        },
        {
          "output_type": "display_data",
          "data": {
            "text/plain": [
              "<IPython.core.display.HTML object>"
            ],
            "text/html": [
              " View run at <a href='https://wandb.ai/cs23m035/cs23m035_DL_Assignment1/runs/e8g2pv9y' target=\"_blank\">https://wandb.ai/cs23m035/cs23m035_DL_Assignment1/runs/e8g2pv9y</a>"
            ]
          },
          "metadata": {}
        },
        {
          "output_type": "stream",
          "name": "stderr",
          "text": [
            "\u001b[34m\u001b[1mwandb\u001b[0m: \u001b[33mWARNING\u001b[0m Ignored wandb.init() arg project when running a sweep.\n"
          ]
        },
        {
          "output_type": "display_data",
          "data": {
            "text/plain": [
              "<IPython.core.display.HTML object>"
            ],
            "text/html": [
              "Finishing last run (ID:e8g2pv9y) before initializing another..."
            ]
          },
          "metadata": {}
        },
        {
          "output_type": "display_data",
          "data": {
            "text/plain": [
              "VBox(children=(Label(value='0.001 MB of 0.001 MB uploaded\\r'), FloatProgress(value=1.0, max=1.0)))"
            ],
            "application/vnd.jupyter.widget-view+json": {
              "version_major": 2,
              "version_minor": 0,
              "model_id": "a70a244dee4846889a7a6bd3213e5ac5"
            }
          },
          "metadata": {}
        },
        {
          "output_type": "display_data",
          "data": {
            "text/plain": [
              "<IPython.core.display.HTML object>"
            ],
            "text/html": [
              " View run <strong style=\"color:#cdcd00\">apricot-sweep-1</strong> at: <a href='https://wandb.ai/cs23m035/cs23m035_DL_Assignment1/runs/e8g2pv9y' target=\"_blank\">https://wandb.ai/cs23m035/cs23m035_DL_Assignment1/runs/e8g2pv9y</a><br/>Synced 5 W&B file(s), 0 media file(s), 0 artifact file(s) and 0 other file(s)"
            ]
          },
          "metadata": {}
        },
        {
          "output_type": "display_data",
          "data": {
            "text/plain": [
              "<IPython.core.display.HTML object>"
            ],
            "text/html": [
              "Find logs at: <code>./wandb/run-20240322_091606-e8g2pv9y/logs</code>"
            ]
          },
          "metadata": {}
        },
        {
          "output_type": "display_data",
          "data": {
            "text/plain": [
              "<IPython.core.display.HTML object>"
            ],
            "text/html": [
              "Successfully finished last run (ID:e8g2pv9y). Initializing new run:<br/>"
            ]
          },
          "metadata": {}
        },
        {
          "output_type": "display_data",
          "data": {
            "text/plain": [
              "<IPython.core.display.HTML object>"
            ],
            "text/html": [
              "Tracking run with wandb version 0.16.4"
            ]
          },
          "metadata": {}
        },
        {
          "output_type": "display_data",
          "data": {
            "text/plain": [
              "<IPython.core.display.HTML object>"
            ],
            "text/html": [
              "Run data is saved locally in <code>/content/wandb/run-20240322_091610-e8g2pv9y</code>"
            ]
          },
          "metadata": {}
        },
        {
          "output_type": "display_data",
          "data": {
            "text/plain": [
              "<IPython.core.display.HTML object>"
            ],
            "text/html": [
              "Syncing run <strong><a href='https://wandb.ai/cs23m035/cs23m035_DL_Assignment1/runs/e8g2pv9y' target=\"_blank\">optimizer_func_NADAM_weight_initial_xavier_activation_func_tanh</a></strong> to <a href='https://wandb.ai/cs23m035/cs23m035_DL_Assignment1' target=\"_blank\">Weights & Biases</a> (<a href='https://wandb.me/run' target=\"_blank\">docs</a>)<br/>Sweep page: <a href='https://wandb.ai/cs23m035/cs23m035_DL_Assignment1/sweeps/cl7fzzsd' target=\"_blank\">https://wandb.ai/cs23m035/cs23m035_DL_Assignment1/sweeps/cl7fzzsd</a>"
            ]
          },
          "metadata": {}
        },
        {
          "output_type": "display_data",
          "data": {
            "text/plain": [
              "<IPython.core.display.HTML object>"
            ],
            "text/html": [
              " View project at <a href='https://wandb.ai/cs23m035/cs23m035_DL_Assignment1' target=\"_blank\">https://wandb.ai/cs23m035/cs23m035_DL_Assignment1</a>"
            ]
          },
          "metadata": {}
        },
        {
          "output_type": "display_data",
          "data": {
            "text/plain": [
              "<IPython.core.display.HTML object>"
            ],
            "text/html": [
              " View sweep at <a href='https://wandb.ai/cs23m035/cs23m035_DL_Assignment1/sweeps/cl7fzzsd' target=\"_blank\">https://wandb.ai/cs23m035/cs23m035_DL_Assignment1/sweeps/cl7fzzsd</a>"
            ]
          },
          "metadata": {}
        },
        {
          "output_type": "display_data",
          "data": {
            "text/plain": [
              "<IPython.core.display.HTML object>"
            ],
            "text/html": [
              " View run at <a href='https://wandb.ai/cs23m035/cs23m035_DL_Assignment1/runs/e8g2pv9y' target=\"_blank\">https://wandb.ai/cs23m035/cs23m035_DL_Assignment1/runs/e8g2pv9y</a>"
            ]
          },
          "metadata": {}
        },
        {
          "output_type": "stream",
          "name": "stdout",
          "text": [
            "Accuracy\n",
            "93.62222222222222 2.814463668140454e-05 93.35 0.0003562448465833812 93.42 7.492273882213108e-05\n",
            "Accuracy\n",
            "95.58888888888889 2.6768403322226513e-05 95.08333333333333 0.00013864828048595467 95.12 3.628813390230315e-05\n",
            "Accuracy\n",
            "96.56851851851852 3.0103392912353128e-05 96.0 8.561044097287237e-05 95.96000000000001 2.4976351838239152e-05\n",
            "Accuracy\n",
            "97.23333333333333 2.334685396643733e-05 96.53333333333333 5.010974488643835e-05 96.44 1.5786152174261386e-05\n",
            "Accuracy\n",
            "97.75 1.859615765373461e-05 96.86666666666667 3.234494692508605e-05 96.54 9.746789041430768e-06\n",
            "Accuracy\n",
            "98.12037037037037 1.3957115975622347e-05 97.0 2.5715374869235466e-05 96.63000000000001 5.752524166482377e-06\n",
            "Accuracy\n",
            "98.40185185185184 1.160767217136457e-05 97.15 2.3083844617495663e-05 96.63000000000001 3.182729937688581e-06\n",
            "Accuracy\n",
            "98.61296296296295 1.0394774285269482e-05 97.06666666666666 2.0750491328523534e-05 96.83 1.8286732938773065e-06\n",
            "Accuracy\n",
            "98.83333333333333 9.629740468562165e-06 97.2 1.725448032003329e-05 96.89999999999999 1.120258297135674e-06\n",
            "Accuracy\n",
            "99.02777777777779 9.583742318723058e-06 97.2 1.359137196840472e-05 96.95 6.968162815544901e-07\n"
          ]
        },
        {
          "output_type": "display_data",
          "data": {
            "text/plain": [
              "VBox(children=(Label(value='0.001 MB of 0.001 MB uploaded\\r'), FloatProgress(value=1.0, max=1.0)))"
            ],
            "application/vnd.jupyter.widget-view+json": {
              "version_major": 2,
              "version_minor": 0,
              "model_id": "534ac65b594140dd8d6fa0e277829c36"
            }
          },
          "metadata": {}
        },
        {
          "output_type": "display_data",
          "data": {
            "text/plain": [
              "<IPython.core.display.HTML object>"
            ],
            "text/html": [
              "<style>\n",
              "    table.wandb td:nth-child(1) { padding: 0 10px; text-align: left ; width: auto;} td:nth-child(2) {text-align: left ; width: 100%}\n",
              "    .wandb-row { display: flex; flex-direction: row; flex-wrap: wrap; justify-content: flex-start; width: 100% }\n",
              "    .wandb-col { display: flex; flex-direction: column; flex-basis: 100%; flex: 1; padding: 10px; }\n",
              "    </style>\n",
              "<div class=\"wandb-row\"><div class=\"wandb-col\"><h3>Run history:</h3><br/><table class=\"wandb\"><tr><td>Train_Accuracy</td><td>▁▄▅▆▆▇▇▇██</td></tr><tr><td>Train_Loss</td><td>▇▇█▆▄▂▂▁▁▁</td></tr><tr><td>Validation_acc</td><td>▁▄▆▇▇█████</td></tr><tr><td>epoch</td><td>▁▂▃▃▄▅▆▆▇█</td></tr><tr><td>validation_loss</td><td>█▄▂▂▁▁▁▁▁▁</td></tr></table><br/></div><div class=\"wandb-col\"><h3>Run summary:</h3><br/><table class=\"wandb\"><tr><td>Train_Accuracy</td><td>99.02778</td></tr><tr><td>Train_Loss</td><td>1e-05</td></tr><tr><td>Validation_acc</td><td>97.2</td></tr><tr><td>epoch</td><td>9</td></tr><tr><td>validation_loss</td><td>1e-05</td></tr></table><br/></div></div>"
            ]
          },
          "metadata": {}
        },
        {
          "output_type": "display_data",
          "data": {
            "text/plain": [
              "<IPython.core.display.HTML object>"
            ],
            "text/html": [
              " View run <strong style=\"color:#cdcd00\">optimizer_func_NADAM_weight_initial_xavier_activation_func_tanh</strong> at: <a href='https://wandb.ai/cs23m035/cs23m035_DL_Assignment1/runs/e8g2pv9y' target=\"_blank\">https://wandb.ai/cs23m035/cs23m035_DL_Assignment1/runs/e8g2pv9y</a><br/>Synced 5 W&B file(s), 0 media file(s), 0 artifact file(s) and 0 other file(s)"
            ]
          },
          "metadata": {}
        },
        {
          "output_type": "display_data",
          "data": {
            "text/plain": [
              "<IPython.core.display.HTML object>"
            ],
            "text/html": [
              "Find logs at: <code>./wandb/run-20240322_091610-e8g2pv9y/logs</code>"
            ]
          },
          "metadata": {}
        }
      ]
    },
    {
      "cell_type": "code",
      "source": [
        "nadam(0.001, 4, 128, 10, 'tanh', 64, 'xavier',0,'crossEntropy')"
      ],
      "metadata": {
        "id": "rWf2eojWKExA"
      },
      "execution_count": null,
      "outputs": []
    },
    {
      "cell_type": "code",
      "source": [
        "def main_function(epochs, layers, neurons, learningRate, optimizer, batchSize, activationFun, weightInit,weightDecay,loss_Fun):\n",
        "    if optimizer == \"SGD\":\n",
        "        accuracy=stochastic_gradient_descent(epochs, learningRate, layers, neurons, activationFun, weightInit,weightDecay,loss_Fun)\n",
        "    elif optimizer == \"ADAM\":\n",
        "        accuracy=adam(epochs, learningRate, activationFun, layers, neurons, batchSize, weightInit,weightDecay,loss_Fun)\n",
        "    elif optimizer == \"NADAM\":\n",
        "        accuracy=nadam(learningRate, layers, neurons, epochs, activationFun, batchSize, weightInit,weightDecay,loss_Fun)\n",
        "\n",
        "def main_fun():\n",
        "    wandb.init(project='cs23m035_DL_Assignment1')\n",
        "    params = wandb.config\n",
        "    with wandb.init(project='cs23m035_DL_Assignment1', name='optimizer_func_'+params.optimizer+'_weight_initial_'+params.weightInit+'_activation_func_'+params.activationFun) as run:\n",
        "        main_function(params.maxIterations,\n",
        "                      params.layers,\n",
        "                      params.neurons,\n",
        "                      params.learningRate,\n",
        "                      params.optimizer,\n",
        "                      params.batchSize,\n",
        "                      params.activationFun,\n",
        "                      params.weightInit,\n",
        "                      params.weightDecay,\n",
        "                      params.loss_Fun)\n",
        "\n",
        "sweep_params = {\n",
        "    'method': 'bayes',\n",
        "    'name': 'Accuracy',\n",
        "    'metric': {\n",
        "        'goal': 'maximize',\n",
        "        'name': 'Validation_acc',\n",
        "    },\n",
        "    'parameters': {\n",
        "        'maxIterations': {'values': [10]},\n",
        "        'layers': {'values': [4]},\n",
        "        'neurons': {'values': [128]},\n",
        "        'learningRate': {'values': [0.001]},\n",
        "        'optimizer': {'values': ['NADAM']},\n",
        "        'batchSize': {'values': [64]},\n",
        "        'activationFun': {'values': ['tanh']},\n",
        "        'weightInit': {'values': ['xavier']},\n",
        "        'weightDecay': {'values': [0]},\n",
        "        'loss_Fun':{'values':['crossEntropy']}\n",
        "\n",
        "    }\n",
        "}\n",
        "\n",
        "sweepId = wandb.sweep(sweep_params, project='cs23m035_DL_Assignment1')\n",
        "wandb.agent(sweepId, function=main_fun,count=1)"
      ],
      "metadata": {
        "colab": {
          "base_uri": "https://localhost:8080/",
          "height": 0,
          "referenced_widgets": [
            "34461815ef6240a7a0cf80967cd164f9",
            "b7d52131366c4a49a1938098f85baee8",
            "2d05187d09b4435197c39ae6c8d8074b",
            "ea66c6e9140147179ddad774ce30d166",
            "92af2aa458454b60aed61b79020eb867",
            "dc6d1d65b85648249f42f0ec6aaa8018",
            "0f3ca22a704d4b799df83bddb04ecee2",
            "39fb3c40d39a490c9bcde2ed043d88cc",
            "4df35c26c7004033807c63687e6216ec",
            "38273bc71e144bdd9a57ba3b2e6790c8",
            "14c66452228942a293554f762340ba0a",
            "f9e1e61d70e144cea73034c94241a709",
            "67bc7e22f9d842d7aecb50b006c112ec",
            "e877aa04c6114892961ec9d96c0f3be0",
            "ef26da271f23497088ed163f3dc6b753",
            "67581127d5894814be092dc261e6cb62"
          ]
        },
        "id": "ZCx_BKp9Llvg",
        "outputId": "81cbf483-6de8-4684-8127-09433224e872"
      },
      "execution_count": 42,
      "outputs": [
        {
          "output_type": "stream",
          "name": "stdout",
          "text": [
            "Create sweep with ID: flcawm4e\n",
            "Sweep URL: https://wandb.ai/cs23m035/cs23m035_DL_Assignment1/sweeps/flcawm4e\n"
          ]
        },
        {
          "output_type": "stream",
          "name": "stderr",
          "text": [
            "\u001b[34m\u001b[1mwandb\u001b[0m: Agent Starting Run: fh34b3qi with config:\n",
            "\u001b[34m\u001b[1mwandb\u001b[0m: \tactivationFun: tanh\n",
            "\u001b[34m\u001b[1mwandb\u001b[0m: \tbatchSize: 64\n",
            "\u001b[34m\u001b[1mwandb\u001b[0m: \tlayers: 4\n",
            "\u001b[34m\u001b[1mwandb\u001b[0m: \tlearningRate: 0.001\n",
            "\u001b[34m\u001b[1mwandb\u001b[0m: \tloss_Fun: crossEntropy\n",
            "\u001b[34m\u001b[1mwandb\u001b[0m: \tmaxIterations: 10\n",
            "\u001b[34m\u001b[1mwandb\u001b[0m: \tneurons: 128\n",
            "\u001b[34m\u001b[1mwandb\u001b[0m: \toptimizer: NADAM\n",
            "\u001b[34m\u001b[1mwandb\u001b[0m: \tweightDecay: 0\n",
            "\u001b[34m\u001b[1mwandb\u001b[0m: \tweightInit: xavier\n",
            "\u001b[34m\u001b[1mwandb\u001b[0m: \u001b[33mWARNING\u001b[0m Ignored wandb.init() arg project when running a sweep.\n"
          ]
        },
        {
          "output_type": "display_data",
          "data": {
            "text/plain": [
              "<IPython.core.display.HTML object>"
            ],
            "text/html": [
              "Tracking run with wandb version 0.16.4"
            ]
          },
          "metadata": {}
        },
        {
          "output_type": "display_data",
          "data": {
            "text/plain": [
              "<IPython.core.display.HTML object>"
            ],
            "text/html": [
              "Run data is saved locally in <code>/content/wandb/run-20240322_093617-fh34b3qi</code>"
            ]
          },
          "metadata": {}
        },
        {
          "output_type": "display_data",
          "data": {
            "text/plain": [
              "<IPython.core.display.HTML object>"
            ],
            "text/html": [
              "Syncing run <strong><a href='https://wandb.ai/cs23m035/cs23m035_DL_Assignment1/runs/fh34b3qi' target=\"_blank\">snowy-sweep-1</a></strong> to <a href='https://wandb.ai/cs23m035/cs23m035_DL_Assignment1' target=\"_blank\">Weights & Biases</a> (<a href='https://wandb.me/run' target=\"_blank\">docs</a>)<br/>Sweep page: <a href='https://wandb.ai/cs23m035/cs23m035_DL_Assignment1/sweeps/flcawm4e' target=\"_blank\">https://wandb.ai/cs23m035/cs23m035_DL_Assignment1/sweeps/flcawm4e</a>"
            ]
          },
          "metadata": {}
        },
        {
          "output_type": "display_data",
          "data": {
            "text/plain": [
              "<IPython.core.display.HTML object>"
            ],
            "text/html": [
              " View project at <a href='https://wandb.ai/cs23m035/cs23m035_DL_Assignment1' target=\"_blank\">https://wandb.ai/cs23m035/cs23m035_DL_Assignment1</a>"
            ]
          },
          "metadata": {}
        },
        {
          "output_type": "display_data",
          "data": {
            "text/plain": [
              "<IPython.core.display.HTML object>"
            ],
            "text/html": [
              " View sweep at <a href='https://wandb.ai/cs23m035/cs23m035_DL_Assignment1/sweeps/flcawm4e' target=\"_blank\">https://wandb.ai/cs23m035/cs23m035_DL_Assignment1/sweeps/flcawm4e</a>"
            ]
          },
          "metadata": {}
        },
        {
          "output_type": "display_data",
          "data": {
            "text/plain": [
              "<IPython.core.display.HTML object>"
            ],
            "text/html": [
              " View run at <a href='https://wandb.ai/cs23m035/cs23m035_DL_Assignment1/runs/fh34b3qi' target=\"_blank\">https://wandb.ai/cs23m035/cs23m035_DL_Assignment1/runs/fh34b3qi</a>"
            ]
          },
          "metadata": {}
        },
        {
          "output_type": "stream",
          "name": "stderr",
          "text": [
            "\u001b[34m\u001b[1mwandb\u001b[0m: \u001b[33mWARNING\u001b[0m Ignored wandb.init() arg project when running a sweep.\n"
          ]
        },
        {
          "output_type": "display_data",
          "data": {
            "text/plain": [
              "<IPython.core.display.HTML object>"
            ],
            "text/html": [
              "Finishing last run (ID:fh34b3qi) before initializing another..."
            ]
          },
          "metadata": {}
        },
        {
          "output_type": "display_data",
          "data": {
            "text/plain": [
              "VBox(children=(Label(value='0.001 MB of 0.001 MB uploaded\\r'), FloatProgress(value=1.0, max=1.0)))"
            ],
            "application/vnd.jupyter.widget-view+json": {
              "version_major": 2,
              "version_minor": 0,
              "model_id": "34461815ef6240a7a0cf80967cd164f9"
            }
          },
          "metadata": {}
        },
        {
          "output_type": "display_data",
          "data": {
            "text/plain": [
              "<IPython.core.display.HTML object>"
            ],
            "text/html": [
              " View run <strong style=\"color:#cdcd00\">snowy-sweep-1</strong> at: <a href='https://wandb.ai/cs23m035/cs23m035_DL_Assignment1/runs/fh34b3qi' target=\"_blank\">https://wandb.ai/cs23m035/cs23m035_DL_Assignment1/runs/fh34b3qi</a><br/>Synced 5 W&B file(s), 0 media file(s), 0 artifact file(s) and 0 other file(s)"
            ]
          },
          "metadata": {}
        },
        {
          "output_type": "display_data",
          "data": {
            "text/plain": [
              "<IPython.core.display.HTML object>"
            ],
            "text/html": [
              "Find logs at: <code>./wandb/run-20240322_093617-fh34b3qi/logs</code>"
            ]
          },
          "metadata": {}
        },
        {
          "output_type": "display_data",
          "data": {
            "text/plain": [
              "<IPython.core.display.HTML object>"
            ],
            "text/html": [
              "Successfully finished last run (ID:fh34b3qi). Initializing new run:<br/>"
            ]
          },
          "metadata": {}
        },
        {
          "output_type": "display_data",
          "data": {
            "text/plain": [
              "<IPython.core.display.HTML object>"
            ],
            "text/html": [
              "Tracking run with wandb version 0.16.4"
            ]
          },
          "metadata": {}
        },
        {
          "output_type": "display_data",
          "data": {
            "text/plain": [
              "<IPython.core.display.HTML object>"
            ],
            "text/html": [
              "Run data is saved locally in <code>/content/wandb/run-20240322_093620-fh34b3qi</code>"
            ]
          },
          "metadata": {}
        },
        {
          "output_type": "display_data",
          "data": {
            "text/plain": [
              "<IPython.core.display.HTML object>"
            ],
            "text/html": [
              "Syncing run <strong><a href='https://wandb.ai/cs23m035/cs23m035_DL_Assignment1/runs/fh34b3qi' target=\"_blank\">optimizer_func_NADAM_weight_initial_xavier_activation_func_tanh</a></strong> to <a href='https://wandb.ai/cs23m035/cs23m035_DL_Assignment1' target=\"_blank\">Weights & Biases</a> (<a href='https://wandb.me/run' target=\"_blank\">docs</a>)<br/>Sweep page: <a href='https://wandb.ai/cs23m035/cs23m035_DL_Assignment1/sweeps/flcawm4e' target=\"_blank\">https://wandb.ai/cs23m035/cs23m035_DL_Assignment1/sweeps/flcawm4e</a>"
            ]
          },
          "metadata": {}
        },
        {
          "output_type": "display_data",
          "data": {
            "text/plain": [
              "<IPython.core.display.HTML object>"
            ],
            "text/html": [
              " View project at <a href='https://wandb.ai/cs23m035/cs23m035_DL_Assignment1' target=\"_blank\">https://wandb.ai/cs23m035/cs23m035_DL_Assignment1</a>"
            ]
          },
          "metadata": {}
        },
        {
          "output_type": "display_data",
          "data": {
            "text/plain": [
              "<IPython.core.display.HTML object>"
            ],
            "text/html": [
              " View sweep at <a href='https://wandb.ai/cs23m035/cs23m035_DL_Assignment1/sweeps/flcawm4e' target=\"_blank\">https://wandb.ai/cs23m035/cs23m035_DL_Assignment1/sweeps/flcawm4e</a>"
            ]
          },
          "metadata": {}
        },
        {
          "output_type": "display_data",
          "data": {
            "text/plain": [
              "<IPython.core.display.HTML object>"
            ],
            "text/html": [
              " View run at <a href='https://wandb.ai/cs23m035/cs23m035_DL_Assignment1/runs/fh34b3qi' target=\"_blank\">https://wandb.ai/cs23m035/cs23m035_DL_Assignment1/runs/fh34b3qi</a>"
            ]
          },
          "metadata": {}
        },
        {
          "output_type": "stream",
          "name": "stdout",
          "text": [
            "Accuracy\n",
            "90.18333333333334 0.0001462861769450549 90.16666666666666 0.0014759161506926514 90.22 0.00029463101779357895\n",
            "Accuracy\n",
            "93.28518518518518 3.705186046572047e-05 92.73333333333333 0.0003578216411192167 92.89 0.00014245020646806535\n",
            "Accuracy\n",
            "94.88703703703703 1.8409327025023305e-05 93.86666666666666 0.00017432259243475588 94.16 7.895097743773305e-05\n",
            "Accuracy\n",
            "95.88518518518518 1.107816732588978e-05 94.75 0.00010999310345748783 95.13000000000001 5.273178503268593e-05\n",
            "Accuracy\n",
            "96.58333333333333 7.343545623712583e-06 95.41666666666667 7.710185451612423e-05 95.69 3.823962910433792e-05\n",
            "Accuracy\n",
            "97.11111111111111 5.491017216113202e-06 95.75 5.75368574292699e-05 95.96000000000001 2.992729832055395e-05\n",
            "Accuracy\n",
            "97.45185185185186 3.984682990741454e-06 96.1 4.510265356870679e-05 96.16 2.305793559829401e-05\n",
            "Accuracy\n",
            "97.75555555555555 2.847669743792782e-06 96.21666666666667 3.572029022343533e-05 96.38 1.7469937987049812e-05\n",
            "Accuracy\n",
            "98.00740740740741 2.2298960746395492e-06 96.39999999999999 2.8484410153491825e-05 96.39 1.3218638926615892e-05\n",
            "Accuracy\n",
            "98.22962962962963 2.062718441512928e-06 96.48333333333333 2.241713011739281e-05 96.46000000000001 1.0194159830011933e-05\n"
          ]
        },
        {
          "output_type": "display_data",
          "data": {
            "text/plain": [
              "VBox(children=(Label(value='0.001 MB of 0.001 MB uploaded\\r'), FloatProgress(value=1.0, max=1.0)))"
            ],
            "application/vnd.jupyter.widget-view+json": {
              "version_major": 2,
              "version_minor": 0,
              "model_id": "4df35c26c7004033807c63687e6216ec"
            }
          },
          "metadata": {}
        },
        {
          "output_type": "display_data",
          "data": {
            "text/plain": [
              "<IPython.core.display.HTML object>"
            ],
            "text/html": [
              "<style>\n",
              "    table.wandb td:nth-child(1) { padding: 0 10px; text-align: left ; width: auto;} td:nth-child(2) {text-align: left ; width: 100%}\n",
              "    .wandb-row { display: flex; flex-direction: row; flex-wrap: wrap; justify-content: flex-start; width: 100% }\n",
              "    .wandb-col { display: flex; flex-direction: column; flex-basis: 100%; flex: 1; padding: 10px; }\n",
              "    </style>\n",
              "<div class=\"wandb-row\"><div class=\"wandb-col\"><h3>Run history:</h3><br/><table class=\"wandb\"><tr><td>Train_Accuracy</td><td>▁▄▅▆▇▇▇███</td></tr><tr><td>Train_Loss</td><td>█▃▂▁▁▁▁▁▁▁</td></tr><tr><td>Validation_acc</td><td>▁▄▅▆▇▇████</td></tr><tr><td>epoch</td><td>▁▂▃▃▄▅▆▆▇█</td></tr><tr><td>validation_loss</td><td>█▃▂▁▁▁▁▁▁▁</td></tr></table><br/></div><div class=\"wandb-col\"><h3>Run summary:</h3><br/><table class=\"wandb\"><tr><td>Train_Accuracy</td><td>98.22963</td></tr><tr><td>Train_Loss</td><td>0.0</td></tr><tr><td>Validation_acc</td><td>96.48333</td></tr><tr><td>epoch</td><td>9</td></tr><tr><td>validation_loss</td><td>2e-05</td></tr></table><br/></div></div>"
            ]
          },
          "metadata": {}
        },
        {
          "output_type": "display_data",
          "data": {
            "text/plain": [
              "<IPython.core.display.HTML object>"
            ],
            "text/html": [
              " View run <strong style=\"color:#cdcd00\">optimizer_func_NADAM_weight_initial_xavier_activation_func_tanh</strong> at: <a href='https://wandb.ai/cs23m035/cs23m035_DL_Assignment1/runs/fh34b3qi' target=\"_blank\">https://wandb.ai/cs23m035/cs23m035_DL_Assignment1/runs/fh34b3qi</a><br/>Synced 5 W&B file(s), 0 media file(s), 0 artifact file(s) and 0 other file(s)"
            ]
          },
          "metadata": {}
        },
        {
          "output_type": "display_data",
          "data": {
            "text/plain": [
              "<IPython.core.display.HTML object>"
            ],
            "text/html": [
              "Find logs at: <code>./wandb/run-20240322_093620-fh34b3qi/logs</code>"
            ]
          },
          "metadata": {}
        }
      ]
    },
    {
      "cell_type": "code",
      "source": [
        "adam(10, 0.001, 'tanh', 4, 128, 64, 'xavier',0,'crossEntropy')"
      ],
      "metadata": {
        "id": "6AY36lcaJ26S"
      },
      "execution_count": null,
      "outputs": []
    },
    {
      "cell_type": "code",
      "source": [
        "def main_function(epochs, layers, neurons, learningRate, optimizer, batchSize, activationFun, weightInit,weightDecay,loss_Fun):\n",
        "    if optimizer == \"SGD\":\n",
        "        accuracy=stochastic_gradient_descent(epochs, learningRate, layers, neurons, activationFun, weightInit,weightDecay,loss_Fun)\n",
        "    elif optimizer == \"ADAM\":\n",
        "        accuracy=adam(epochs, learningRate, activationFun, layers, neurons, batchSize, weightInit,weightDecay,loss_Fun)\n",
        "    elif optimizer == \"NADAM\":\n",
        "        accuracy=nadam(learningRate, layers, neurons, epochs, activationFun, batchSize, weightInit,weightDecay,loss_Fun)\n",
        "\n",
        "def main_fun():\n",
        "    wandb.init(project='cs23m035_DL_Assignment1')\n",
        "    params = wandb.config\n",
        "    with wandb.init(project='cs23m035_DL_Assignment1', name='optimizer_func_'+params.optimizer+'_weight_initial_'+params.weightInit+'_activation_func_'+params.activationFun) as run:\n",
        "        main_function(params.maxIterations,\n",
        "                      params.layers,\n",
        "                      params.neurons,\n",
        "                      params.learningRate,\n",
        "                      params.optimizer,\n",
        "                      params.batchSize,\n",
        "                      params.activationFun,\n",
        "                      params.weightInit,\n",
        "                      params.weightDecay,\n",
        "                      params.loss_Fun)\n",
        "\n",
        "sweep_params = {\n",
        "    'method': 'bayes',\n",
        "    'name': 'Accuracy',\n",
        "    'metric': {\n",
        "        'goal': 'maximize',\n",
        "        'name': 'Validation_acc',\n",
        "    },\n",
        "    'parameters': {\n",
        "        'maxIterations': {'values': [10]},\n",
        "        'layers': {'values': [4]},\n",
        "        'neurons': {'values': [128]},\n",
        "        'learningRate': {'values': [0.001]},\n",
        "        'optimizer': {'values': ['ADAM']},\n",
        "        'batchSize': {'values': [64]},\n",
        "        'activationFun': {'values': ['tanh']},\n",
        "        'weightInit': {'values': ['xavier']},\n",
        "        'weightDecay': {'values': [0]},\n",
        "        'loss_Fun':{'values':['crossEntropy']}\n",
        "\n",
        "    }\n",
        "}\n",
        "\n",
        "sweepId = wandb.sweep(sweep_params, project='cs23m035_DL_Assignment1')\n",
        "wandb.agent(sweepId, function=main_fun,count=1)"
      ],
      "metadata": {
        "colab": {
          "base_uri": "https://localhost:8080/",
          "height": 0,
          "referenced_widgets": [
            "d659f126ec7d41e89fc27b349cc1a37f",
            "f52725f893094057a6fbb9671db418c4",
            "42ab7983587e43beb1d0dc32df45b180",
            "3d9c749434a84b5082119c94e0212c5e",
            "2f9dc13439b6496ca6c38b8e45f8afd8",
            "543348e6832d4660a04fea853f8e4e25",
            "2bf8a24e5cde4f9c9bac1ea92337e66e",
            "0f52bb00b97841c587eebe0b1fedf8a1",
            "0f64f2061cfd4b599fe68908f0c10381",
            "a70e2fdac5774af5a93004fa6820012a",
            "cec18dc83a12462b83e095b9fbee5712",
            "36ca28929c9f468f86e9a16f3ebc80a2",
            "753f1fd64f5e4d02b37f4e0ad8e77561",
            "7b2177c9b9f842ff8c0687b6d265116d",
            "fde13b4c9e31410e896df67bdc71a792",
            "27852c5ef65c4a2492692e134209555a"
          ]
        },
        "id": "r-Co331_L1FW",
        "outputId": "5562c4b6-88cd-47a9-eeab-dedfb1e6971c"
      },
      "execution_count": 43,
      "outputs": [
        {
          "output_type": "stream",
          "name": "stdout",
          "text": [
            "Create sweep with ID: 9lzihth2\n",
            "Sweep URL: https://wandb.ai/cs23m035/cs23m035_DL_Assignment1/sweeps/9lzihth2\n"
          ]
        },
        {
          "output_type": "stream",
          "name": "stderr",
          "text": [
            "\u001b[34m\u001b[1mwandb\u001b[0m: Agent Starting Run: nza11vso with config:\n",
            "\u001b[34m\u001b[1mwandb\u001b[0m: \tactivationFun: tanh\n",
            "\u001b[34m\u001b[1mwandb\u001b[0m: \tbatchSize: 64\n",
            "\u001b[34m\u001b[1mwandb\u001b[0m: \tlayers: 4\n",
            "\u001b[34m\u001b[1mwandb\u001b[0m: \tlearningRate: 0.001\n",
            "\u001b[34m\u001b[1mwandb\u001b[0m: \tloss_Fun: crossEntropy\n",
            "\u001b[34m\u001b[1mwandb\u001b[0m: \tmaxIterations: 10\n",
            "\u001b[34m\u001b[1mwandb\u001b[0m: \tneurons: 128\n",
            "\u001b[34m\u001b[1mwandb\u001b[0m: \toptimizer: ADAM\n",
            "\u001b[34m\u001b[1mwandb\u001b[0m: \tweightDecay: 0\n",
            "\u001b[34m\u001b[1mwandb\u001b[0m: \tweightInit: xavier\n",
            "\u001b[34m\u001b[1mwandb\u001b[0m: \u001b[33mWARNING\u001b[0m Ignored wandb.init() arg project when running a sweep.\n"
          ]
        },
        {
          "output_type": "display_data",
          "data": {
            "text/plain": [
              "<IPython.core.display.HTML object>"
            ],
            "text/html": [
              "Tracking run with wandb version 0.16.4"
            ]
          },
          "metadata": {}
        },
        {
          "output_type": "display_data",
          "data": {
            "text/plain": [
              "<IPython.core.display.HTML object>"
            ],
            "text/html": [
              "Run data is saved locally in <code>/content/wandb/run-20240322_095854-nza11vso</code>"
            ]
          },
          "metadata": {}
        },
        {
          "output_type": "display_data",
          "data": {
            "text/plain": [
              "<IPython.core.display.HTML object>"
            ],
            "text/html": [
              "Syncing run <strong><a href='https://wandb.ai/cs23m035/cs23m035_DL_Assignment1/runs/nza11vso' target=\"_blank\">rosy-sweep-1</a></strong> to <a href='https://wandb.ai/cs23m035/cs23m035_DL_Assignment1' target=\"_blank\">Weights & Biases</a> (<a href='https://wandb.me/run' target=\"_blank\">docs</a>)<br/>Sweep page: <a href='https://wandb.ai/cs23m035/cs23m035_DL_Assignment1/sweeps/9lzihth2' target=\"_blank\">https://wandb.ai/cs23m035/cs23m035_DL_Assignment1/sweeps/9lzihth2</a>"
            ]
          },
          "metadata": {}
        },
        {
          "output_type": "display_data",
          "data": {
            "text/plain": [
              "<IPython.core.display.HTML object>"
            ],
            "text/html": [
              " View project at <a href='https://wandb.ai/cs23m035/cs23m035_DL_Assignment1' target=\"_blank\">https://wandb.ai/cs23m035/cs23m035_DL_Assignment1</a>"
            ]
          },
          "metadata": {}
        },
        {
          "output_type": "display_data",
          "data": {
            "text/plain": [
              "<IPython.core.display.HTML object>"
            ],
            "text/html": [
              " View sweep at <a href='https://wandb.ai/cs23m035/cs23m035_DL_Assignment1/sweeps/9lzihth2' target=\"_blank\">https://wandb.ai/cs23m035/cs23m035_DL_Assignment1/sweeps/9lzihth2</a>"
            ]
          },
          "metadata": {}
        },
        {
          "output_type": "display_data",
          "data": {
            "text/plain": [
              "<IPython.core.display.HTML object>"
            ],
            "text/html": [
              " View run at <a href='https://wandb.ai/cs23m035/cs23m035_DL_Assignment1/runs/nza11vso' target=\"_blank\">https://wandb.ai/cs23m035/cs23m035_DL_Assignment1/runs/nza11vso</a>"
            ]
          },
          "metadata": {}
        },
        {
          "output_type": "stream",
          "name": "stderr",
          "text": [
            "\u001b[34m\u001b[1mwandb\u001b[0m: \u001b[33mWARNING\u001b[0m Ignored wandb.init() arg project when running a sweep.\n"
          ]
        },
        {
          "output_type": "display_data",
          "data": {
            "text/plain": [
              "<IPython.core.display.HTML object>"
            ],
            "text/html": [
              "Finishing last run (ID:nza11vso) before initializing another..."
            ]
          },
          "metadata": {}
        },
        {
          "output_type": "display_data",
          "data": {
            "text/plain": [
              "VBox(children=(Label(value='0.001 MB of 0.001 MB uploaded\\r'), FloatProgress(value=1.0, max=1.0)))"
            ],
            "application/vnd.jupyter.widget-view+json": {
              "version_major": 2,
              "version_minor": 0,
              "model_id": "d659f126ec7d41e89fc27b349cc1a37f"
            }
          },
          "metadata": {}
        },
        {
          "output_type": "display_data",
          "data": {
            "text/plain": [
              "<IPython.core.display.HTML object>"
            ],
            "text/html": [
              " View run <strong style=\"color:#cdcd00\">rosy-sweep-1</strong> at: <a href='https://wandb.ai/cs23m035/cs23m035_DL_Assignment1/runs/nza11vso' target=\"_blank\">https://wandb.ai/cs23m035/cs23m035_DL_Assignment1/runs/nza11vso</a><br/>Synced 5 W&B file(s), 0 media file(s), 0 artifact file(s) and 0 other file(s)"
            ]
          },
          "metadata": {}
        },
        {
          "output_type": "display_data",
          "data": {
            "text/plain": [
              "<IPython.core.display.HTML object>"
            ],
            "text/html": [
              "Find logs at: <code>./wandb/run-20240322_095854-nza11vso/logs</code>"
            ]
          },
          "metadata": {}
        },
        {
          "output_type": "display_data",
          "data": {
            "text/plain": [
              "<IPython.core.display.HTML object>"
            ],
            "text/html": [
              "Successfully finished last run (ID:nza11vso). Initializing new run:<br/>"
            ]
          },
          "metadata": {}
        },
        {
          "output_type": "display_data",
          "data": {
            "text/plain": [
              "<IPython.core.display.HTML object>"
            ],
            "text/html": [
              "Tracking run with wandb version 0.16.4"
            ]
          },
          "metadata": {}
        },
        {
          "output_type": "display_data",
          "data": {
            "text/plain": [
              "<IPython.core.display.HTML object>"
            ],
            "text/html": [
              "Run data is saved locally in <code>/content/wandb/run-20240322_095858-nza11vso</code>"
            ]
          },
          "metadata": {}
        },
        {
          "output_type": "display_data",
          "data": {
            "text/plain": [
              "<IPython.core.display.HTML object>"
            ],
            "text/html": [
              "Syncing run <strong><a href='https://wandb.ai/cs23m035/cs23m035_DL_Assignment1/runs/nza11vso' target=\"_blank\">optimizer_func_ADAM_weight_initial_xavier_activation_func_tanh</a></strong> to <a href='https://wandb.ai/cs23m035/cs23m035_DL_Assignment1' target=\"_blank\">Weights & Biases</a> (<a href='https://wandb.me/run' target=\"_blank\">docs</a>)<br/>Sweep page: <a href='https://wandb.ai/cs23m035/cs23m035_DL_Assignment1/sweeps/9lzihth2' target=\"_blank\">https://wandb.ai/cs23m035/cs23m035_DL_Assignment1/sweeps/9lzihth2</a>"
            ]
          },
          "metadata": {}
        },
        {
          "output_type": "display_data",
          "data": {
            "text/plain": [
              "<IPython.core.display.HTML object>"
            ],
            "text/html": [
              " View project at <a href='https://wandb.ai/cs23m035/cs23m035_DL_Assignment1' target=\"_blank\">https://wandb.ai/cs23m035/cs23m035_DL_Assignment1</a>"
            ]
          },
          "metadata": {}
        },
        {
          "output_type": "display_data",
          "data": {
            "text/plain": [
              "<IPython.core.display.HTML object>"
            ],
            "text/html": [
              " View sweep at <a href='https://wandb.ai/cs23m035/cs23m035_DL_Assignment1/sweeps/9lzihth2' target=\"_blank\">https://wandb.ai/cs23m035/cs23m035_DL_Assignment1/sweeps/9lzihth2</a>"
            ]
          },
          "metadata": {}
        },
        {
          "output_type": "display_data",
          "data": {
            "text/plain": [
              "<IPython.core.display.HTML object>"
            ],
            "text/html": [
              " View run at <a href='https://wandb.ai/cs23m035/cs23m035_DL_Assignment1/runs/nza11vso' target=\"_blank\">https://wandb.ai/cs23m035/cs23m035_DL_Assignment1/runs/nza11vso</a>"
            ]
          },
          "metadata": {}
        },
        {
          "output_type": "stream",
          "name": "stdout",
          "text": [
            "Accuracy\n",
            "91.34074074074074 0.00011578402413603201 91.01666666666667 0.0011213735142861284 91.3 0.0003903585189941847\n",
            "Accuracy\n",
            "94.00185185185185 6.228984467431487e-05 93.36666666666666 0.0004563047001598221 93.56 0.00012997891871126865\n",
            "Accuracy\n",
            "95.5037037037037 3.571169412450032e-05 94.63333333333334 0.00023672940435429704 94.66 5.912170605235003e-05\n",
            "Accuracy\n",
            "96.52222222222223 2.2334338946950236e-05 95.51666666666667 0.0001408267411382193 95.46 3.932616003143749e-05\n",
            "Accuracy\n",
            "97.21666666666667 1.3021021595080426e-05 96.01666666666667 9.559166919932178e-05 95.98 2.746862480340587e-05\n",
            "Accuracy\n",
            "97.62962962962963 9.886866586564504e-06 96.33333333333334 6.913551438389578e-05 96.27 1.8478954014391752e-05\n",
            "Accuracy\n",
            "97.9148148148148 8.047174260630447e-06 96.68333333333334 5.077248586327707e-05 96.39 1.2500315215720512e-05\n",
            "Accuracy\n",
            "98.12962962962963 6.048855693838921e-06 96.61666666666666 3.808969364991782e-05 96.44 9.0201581910717e-06\n",
            "Accuracy\n",
            "98.28148148148148 4.957052075345766e-06 96.56666666666666 3.0724996616752645e-05 96.47 6.426453196459388e-06\n",
            "Accuracy\n",
            "98.37037037037038 4.74888386644086e-06 96.48333333333333 2.6568403390098296e-05 96.49 4.730382378071631e-06\n"
          ]
        },
        {
          "output_type": "display_data",
          "data": {
            "text/plain": [
              "VBox(children=(Label(value='0.001 MB of 0.012 MB uploaded\\r'), FloatProgress(value=0.0864956711708067, max=1.0…"
            ],
            "application/vnd.jupyter.widget-view+json": {
              "version_major": 2,
              "version_minor": 0,
              "model_id": "0f64f2061cfd4b599fe68908f0c10381"
            }
          },
          "metadata": {}
        },
        {
          "output_type": "display_data",
          "data": {
            "text/plain": [
              "<IPython.core.display.HTML object>"
            ],
            "text/html": [
              "<style>\n",
              "    table.wandb td:nth-child(1) { padding: 0 10px; text-align: left ; width: auto;} td:nth-child(2) {text-align: left ; width: 100%}\n",
              "    .wandb-row { display: flex; flex-direction: row; flex-wrap: wrap; justify-content: flex-start; width: 100% }\n",
              "    .wandb-col { display: flex; flex-direction: column; flex-basis: 100%; flex: 1; padding: 10px; }\n",
              "    </style>\n",
              "<div class=\"wandb-row\"><div class=\"wandb-col\"><h3>Run history:</h3><br/><table class=\"wandb\"><tr><td>Train_Accuracy</td><td>▁▄▅▆▇▇████</td></tr><tr><td>Train_Loss</td><td>█▅▃▂▂▁▁▁▁▁</td></tr><tr><td>Validation_acc</td><td>▁▄▅▇▇█████</td></tr><tr><td>epoch</td><td>▁▂▃▃▄▅▆▆▇█</td></tr><tr><td>validation_loss</td><td>█▄▂▂▁▁▁▁▁▁</td></tr></table><br/></div><div class=\"wandb-col\"><h3>Run summary:</h3><br/><table class=\"wandb\"><tr><td>Train_Accuracy</td><td>98.37037</td></tr><tr><td>Train_Loss</td><td>0.0</td></tr><tr><td>Validation_acc</td><td>96.48333</td></tr><tr><td>epoch</td><td>9</td></tr><tr><td>validation_loss</td><td>3e-05</td></tr></table><br/></div></div>"
            ]
          },
          "metadata": {}
        },
        {
          "output_type": "display_data",
          "data": {
            "text/plain": [
              "<IPython.core.display.HTML object>"
            ],
            "text/html": [
              " View run <strong style=\"color:#cdcd00\">optimizer_func_ADAM_weight_initial_xavier_activation_func_tanh</strong> at: <a href='https://wandb.ai/cs23m035/cs23m035_DL_Assignment1/runs/nza11vso' target=\"_blank\">https://wandb.ai/cs23m035/cs23m035_DL_Assignment1/runs/nza11vso</a><br/>Synced 5 W&B file(s), 0 media file(s), 0 artifact file(s) and 0 other file(s)"
            ]
          },
          "metadata": {}
        },
        {
          "output_type": "display_data",
          "data": {
            "text/plain": [
              "<IPython.core.display.HTML object>"
            ],
            "text/html": [
              "Find logs at: <code>./wandb/run-20240322_095858-nza11vso/logs</code>"
            ]
          },
          "metadata": {}
        }
      ]
    },
    {
      "cell_type": "markdown",
      "source": [
        "### conncet to wandb"
      ],
      "metadata": {
        "id": "MKMnVpa_kpLf"
      }
    },
    {
      "cell_type": "code",
      "source": [
        "def main_function(epochs, layers, neurons, learningRate, optimizer, batchSize, activationFun, weightInit,weightDecay,loss_Fun):\n",
        "    if optimizer == \"SGD\":\n",
        "        accuracy=stochastic_gradient_descent(epochs, learningRate, layers, neurons, activationFun, weightInit,weightDecay,loss_Fun)\n",
        "    elif optimizer == \"MGD\":\n",
        "        accuracy=momentum_gradient_descent(epochs, learningRate, layers, neurons, activationFun, batchSize, weightInit,weightDecay,loss_Fun)\n",
        "    elif optimizer == \"NAGD\":\n",
        "        accuracy=nesterov_accelerated_gradient_descent(epochs, layers, neurons, learningRate, activationFun, batchSize, weightInit,weightDecay,loss_Fun)\n",
        "    elif optimizer == \"RMSPROP\":\n",
        "        accuracy=rms_prop(epochs, layers, neurons, learningRate, activationFun, batchSize, weightInit,weightDecay,loss_Fun)\n",
        "    elif optimizer == \"ADAM\":\n",
        "        accuracy=adam(epochs, learningRate, activationFun, layers, neurons, batchSize, weightInit,weightDecay,loss_Fun)\n",
        "    elif optimizer == \"NADAM\":\n",
        "        accuracy=nadam(learningRate, layers, neurons, epochs, activationFun, batchSize, weightInit,weightDecay,loss_Fun)\n",
        "\n",
        "def main_fun():\n",
        "    wandb.init(project='cs23m035_DL_Assignment1')\n",
        "    params = wandb.config\n",
        "    with wandb.init(project='cs23m035_DL_Assignment1', name='optimizer_func_'+params.optimizer+'_weight_initial_'+params.weightInit+'_activation_func_'+params.activationFun) as run:\n",
        "        main_function(params.maxIterations,\n",
        "                      params.layers,\n",
        "                      params.neurons,\n",
        "                      params.learningRate,\n",
        "                      params.optimizer,\n",
        "                      params.batchSize,\n",
        "                      params.activationFun,\n",
        "                      params.weightInit,\n",
        "                      params.weightDecay,\n",
        "                      params.loss_Fun)\n",
        "\n",
        "sweep_params = {\n",
        "    'method': 'bayes',\n",
        "    'name': 'Accuracy',\n",
        "    'metric': {\n",
        "        'goal': 'maximize',\n",
        "        'name': 'Validation_acc',\n",
        "    },\n",
        "    'parameters': {\n",
        "        'maxIterations': {'values': [5,10]},\n",
        "        'layers': {'values': [3,4,5]},\n",
        "        'neurons': {'values': [32, 64,128]},\n",
        "        'learningRate': {'values': [1e-3,1e-4]},\n",
        "        'optimizer': {'values': ['SGD', 'MGD', 'NAGD', 'RMSPROP', 'ADAM', 'NADAM']},\n",
        "        'batchSize': {'values': [16, 32, 64]},\n",
        "        'activationFun': {'values': ['tanh','sigmoid','relu']},\n",
        "        'weightInit': {'values': ['random', 'xavier']},\n",
        "        'weightDecay': {'values': [0,0.0005,0.5]},\n",
        "        'loss_Fun':{'values':['crossEntropy','MSE']}\n",
        "\n",
        "    }\n",
        "}\n",
        "\n",
        "sweepId = wandb.sweep(sweep_params, project='cs23m035_DL_Assignment1')\n",
        "wandb.agent(sweepId, function=main_fun)\n"
      ],
      "metadata": {
        "id": "u4klfrAsNxL8"
      },
      "execution_count": null,
      "outputs": []
    }
  ]
}