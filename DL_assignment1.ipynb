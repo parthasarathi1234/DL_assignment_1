{
  "nbformat": 4,
  "nbformat_minor": 0,
  "metadata": {
    "colab": {
      "provenance": [],
      "collapsed_sections": [
        "Up23WKX5nIS2",
        "Zqk2S9SqCpPz",
        "9QSL5dR_7-fl",
        "mC1eSGUobq55",
        "Hj26NfAPFQ0v",
        "LbUrRLAPN6tC",
        "NBKoguhhX2O5"
      ],
      "mount_file_id": "1ECsNqilPtDFQKYYhSdFApjVx_DklrB5i",
      "authorship_tag": "ABX9TyPQrqJmiznUuCiTlzklRCFs",
      "include_colab_link": true
    },
    "kernelspec": {
      "name": "python3",
      "display_name": "Python 3"
    },
    "language_info": {
      "name": "python"
    }
  },
  "cells": [
    {
      "cell_type": "markdown",
      "metadata": {
        "id": "view-in-github",
        "colab_type": "text"
      },
      "source": [
        "<a href=\"https://colab.research.google.com/github/parthasarathi1234/DL_assignment_1/blob/main/DL_assignment1.ipynb\" target=\"_parent\"><img src=\"https://colab.research.google.com/assets/colab-badge.svg\" alt=\"Open In Colab\"/></a>"
      ]
    },
    {
      "cell_type": "code",
      "execution_count": 266,
      "metadata": {
        "id": "3IiiF-5w6R0h"
      },
      "outputs": [],
      "source": [
        "from keras.datasets import fashion_mnist\n",
        "import matplotlib.pyplot as plt\n",
        "import numpy as np\n",
        "from sklearn.model_selection import train_test_split"
      ]
    },
    {
      "cell_type": "code",
      "source": [
        "(x_train,y_train),(x_test,y_test)=fashion_mnist.load_data();"
      ],
      "metadata": {
        "colab": {
          "base_uri": "https://localhost:8080/"
        },
        "id": "bTO8T-pm7aCJ",
        "outputId": "87d937a9-0b15-410f-89d1-411f29c10df4"
      },
      "execution_count": 2,
      "outputs": [
        {
          "output_type": "stream",
          "name": "stdout",
          "text": [
            "Downloading data from https://storage.googleapis.com/tensorflow/tf-keras-datasets/train-labels-idx1-ubyte.gz\n",
            "29515/29515 [==============================] - 0s 0us/step\n",
            "Downloading data from https://storage.googleapis.com/tensorflow/tf-keras-datasets/train-images-idx3-ubyte.gz\n",
            "26421880/26421880 [==============================] - 0s 0us/step\n",
            "Downloading data from https://storage.googleapis.com/tensorflow/tf-keras-datasets/t10k-labels-idx1-ubyte.gz\n",
            "5148/5148 [==============================] - 0s 0us/step\n",
            "Downloading data from https://storage.googleapis.com/tensorflow/tf-keras-datasets/t10k-images-idx3-ubyte.gz\n",
            "4422102/4422102 [==============================] - 0s 0us/step\n"
          ]
        }
      ]
    },
    {
      "cell_type": "code",
      "source": [
        "x_train_images,x_text_images,y_train_images,y_test_images=train_test_split(x_train,y_train,test_size=0.1)"
      ],
      "metadata": {
        "id": "RNALA-qb0e50"
      },
      "execution_count": 270,
      "outputs": []
    },
    {
      "cell_type": "code",
      "source": [
        "print(x_train.shape,y_train.shape,x_test.shape,y_test.shape)\n",
        "print(x_train_images.shape,x_text_images.shape,y_train_images.shape,y_test_images.shape)"
      ],
      "metadata": {
        "colab": {
          "base_uri": "https://localhost:8080/"
        },
        "id": "X3cqPWxI7cUz",
        "outputId": "23411231-e20b-4101-eac9-39399fc71b0d"
      },
      "execution_count": 271,
      "outputs": [
        {
          "output_type": "stream",
          "name": "stdout",
          "text": [
            "(60000, 28, 28) (60000,) (10000, 28, 28) (10000,)\n",
            "(54000, 28, 28) (6000, 28, 28) (54000,) (6000,)\n"
          ]
        }
      ]
    },
    {
      "cell_type": "markdown",
      "source": [
        "#Question1"
      ],
      "metadata": {
        "id": "Up23WKX5nIS2"
      }
    },
    {
      "cell_type": "code",
      "source": [
        "n=0\n",
        "i=0\n",
        "while(n!=9):\n",
        "  if(y_train[i]==n):\n",
        "    plt.subplot(3,3,n+1)\n",
        "    n=n+1\n",
        "\n",
        "    plt.xticks([])\n",
        "    plt.yticks([])\n",
        "    plt.imshow(x_train[i])\n",
        "    plt.xlabel(y_train[i])\n",
        "  i=i+1\n",
        "\n",
        "plt.show()"
      ],
      "metadata": {
        "colab": {
          "base_uri": "https://localhost:8080/",
          "height": 426
        },
        "id": "z7s2J_I47l-3",
        "outputId": "c5222fec-bc31-46d0-9a6b-f3ba879e98e7"
      },
      "execution_count": null,
      "outputs": [
        {
          "output_type": "display_data",
          "data": {
            "text/plain": [
              "<Figure size 640x480 with 9 Axes>"
            ],
            "image/png": "[encoded data removed]"
          },
          "metadata": {}
        }
      ]
    },
    {
      "cell_type": "markdown",
      "source": [
        "#Question 2\n"
      ],
      "metadata": {
        "id": "HfWSu8Q-Cmvg"
      }
    },
    {
      "cell_type": "markdown",
      "source": [
        "### weights generation"
      ],
      "metadata": {
        "id": "Zqk2S9SqCpPz"
      }
    },
    {
      "cell_type": "code",
      "source": [
        "def weight(No_of_layers,neurons):\n",
        "  weights=[]\n",
        "  bias=[]\n",
        "\n",
        "\n",
        "  # input layer\n",
        "  weights.append(0.01*np.random.randn(neurons,784))\n",
        "  bias.append(0.01*np.random.randn(neurons,1))\n",
        "\n",
        "  # Hidden layer\n",
        "\n",
        "  for i in range(1,No_of_layers):\n",
        "    weights.append(0.01*np.random.randn(neurons,neurons))\n",
        "    bias.append(0.01*np.random.randn(neurons,1))\n",
        "\n",
        "  # output layer\n",
        "  weights.append(0.01*np.random.randn(10,neurons))\n",
        "  bias.append(0.01*np.random.randn(10,1))\n",
        "  return weights,bias\n",
        "\n",
        "\n",
        "\n",
        "\n",
        "  # for i in range(No_of_layers):\n",
        "  #   neurons.append(int(input()))   # storing no of neurons in each layer\n",
        "\n",
        "  # weights=[]\n",
        "  # bias=[]\n",
        "\n",
        "\n",
        "  # # input layer\n",
        "  # weights.append(np.random.randn(neurons[0],784))\n",
        "  # bias.append(np.random.randn(neurons[0],1))\n",
        "\n",
        "  # # Hidden layer\n",
        "\n",
        "  # for i in range(1,No_of_layers):\n",
        "  #   weights.append(np.random.randn(neurons[i],neurons[i-1]))\n",
        "  #   bias.append(np.random.randn(neurons[i],1))\n",
        "\n",
        "  # # output layer\n",
        "  # weights.append(np.random.randn(10,neurons[No_of_layers-1]))\n",
        "  # bias.append(np.random.randn(10,1))\n",
        "  # return weights,bias\n",
        "\n",
        "  # print(len(weights))\n",
        "  # for i in range(len(weights)):\n",
        "  #   print(weights[i].shape)\n",
        "\n",
        "  # for i in range(len(weights)):\n",
        "  #   print(bias[i].shape)"
      ],
      "metadata": {
        "id": "Ryknymv2sSpl"
      },
      "execution_count": 138,
      "outputs": []
    },
    {
      "cell_type": "markdown",
      "source": [
        "### activation functions"
      ],
      "metadata": {
        "id": "9QSL5dR_7-fl"
      }
    },
    {
      "cell_type": "code",
      "source": [
        "def sigmoid(a):\n",
        "  z=np.clip(a,-500, 500)\n",
        "  return 1 / (1 + np.exp(-z))\n",
        "\n",
        "def tanh(a):\n",
        "  z=np.clip(a,-50,50)\n",
        "  return np.tanh(z)\n",
        "\n",
        "def softmax(a):\n",
        "  x=1e-6\n",
        "  return (np.exp(a-max(a))/(sum(np.exp(a-max(a)))+x))\n",
        "\n",
        "def tanh_derivative(z):\n",
        "  return 1-np.tanh(z)**2\n",
        "\n",
        "def relu(Z):\n",
        "    A = np.maximum(0, Z)\n",
        "    return A\n",
        "\n",
        "def relu_derivative(z):\n",
        "  return np.where(z>0,1,0)\n",
        "\n",
        "def sigmoid_derivative(z):\n",
        "    return sigmoid(z) * (1 - sigmoid(z))"
      ],
      "metadata": {
        "id": "hORB8mTSM0vH"
      },
      "execution_count": 177,
      "outputs": []
    },
    {
      "cell_type": "markdown",
      "source": [
        "### forward propagation"
      ],
      "metadata": {
        "id": "y4EW5jXOWMPx"
      }
    },
    {
      "cell_type": "code",
      "source": [
        "def  feeb_forward(x,layers,act,wei,b):\n",
        "  pre_activation=[]\n",
        "  activation=[]\n",
        "  z=x.flatten().reshape(784,1)/255.0\n",
        "  activation.append(z)\n",
        "  for i in range(layers):\n",
        "    # print(weights[i].shape,z.shape,b[i].shape)\n",
        "\n",
        "    a=b[i]+np.dot(wei[i],z)  # pre activation\n",
        "    # 243/'k'\n",
        "    pre_activation.append(a)\n",
        "    if(act==\"sigmoid\"):\n",
        "      z=sigmoid(a)\n",
        "    elif(act==\"tanh\"):\n",
        "      z=tanh(a)\n",
        "    activation.append(z)\n",
        "\n",
        "  a=b[layers]+np.dot(wei[layers],z)\n",
        "  pre_activation.append(a)\n",
        "  z=softmax(a)\n",
        "  activation.append(z)\n",
        "  return pre_activation,activation,z"
      ],
      "metadata": {
        "id": "2dm4GIbMLfba"
      },
      "execution_count": 272,
      "outputs": []
    },
    {
      "cell_type": "markdown",
      "source": [
        "###Backward Propagation"
      ],
      "metadata": {
        "id": "_xhV_yrHWPec"
      }
    },
    {
      "cell_type": "code",
      "source": [
        "def back_propagation(x_t,y_train,z,H,A,layers,W,activation):\n",
        "  update_x=x_t.reshape(784,1)/255.0\n",
        "  dw=[]\n",
        "  db=[]\n",
        "  y=np.zeros((10,1))\n",
        "  y[y_train]=1;\n",
        "  loss=-np.subtract(y,z)\n",
        "  for k in range(layers,0,-1):\n",
        "    # print(loss.shape,H[k].shape,z.shape,y.shape)\n",
        "    loss_dw=np.matmul(loss,H[k].T)\n",
        "\n",
        "    # 243/'k'\n",
        "    # print(loss_dw.shape)\n",
        "    dw.append(loss_dw)\n",
        "\n",
        "    loss_db=loss\n",
        "    db.append(loss_db)\n",
        "\n",
        "    loss_dh=np.matmul(W[k].T,loss)\n",
        "\n",
        "    # if(k>0):\n",
        "    if(activation==\"tanh\"):\n",
        "      x=tanh_derivative(A[k-1])\n",
        "    elif(activation==\"sigmoid\"):\n",
        "      x=sigmoid_derivative(A[k-1])\n",
        "    else:\n",
        "      x=relu_derivative(A[k-1])\n",
        "    loss=np.multiply(loss_dh,x)\n",
        "    # else:\n",
        "    #   loss=loss_dh\n",
        "  # print(\"?l(loss,update_x.T).shape)\n",
        "  dw.append(np.matmul(loss,update_x.T))\n",
        "  db.append(loss)\n",
        "  return dw,db"
      ],
      "metadata": {
        "id": "Mc3-A1wsWSFU"
      },
      "execution_count": 273,
      "outputs": []
    },
    {
      "cell_type": "markdown",
      "source": [
        "# Question 3"
      ],
      "metadata": {
        "id": "3t0YWqrzE30j"
      }
    },
    {
      "cell_type": "markdown",
      "source": [
        "### accuracy"
      ],
      "metadata": {
        "id": "6mzBa3DaBARI"
      }
    },
    {
      "cell_type": "code",
      "source": [
        "def accuracy(theta_w,theta_b,x_train,y_train,activationfun,split):\n",
        "  print(\"accuracy\")\n",
        "  accuracy=0\n",
        "  for i in range(int(len(x_train))):\n",
        "    act,p_act,z=feeb_forward(x_train[i],3,activationfun,theta_w,theta_b)\n",
        "    if(np.argmax(act[-1])==y_train[i]):\n",
        "      accuracy+=1\n",
        "  return (accuracy/(int(len(x_train))))*100"
      ],
      "metadata": {
        "id": "NKE1biP857un"
      },
      "execution_count": 113,
      "outputs": []
    },
    {
      "cell_type": "markdown",
      "source": [
        "### stochastic gradient descent"
      ],
      "metadata": {
        "id": "WmRTwjcJvdT7"
      }
    },
    {
      "cell_type": "code",
      "source": [
        "def stochastic_gradient_descent(epochs,eta,layers,neurons):\n",
        "  W,B=weight(layers,neurons)\n",
        "  for i in range(epochs):\n",
        "    dw=[[0 for colu in range(row)] for row in range(len(W))]\n",
        "    db=[[0 for colu in range(row)] for row in range(len(B))]\n",
        "    for j in range(54000):\n",
        "      A,H,Z=feeb_forward(x_train[j],layers,\"tanh\",W,B)\n",
        "      current_dw,current_db=back_propagation(x_train[j],y_train[j],Z,H,A,layers,W,\"tanh\")\n",
        "      current_dw.reverse()\n",
        "      current_db.reverse()\n",
        "      for k in range(len(W)):\n",
        "        # print(W[k].shape,current_dw[k].shape)\n",
        "        W[k]=W[k]-eta*current_dw[k]\n",
        "        B[k]=B[k]-eta*current_db[k]\n",
        "    print(accuracy(W,B,x_train,y_train,\"tanh\",0.1))"
      ],
      "metadata": {
        "id": "BzvkNkOOE3XJ"
      },
      "execution_count": 309,
      "outputs": []
    },
    {
      "cell_type": "code",
      "source": [
        "stochastic_gradient_descent(1,0.1,3,16)"
      ],
      "metadata": {
        "colab": {
          "base_uri": "https://localhost:8080/"
        },
        "id": "Y-AWxR9Y6Lfg",
        "outputId": "ad0c6791-cba1-467e-e01d-c3786bcc8d3f"
      },
      "execution_count": 310,
      "outputs": [
        {
          "output_type": "stream",
          "name": "stdout",
          "text": [
            "accuracy\n",
            "29.81333333333333\n"
          ]
        }
      ]
    },
    {
      "cell_type": "markdown",
      "source": [
        "### Momentum gradient descent"
      ],
      "metadata": {
        "id": "YgaCzCDnT3Og"
      }
    },
    {
      "cell_type": "code",
      "source": [
        "def momentum_gradient_descent(epochs,eta,beta,layers,neurons,activation_fun):\n",
        "  W,B=weight(layers,neurons)\n",
        "  pre_v_w=[0 for i in range(layers+1)]\n",
        "  pre_v_b=[0 for i in range(layers+1)]\n",
        "  dw=[0 for i in range(layers+1)]\n",
        "  db=[0 for i in range(layers+1)]\n",
        "  for j in range(54000):\n",
        "    A,H,Z=feeb_forward(x_train[j],layers,activation_fun,W,B)\n",
        "    current_dw,current_db=back_propagation(x_train[j],y_train[j],Z,H,A,layers,W,activation_fun)\n",
        "    current_dw.reverse()\n",
        "    current_db.reverse()\n",
        "\n",
        "    for k in range(len(W)):\n",
        "      dw[k]+=current_dw[k]\n",
        "      db[k]+=current_db[k]\n",
        "  for k in range(len(W)):\n",
        "    v_w=beta*pre_v_w[k]+dw[k]\n",
        "    v_b=beta*pre_v_b[k]+db[k]\n",
        "\n",
        "    W[k]=W[k]-eta*v_w-(0.001*W[k])\n",
        "    B[k]=B[k]-eta*v_b\n",
        "    pre_v_w[k]=v_w\n",
        "    pre_v_b[k]=v_b\n",
        "  print(accuracy(W,B,x_train,y_train,activation_fun,0.1))"
      ],
      "metadata": {
        "id": "ECGQrBoW6jdS"
      },
      "execution_count": 293,
      "outputs": []
    },
    {
      "cell_type": "code",
      "source": [
        "momentum_gradient_descent(1,1.0,0.9,3,16,\"sigmoid\")"
      ],
      "metadata": {
        "colab": {
          "base_uri": "https://localhost:8080/"
        },
        "id": "BqlSMXoXWapy",
        "outputId": "bce2acee-1595-48fe-b100-fe0b10eaed7b"
      },
      "execution_count": 292,
      "outputs": [
        {
          "output_type": "stream",
          "name": "stdout",
          "text": [
            "accuracy\n",
            "10.0\n"
          ]
        }
      ]
    },
    {
      "cell_type": "markdown",
      "source": [
        "### Nesterov accelerated gradient descent"
      ],
      "metadata": {
        "id": "mC1eSGUobq55"
      }
    },
    {
      "cell_type": "code",
      "source": [
        "def nesterov_accelerated_gradient_descent(x_train,y_train,epochs,layers,neurons,beta,eta):\n",
        "  W,B=weight(layers,neurons)\n",
        "  pre_v_w=[0 for i in range(layers+1)]\n",
        "  pre_v_b=[0 for i in range(layers+1)]\n",
        "\n",
        "  v_w=[0 for i in range(layers+1)]\n",
        "  v_b=[0 for i in range(layers+1)]\n",
        "  for i in range(epochs):\n",
        "    dw=[0 for i in range(layers+1)]\n",
        "    db=[0 for i in range(layers+1)]\n",
        "    for k in range(len(W)):\n",
        "      W[k] = W[k] - beta * pre_v_w[k]\n",
        "      B[k] = B[k] - beta * pre_v_b[k]\n",
        "    for k in range(54000):\n",
        "      A,H,Z=feeb_forward(x_train[k],layers,\"sigmoid\",W,B)\n",
        "      current_dw,current_db=back_propagation(x_train[k],y_train[k],Z,H,A,layers,W,\"sigmoid\")\n",
        "      current_dw.reverse()\n",
        "      current_db.reverse()\n",
        "\n",
        "    for k in range(len(W)):\n",
        "        dw[k]+=current_dw[k]\n",
        "        db[k]+=current_db[k]\n",
        "        # pre_v_w[k]=eta*dw[k]+beta*pre_v_w[k]\n",
        "        # pre_v_b[k]=eta*db[k]+beta*pre_v_b[k]\n",
        "    for k in range(len(W)):\n",
        "      v_w=beta*pre_v_w[k]+eta*dw[k]\n",
        "      v_b=beta*pre_v_b[k]+eta*db[k]\n",
        "\n",
        "      W[k]=W[k]-v_w\n",
        "      B[k]=B[k]-v_b\n",
        "      pre_v_w[k]=v_w\n",
        "      pre_v_b[k]=v_b\n",
        "    print(accuracy(W,B,x_train,y_train,\"sigmoid\",0.1))"
      ],
      "metadata": {
        "id": "jA6zlrltbyYn"
      },
      "execution_count": 304,
      "outputs": []
    },
    {
      "cell_type": "code",
      "source": [
        "nesterov_accelerated_gradient_descent(x_train,y_train,1,3,16,0.1,0.9)"
      ],
      "metadata": {
        "colab": {
          "base_uri": "https://localhost:8080/"
        },
        "id": "Zd_jyqVGBJke",
        "outputId": "78bb34fc-639f-41e7-d71f-378b633129f9"
      },
      "execution_count": 305,
      "outputs": [
        {
          "output_type": "stream",
          "name": "stdout",
          "text": [
            "accuracy\n",
            "10.0\n"
          ]
        }
      ]
    },
    {
      "cell_type": "markdown",
      "source": [
        "### rmsprop"
      ],
      "metadata": {
        "id": "Hj26NfAPFQ0v"
      }
    },
    {
      "cell_type": "code",
      "source": [
        "def rms_prop(x_train,y_train,epochs,layers,neurons,beta,eta):\n",
        "  W,B=weight(layers,neurons)\n",
        "  eps=1e-4\n",
        "  v_w=[0 for i in range(layers+1)]\n",
        "  v_b=[0 for i in range(layers+1)]\n",
        "\n",
        "  for i in range(epochs):\n",
        "    dw=[0 for i in range(layers+1)]\n",
        "    db=[0 for i in range(layers+1)]\n",
        "    for j in range(54000):\n",
        "      A,H,Z=feeb_forward(x_train[j],layers,\"sigmoid\",W,B)\n",
        "      current_dw,current_db=back_propagation(x_train[j],y_train[j],Z,H,A,layers,W,\"sigmoid\")\n",
        "      current_dw.reverse()\n",
        "      current_db.reverse()\n",
        "\n",
        "    for k in range(len(W)):\n",
        "      dw[k]=dw[k]+current_dw[k]\n",
        "      db[k]=db[k]+current_db[k]\n",
        "    for k in range(len(W)):\n",
        "      v_w[k]=beta*v_w[k]+(1-beta)*pow(dw[k],2)\n",
        "      v_b[k]=beta*v_b[k]+(1-beta)*pow(db[k],2)\n",
        "      W[k]=W[k]-eta*dw[k]/(np.sqrt(v_w[k])+eps)\n",
        "      B[k]=B[k]-eta*db[k]/(np.sqrt(v_b[k])+eps)\n",
        "    print(accuracy(W,B,x_train,y_train,\"sigmoid\",0.1))"
      ],
      "metadata": {
        "id": "w2raMHDTFSG_"
      },
      "execution_count": 306,
      "outputs": []
    },
    {
      "cell_type": "code",
      "source": [
        "weights,bias=weight(3,16)\n",
        "rms_prop(x_train,y_train,1,3,16,0.5,0.1)"
      ],
      "metadata": {
        "colab": {
          "base_uri": "https://localhost:8080/"
        },
        "id": "gCOXBiruIfQ_",
        "outputId": "ed449a4e-3f83-42d4-bb45-b1f18354bae0"
      },
      "execution_count": 307,
      "outputs": [
        {
          "output_type": "stream",
          "name": "stdout",
          "text": [
            "accuracy\n",
            "10.0\n"
          ]
        }
      ]
    },
    {
      "cell_type": "markdown",
      "source": [
        "### adam"
      ],
      "metadata": {
        "id": "LbUrRLAPN6tC"
      }
    },
    {
      "cell_type": "code",
      "source": [
        "def adam(x_train,y_train,epochs,eta,beta1,beta2,W,B,activation_fun,layers,weightDecay):\n",
        "  v_w=[np.zeros_like(w) for w in W]\n",
        "  v_b=[np.zeros_like(w) for w in B]\n",
        "  m_w=[np.zeros_like(w) for w in W]\n",
        "  m_b=[np.zeros_like(w) for w in B]\n",
        "  eps=1e-10\n",
        "  for i in range(epochs):\n",
        "      dw=[np.zeros_like(w) for w in W]\n",
        "      db=[np.zeros_like(w) for w in B]\n",
        "      for j in range(60000):\n",
        "        A,H,Z=feeb_forward(x_train[j],layers,activation_fun,W,B)\n",
        "        current_dw,current_db=back_propagation(x_train[j],y_train[j],Z,H,A,layers,W,activation_fun)\n",
        "        current_dw.reverse()\n",
        "        current_db.reverse()\n",
        "      for k in range(len(W)):\n",
        "        dw[k]=dw[k]+current_dw[k]\n",
        "        db[k]=db[k]+current_db[k]\n",
        "      for k in range(len(W)):\n",
        "        m_w[k]=beta1*m_w[k]+(1-beta1)*dw[k]\n",
        "        m_b[k]=beta1*m_b[k]+(1-beta1)*db[k]\n",
        "        v_w[k]=beta2*v_w[k]+(1-beta2)*pow(dw[k],2)\n",
        "        v_b[k]=beta2*v_b[k]+(1-beta2)*pow(db[k],2)\n",
        "\n",
        "        m_w_hat=m_w[k]/(1-pow(beta1,k+1))\n",
        "        m_b_hat=m_b[k]/(1-pow(beta1,k+1))\n",
        "        v_w_hat=v_w[k]/(1-pow(beta2,k+1))\n",
        "        v_b_hat=v_b[k]/(1-pow(beta2,k+1))\n",
        "\n",
        "        W[k]=W[k]-eta*m_w_hat/(np.sqrt(v_w_hat)+eps) - (weightDecay*W[k])\n",
        "        B[k]=B[k]-eta*m_b_hat/(np.sqrt(v_b_hat)+eps)\n",
        "      print(accuracy(W,B,x_train,y_train,activation_fun,0.1))"
      ],
      "metadata": {
        "id": "DnLOou_oN73m"
      },
      "execution_count": 207,
      "outputs": []
    },
    {
      "cell_type": "code",
      "source": [
        "weights,bias=weight(3,16)\n",
        "adam(x_train,y_train,1,0.1,0.9,0.999,weights,bias,\"sigmoid\",3,0)"
      ],
      "metadata": {
        "colab": {
          "base_uri": "https://localhost:8080/"
        },
        "id": "1Oyw4fa0Ou9J",
        "outputId": "7f7b79e3-9cf0-4d97-81d0-dba0feaa2f68"
      },
      "execution_count": 208,
      "outputs": [
        {
          "output_type": "stream",
          "name": "stdout",
          "text": [
            "accuracy\n",
            "10.0\n"
          ]
        }
      ]
    },
    {
      "cell_type": "markdown",
      "source": [
        "### nadam"
      ],
      "metadata": {
        "id": "NBKoguhhX2O5"
      }
    },
    {
      "cell_type": "code",
      "source": [
        "def nadam(x_train,y_train,eta,beta1,beta2,layers,epochs,W,B,activation_fun):\n",
        "  v_w=[np.zeros_like(w) for w in W]\n",
        "  v_b=[np.zeros_like(w) for w in B]\n",
        "  m_w=[np.zeros_like(w) for w in W]\n",
        "  m_b=[np.zeros_like(w) for w in B]\n",
        "  eps=1e-10\n",
        "  for i in range(epochs):\n",
        "    dw=[np.zeros_like(w) for w in W]\n",
        "    db=[np.zeros_like(w) for w in B]\n",
        "    for j in range(60000):\n",
        "      A,H,Z=feeb_forward(x_train[j],layers,activation_fun,W,B)\n",
        "      current_dw,current_db=back_propagation(x_train[j],y_train[j],Z,H,A,layers,W,activation_fun)\n",
        "      current_dw.reverse()\n",
        "      current_db.reverse()\n",
        "\n",
        "    for k in range(len(W)):\n",
        "      dw[k]+=current_dw[k]\n",
        "      db[k]+=current_db[k]\n",
        "\n",
        "    for k in range(len(W)):\n",
        "      m_w[k]=beta1*m_w[k]+(1-beta1)*dw[k]\n",
        "      m_b[k]=beta1*m_b[k]+(1-beta1)*db[k]\n",
        "      v_w[k]=beta2*v_w[k]+(1-beta2)*pow(dw[k],2)\n",
        "      v_b[k]=beta2*v_b[k]+(1-beta2)*pow(db[k],2)\n",
        "\n",
        "      m_w_hat=m_w[k]/(1-pow(beta1,i+1))\n",
        "      m_b_hat=m_b[k]/(1-pow(beta1,i+1))\n",
        "      v_w_hat=v_w[k]/(1-pow(beta2,i+1))\n",
        "      v_b_hat=v_b[k]/(1-pow(beta2,i+1))\n",
        "\n",
        "      W[k]=W[k]-(eta/(np.sqrt(v_w_hat+eps)))*(beta1*m_w_hat+(1-beta1)*dw[k]/(1-beta1**(k+1)))\n",
        "      B[k]=B[k]-(eta/(np.sqrt(v_b_hat+eps)))*(beta1*m_b_hat+(1-beta1)*db[k]/(1-beta1**(k+1)))\n",
        "    print(accuracy(W,B,x_train,y_train,activation_fun,0.1))\n",
        ""
      ],
      "metadata": {
        "id": "hm-uVvVQRbPr"
      },
      "execution_count": 205,
      "outputs": []
    },
    {
      "cell_type": "code",
      "source": [
        "weights,bias=weight(3,16)\n",
        "nadam(x_train,y_train,0.1,0.9,0.99,3,1,weights,bias,\"sigmoid\")"
      ],
      "metadata": {
        "colab": {
          "base_uri": "https://localhost:8080/"
        },
        "id": "LkRwpUkHX5OS",
        "outputId": "b82cbc63-1953-4074-f54f-34383bd3d731"
      },
      "execution_count": 206,
      "outputs": [
        {
          "output_type": "stream",
          "name": "stdout",
          "text": [
            "accuracy\n",
            "10.0\n"
          ]
        }
      ]
    },
    {
      "cell_type": "markdown",
      "source": [
        "###all"
      ],
      "metadata": {
        "id": "VZdpU5sXnu0b"
      }
    },
    {
      "cell_type": "code",
      "source": [
        "stochastic_gradient_descent(x_train,y_train,1,0.1,3,16)\n",
        "\n",
        "momentum_gradient_descent(x_train,y_train,1,weights,bias,1.0,0.9,3)\n",
        "\n",
        "nesterov_accelerated_gradient_descent(x_train,y_train,weights,bias,1,3,0.9,0.9)\n",
        "\n",
        "rms_prop(x_train,y_train,weights,bias,1,3,0.5,0.1)\n",
        "\n",
        "weights,bias=weight(3,16)\n",
        "adam(x_train,y_train,1,0.1,0.9,0.999,weights,bias,\"sigmoid\",3,0)\n",
        "\n",
        "weights,bias=weight(3,16)\n",
        "nadam(x_train,y_train,0.1,0.9,0.99,3,1,weights,bias,\"sigmoid\")"
      ],
      "metadata": {
        "colab": {
          "base_uri": "https://localhost:8080/",
          "height": 645
        },
        "id": "higGmoqPnxMM",
        "outputId": "649772ef-6f13-4340-b5d8-2531db91d7b8"
      },
      "execution_count": 279,
      "outputs": [
        {
          "output_type": "stream",
          "name": "stdout",
          "text": [
            "accuracy\n",
            "34.71333333333334\n",
            "accuracy\n",
            "10.0\n",
            "accuracy\n",
            "10.0\n",
            "accuracy\n",
            "10.0\n",
            "accuracy\n",
            "10.0\n",
            "accuracy\n",
            "10.0\n",
            "accuracy\n",
            "10.0\n",
            "accuracy\n"
          ]
        },
        {
          "output_type": "error",
          "ename": "KeyboardInterrupt",
          "evalue": "",
          "traceback": [
            "\u001b[0;31m---------------------------------------------------------------------------\u001b[0m",
            "\u001b[0;31mKeyboardInterrupt\u001b[0m                         Traceback (most recent call last)",
            "\u001b[0;32m<ipython-input-279-0e9352ac010f>\u001b[0m in \u001b[0;36m<cell line: 13>\u001b[0;34m()\u001b[0m\n\u001b[1;32m     11\u001b[0m \u001b[0;34m\u001b[0m\u001b[0m\n\u001b[1;32m     12\u001b[0m \u001b[0mweights\u001b[0m\u001b[0;34m,\u001b[0m\u001b[0mbias\u001b[0m\u001b[0;34m=\u001b[0m\u001b[0mweight\u001b[0m\u001b[0;34m(\u001b[0m\u001b[0;36m3\u001b[0m\u001b[0;34m,\u001b[0m\u001b[0;36m16\u001b[0m\u001b[0;34m)\u001b[0m\u001b[0;34m\u001b[0m\u001b[0;34m\u001b[0m\u001b[0m\n\u001b[0;32m---> 13\u001b[0;31m \u001b[0madam\u001b[0m\u001b[0;34m(\u001b[0m\u001b[0mx_train\u001b[0m\u001b[0;34m,\u001b[0m\u001b[0my_train\u001b[0m\u001b[0;34m,\u001b[0m\u001b[0;36m1\u001b[0m\u001b[0;34m,\u001b[0m\u001b[0;36m0.1\u001b[0m\u001b[0;34m,\u001b[0m\u001b[0;36m0.9\u001b[0m\u001b[0;34m,\u001b[0m\u001b[0;36m0.999\u001b[0m\u001b[0;34m,\u001b[0m\u001b[0mweights\u001b[0m\u001b[0;34m,\u001b[0m\u001b[0mbias\u001b[0m\u001b[0;34m,\u001b[0m\u001b[0;34m\"sigmoid\"\u001b[0m\u001b[0;34m,\u001b[0m\u001b[0;36m3\u001b[0m\u001b[0;34m,\u001b[0m\u001b[0;36m0\u001b[0m\u001b[0;34m)\u001b[0m\u001b[0;34m\u001b[0m\u001b[0;34m\u001b[0m\u001b[0m\n\u001b[0m\u001b[1;32m     14\u001b[0m \u001b[0;34m\u001b[0m\u001b[0m\n\u001b[1;32m     15\u001b[0m \u001b[0mweights\u001b[0m\u001b[0;34m,\u001b[0m\u001b[0mbias\u001b[0m\u001b[0;34m=\u001b[0m\u001b[0mweight\u001b[0m\u001b[0;34m(\u001b[0m\u001b[0;36m3\u001b[0m\u001b[0;34m,\u001b[0m\u001b[0;36m16\u001b[0m\u001b[0;34m)\u001b[0m\u001b[0;34m\u001b[0m\u001b[0;34m\u001b[0m\u001b[0m\n",
            "\u001b[0;32m<ipython-input-207-1eaa629428eb>\u001b[0m in \u001b[0;36madam\u001b[0;34m(x_train, y_train, epochs, eta, beta1, beta2, W, B, activation_fun, layers, weightDecay)\u001b[0m\n\u001b[1;32m     29\u001b[0m         \u001b[0mW\u001b[0m\u001b[0;34m[\u001b[0m\u001b[0mk\u001b[0m\u001b[0;34m]\u001b[0m\u001b[0;34m=\u001b[0m\u001b[0mW\u001b[0m\u001b[0;34m[\u001b[0m\u001b[0mk\u001b[0m\u001b[0;34m]\u001b[0m\u001b[0;34m-\u001b[0m\u001b[0meta\u001b[0m\u001b[0;34m*\u001b[0m\u001b[0mm_w_hat\u001b[0m\u001b[0;34m/\u001b[0m\u001b[0;34m(\u001b[0m\u001b[0mnp\u001b[0m\u001b[0;34m.\u001b[0m\u001b[0msqrt\u001b[0m\u001b[0;34m(\u001b[0m\u001b[0mv_w_hat\u001b[0m\u001b[0;34m)\u001b[0m\u001b[0;34m+\u001b[0m\u001b[0meps\u001b[0m\u001b[0;34m)\u001b[0m \u001b[0;34m-\u001b[0m \u001b[0;34m(\u001b[0m\u001b[0mweightDecay\u001b[0m\u001b[0;34m*\u001b[0m\u001b[0mW\u001b[0m\u001b[0;34m[\u001b[0m\u001b[0mk\u001b[0m\u001b[0;34m]\u001b[0m\u001b[0;34m)\u001b[0m\u001b[0;34m\u001b[0m\u001b[0;34m\u001b[0m\u001b[0m\n\u001b[1;32m     30\u001b[0m         \u001b[0mB\u001b[0m\u001b[0;34m[\u001b[0m\u001b[0mk\u001b[0m\u001b[0;34m]\u001b[0m\u001b[0;34m=\u001b[0m\u001b[0mB\u001b[0m\u001b[0;34m[\u001b[0m\u001b[0mk\u001b[0m\u001b[0;34m]\u001b[0m\u001b[0;34m-\u001b[0m\u001b[0meta\u001b[0m\u001b[0;34m*\u001b[0m\u001b[0mm_b_hat\u001b[0m\u001b[0;34m/\u001b[0m\u001b[0;34m(\u001b[0m\u001b[0mnp\u001b[0m\u001b[0;34m.\u001b[0m\u001b[0msqrt\u001b[0m\u001b[0;34m(\u001b[0m\u001b[0mv_b_hat\u001b[0m\u001b[0;34m)\u001b[0m\u001b[0;34m+\u001b[0m\u001b[0meps\u001b[0m\u001b[0;34m)\u001b[0m\u001b[0;34m\u001b[0m\u001b[0;34m\u001b[0m\u001b[0m\n\u001b[0;32m---> 31\u001b[0;31m       \u001b[0mprint\u001b[0m\u001b[0;34m(\u001b[0m\u001b[0maccuracy\u001b[0m\u001b[0;34m(\u001b[0m\u001b[0mW\u001b[0m\u001b[0;34m,\u001b[0m\u001b[0mB\u001b[0m\u001b[0;34m,\u001b[0m\u001b[0mx_train\u001b[0m\u001b[0;34m,\u001b[0m\u001b[0my_train\u001b[0m\u001b[0;34m,\u001b[0m\u001b[0mactivation_fun\u001b[0m\u001b[0;34m,\u001b[0m\u001b[0;36m0.1\u001b[0m\u001b[0;34m)\u001b[0m\u001b[0;34m)\u001b[0m\u001b[0;34m\u001b[0m\u001b[0;34m\u001b[0m\u001b[0m\n\u001b[0m",
            "\u001b[0;32m<ipython-input-113-543a46cd9657>\u001b[0m in \u001b[0;36maccuracy\u001b[0;34m(theta_w, theta_b, x_train, y_train, activationfun, split)\u001b[0m\n\u001b[1;32m      3\u001b[0m   \u001b[0maccuracy\u001b[0m\u001b[0;34m=\u001b[0m\u001b[0;36m0\u001b[0m\u001b[0;34m\u001b[0m\u001b[0;34m\u001b[0m\u001b[0m\n\u001b[1;32m      4\u001b[0m   \u001b[0;32mfor\u001b[0m \u001b[0mi\u001b[0m \u001b[0;32min\u001b[0m \u001b[0mrange\u001b[0m\u001b[0;34m(\u001b[0m\u001b[0mint\u001b[0m\u001b[0;34m(\u001b[0m\u001b[0mlen\u001b[0m\u001b[0;34m(\u001b[0m\u001b[0mx_train\u001b[0m\u001b[0;34m)\u001b[0m\u001b[0;34m)\u001b[0m\u001b[0;34m)\u001b[0m\u001b[0;34m:\u001b[0m\u001b[0;34m\u001b[0m\u001b[0;34m\u001b[0m\u001b[0m\n\u001b[0;32m----> 5\u001b[0;31m     \u001b[0mact\u001b[0m\u001b[0;34m,\u001b[0m\u001b[0mp_act\u001b[0m\u001b[0;34m,\u001b[0m\u001b[0mz\u001b[0m\u001b[0;34m=\u001b[0m\u001b[0mfeeb_forward\u001b[0m\u001b[0;34m(\u001b[0m\u001b[0mx_train\u001b[0m\u001b[0;34m[\u001b[0m\u001b[0mi\u001b[0m\u001b[0;34m]\u001b[0m\u001b[0;34m,\u001b[0m\u001b[0;36m3\u001b[0m\u001b[0;34m,\u001b[0m\u001b[0mactivationfun\u001b[0m\u001b[0;34m,\u001b[0m\u001b[0mtheta_w\u001b[0m\u001b[0;34m,\u001b[0m\u001b[0mtheta_b\u001b[0m\u001b[0;34m)\u001b[0m\u001b[0;34m\u001b[0m\u001b[0;34m\u001b[0m\u001b[0m\n\u001b[0m\u001b[1;32m      6\u001b[0m     \u001b[0;32mif\u001b[0m\u001b[0;34m(\u001b[0m\u001b[0mnp\u001b[0m\u001b[0;34m.\u001b[0m\u001b[0margmax\u001b[0m\u001b[0;34m(\u001b[0m\u001b[0mact\u001b[0m\u001b[0;34m[\u001b[0m\u001b[0;34m-\u001b[0m\u001b[0;36m1\u001b[0m\u001b[0;34m]\u001b[0m\u001b[0;34m)\u001b[0m\u001b[0;34m==\u001b[0m\u001b[0my_train\u001b[0m\u001b[0;34m[\u001b[0m\u001b[0mi\u001b[0m\u001b[0;34m]\u001b[0m\u001b[0;34m)\u001b[0m\u001b[0;34m:\u001b[0m\u001b[0;34m\u001b[0m\u001b[0;34m\u001b[0m\u001b[0m\n\u001b[1;32m      7\u001b[0m       \u001b[0maccuracy\u001b[0m\u001b[0;34m+=\u001b[0m\u001b[0;36m1\u001b[0m\u001b[0;34m\u001b[0m\u001b[0;34m\u001b[0m\u001b[0m\n",
            "\u001b[0;32m<ipython-input-272-f93e603a2337>\u001b[0m in \u001b[0;36mfeeb_forward\u001b[0;34m(x, layers, act, wei, b)\u001b[0m\n\u001b[1;32m     11\u001b[0m     \u001b[0mpre_activation\u001b[0m\u001b[0;34m.\u001b[0m\u001b[0mappend\u001b[0m\u001b[0;34m(\u001b[0m\u001b[0ma\u001b[0m\u001b[0;34m)\u001b[0m\u001b[0;34m\u001b[0m\u001b[0;34m\u001b[0m\u001b[0m\n\u001b[1;32m     12\u001b[0m     \u001b[0;32mif\u001b[0m\u001b[0;34m(\u001b[0m\u001b[0mact\u001b[0m\u001b[0;34m==\u001b[0m\u001b[0;34m\"sigmoid\"\u001b[0m\u001b[0;34m)\u001b[0m\u001b[0;34m:\u001b[0m\u001b[0;34m\u001b[0m\u001b[0;34m\u001b[0m\u001b[0m\n\u001b[0;32m---> 13\u001b[0;31m       \u001b[0mz\u001b[0m\u001b[0;34m=\u001b[0m\u001b[0msigmoid\u001b[0m\u001b[0;34m(\u001b[0m\u001b[0ma\u001b[0m\u001b[0;34m)\u001b[0m\u001b[0;34m\u001b[0m\u001b[0;34m\u001b[0m\u001b[0m\n\u001b[0m\u001b[1;32m     14\u001b[0m     \u001b[0;32melif\u001b[0m\u001b[0;34m(\u001b[0m\u001b[0mact\u001b[0m\u001b[0;34m==\u001b[0m\u001b[0;34m\"tanh\"\u001b[0m\u001b[0;34m)\u001b[0m\u001b[0;34m:\u001b[0m\u001b[0;34m\u001b[0m\u001b[0;34m\u001b[0m\u001b[0m\n\u001b[1;32m     15\u001b[0m       \u001b[0mz\u001b[0m\u001b[0;34m=\u001b[0m\u001b[0mtanh\u001b[0m\u001b[0;34m(\u001b[0m\u001b[0ma\u001b[0m\u001b[0;34m)\u001b[0m\u001b[0;34m\u001b[0m\u001b[0;34m\u001b[0m\u001b[0m\n",
            "\u001b[0;32m<ipython-input-177-18032c788f6d>\u001b[0m in \u001b[0;36msigmoid\u001b[0;34m(a)\u001b[0m\n\u001b[1;32m      1\u001b[0m \u001b[0;32mdef\u001b[0m \u001b[0msigmoid\u001b[0m\u001b[0;34m(\u001b[0m\u001b[0ma\u001b[0m\u001b[0;34m)\u001b[0m\u001b[0;34m:\u001b[0m\u001b[0;34m\u001b[0m\u001b[0;34m\u001b[0m\u001b[0m\n\u001b[0;32m----> 2\u001b[0;31m   \u001b[0mz\u001b[0m\u001b[0;34m=\u001b[0m\u001b[0mnp\u001b[0m\u001b[0;34m.\u001b[0m\u001b[0mclip\u001b[0m\u001b[0;34m(\u001b[0m\u001b[0ma\u001b[0m\u001b[0;34m,\u001b[0m\u001b[0;34m-\u001b[0m\u001b[0;36m500\u001b[0m\u001b[0;34m,\u001b[0m \u001b[0;36m500\u001b[0m\u001b[0;34m)\u001b[0m\u001b[0;34m\u001b[0m\u001b[0;34m\u001b[0m\u001b[0m\n\u001b[0m\u001b[1;32m      3\u001b[0m   \u001b[0;32mreturn\u001b[0m \u001b[0;36m1\u001b[0m \u001b[0;34m/\u001b[0m \u001b[0;34m(\u001b[0m\u001b[0;36m1\u001b[0m \u001b[0;34m+\u001b[0m \u001b[0mnp\u001b[0m\u001b[0;34m.\u001b[0m\u001b[0mexp\u001b[0m\u001b[0;34m(\u001b[0m\u001b[0;34m-\u001b[0m\u001b[0mz\u001b[0m\u001b[0;34m)\u001b[0m\u001b[0;34m)\u001b[0m\u001b[0;34m\u001b[0m\u001b[0;34m\u001b[0m\u001b[0m\n\u001b[1;32m      4\u001b[0m \u001b[0;32mdef\u001b[0m \u001b[0mtanh\u001b[0m\u001b[0;34m(\u001b[0m\u001b[0ma\u001b[0m\u001b[0;34m)\u001b[0m\u001b[0;34m:\u001b[0m\u001b[0;34m\u001b[0m\u001b[0;34m\u001b[0m\u001b[0m\n\u001b[1;32m      5\u001b[0m   \u001b[0mz\u001b[0m\u001b[0;34m=\u001b[0m\u001b[0mnp\u001b[0m\u001b[0;34m.\u001b[0m\u001b[0mclip\u001b[0m\u001b[0;34m(\u001b[0m\u001b[0ma\u001b[0m\u001b[0;34m,\u001b[0m\u001b[0;34m-\u001b[0m\u001b[0;36m50\u001b[0m\u001b[0;34m,\u001b[0m\u001b[0;36m50\u001b[0m\u001b[0;34m)\u001b[0m\u001b[0;34m\u001b[0m\u001b[0;34m\u001b[0m\u001b[0m\n",
            "\u001b[0;32m/usr/local/lib/python3.10/dist-packages/numpy/core/fromnumeric.py\u001b[0m in \u001b[0;36mclip\u001b[0;34m(a, a_min, a_max, out, **kwargs)\u001b[0m\n\u001b[1;32m   2167\u001b[0m \u001b[0;34m\u001b[0m\u001b[0m\n\u001b[1;32m   2168\u001b[0m     \"\"\"\n\u001b[0;32m-> 2169\u001b[0;31m     \u001b[0;32mreturn\u001b[0m \u001b[0m_wrapfunc\u001b[0m\u001b[0;34m(\u001b[0m\u001b[0ma\u001b[0m\u001b[0;34m,\u001b[0m \u001b[0;34m'clip'\u001b[0m\u001b[0;34m,\u001b[0m \u001b[0ma_min\u001b[0m\u001b[0;34m,\u001b[0m \u001b[0ma_max\u001b[0m\u001b[0;34m,\u001b[0m \u001b[0mout\u001b[0m\u001b[0;34m=\u001b[0m\u001b[0mout\u001b[0m\u001b[0;34m,\u001b[0m \u001b[0;34m**\u001b[0m\u001b[0mkwargs\u001b[0m\u001b[0;34m)\u001b[0m\u001b[0;34m\u001b[0m\u001b[0;34m\u001b[0m\u001b[0m\n\u001b[0m\u001b[1;32m   2170\u001b[0m \u001b[0;34m\u001b[0m\u001b[0m\n\u001b[1;32m   2171\u001b[0m \u001b[0;34m\u001b[0m\u001b[0m\n",
            "\u001b[0;32m/usr/local/lib/python3.10/dist-packages/numpy/core/fromnumeric.py\u001b[0m in \u001b[0;36m_wrapfunc\u001b[0;34m(obj, method, *args, **kwds)\u001b[0m\n\u001b[1;32m     57\u001b[0m \u001b[0;34m\u001b[0m\u001b[0m\n\u001b[1;32m     58\u001b[0m     \u001b[0;32mtry\u001b[0m\u001b[0;34m:\u001b[0m\u001b[0;34m\u001b[0m\u001b[0;34m\u001b[0m\u001b[0m\n\u001b[0;32m---> 59\u001b[0;31m         \u001b[0;32mreturn\u001b[0m \u001b[0mbound\u001b[0m\u001b[0;34m(\u001b[0m\u001b[0;34m*\u001b[0m\u001b[0margs\u001b[0m\u001b[0;34m,\u001b[0m \u001b[0;34m**\u001b[0m\u001b[0mkwds\u001b[0m\u001b[0;34m)\u001b[0m\u001b[0;34m\u001b[0m\u001b[0;34m\u001b[0m\u001b[0m\n\u001b[0m\u001b[1;32m     60\u001b[0m     \u001b[0;32mexcept\u001b[0m \u001b[0mTypeError\u001b[0m\u001b[0;34m:\u001b[0m\u001b[0;34m\u001b[0m\u001b[0;34m\u001b[0m\u001b[0m\n\u001b[1;32m     61\u001b[0m         \u001b[0;31m# A TypeError occurs if the object does have such a method in its\u001b[0m\u001b[0;34m\u001b[0m\u001b[0;34m\u001b[0m\u001b[0m\n",
            "\u001b[0;32m/usr/local/lib/python3.10/dist-packages/numpy/core/_methods.py\u001b[0m in \u001b[0;36m_clip\u001b[0;34m(a, min, max, out, **kwargs)\u001b[0m\n\u001b[1;32m     97\u001b[0m         \u001b[0;32mreturn\u001b[0m \u001b[0mum\u001b[0m\u001b[0;34m.\u001b[0m\u001b[0mmaximum\u001b[0m\u001b[0;34m(\u001b[0m\u001b[0ma\u001b[0m\u001b[0;34m,\u001b[0m \u001b[0mmin\u001b[0m\u001b[0;34m,\u001b[0m \u001b[0mout\u001b[0m\u001b[0;34m=\u001b[0m\u001b[0mout\u001b[0m\u001b[0;34m,\u001b[0m \u001b[0;34m**\u001b[0m\u001b[0mkwargs\u001b[0m\u001b[0;34m)\u001b[0m\u001b[0;34m\u001b[0m\u001b[0;34m\u001b[0m\u001b[0m\n\u001b[1;32m     98\u001b[0m     \u001b[0;32melse\u001b[0m\u001b[0;34m:\u001b[0m\u001b[0;34m\u001b[0m\u001b[0;34m\u001b[0m\u001b[0m\n\u001b[0;32m---> 99\u001b[0;31m         \u001b[0;32mreturn\u001b[0m \u001b[0mum\u001b[0m\u001b[0;34m.\u001b[0m\u001b[0mclip\u001b[0m\u001b[0;34m(\u001b[0m\u001b[0ma\u001b[0m\u001b[0;34m,\u001b[0m \u001b[0mmin\u001b[0m\u001b[0;34m,\u001b[0m \u001b[0mmax\u001b[0m\u001b[0;34m,\u001b[0m \u001b[0mout\u001b[0m\u001b[0;34m=\u001b[0m\u001b[0mout\u001b[0m\u001b[0;34m,\u001b[0m \u001b[0;34m**\u001b[0m\u001b[0mkwargs\u001b[0m\u001b[0;34m)\u001b[0m\u001b[0;34m\u001b[0m\u001b[0;34m\u001b[0m\u001b[0m\n\u001b[0m\u001b[1;32m    100\u001b[0m \u001b[0;34m\u001b[0m\u001b[0m\n\u001b[1;32m    101\u001b[0m \u001b[0;32mdef\u001b[0m \u001b[0m_mean\u001b[0m\u001b[0;34m(\u001b[0m\u001b[0ma\u001b[0m\u001b[0;34m,\u001b[0m \u001b[0maxis\u001b[0m\u001b[0;34m=\u001b[0m\u001b[0;32mNone\u001b[0m\u001b[0;34m,\u001b[0m \u001b[0mdtype\u001b[0m\u001b[0;34m=\u001b[0m\u001b[0;32mNone\u001b[0m\u001b[0;34m,\u001b[0m \u001b[0mout\u001b[0m\u001b[0;34m=\u001b[0m\u001b[0;32mNone\u001b[0m\u001b[0;34m,\u001b[0m \u001b[0mkeepdims\u001b[0m\u001b[0;34m=\u001b[0m\u001b[0;32mFalse\u001b[0m\u001b[0;34m,\u001b[0m \u001b[0;34m*\u001b[0m\u001b[0;34m,\u001b[0m \u001b[0mwhere\u001b[0m\u001b[0;34m=\u001b[0m\u001b[0;32mTrue\u001b[0m\u001b[0;34m)\u001b[0m\u001b[0;34m:\u001b[0m\u001b[0;34m\u001b[0m\u001b[0;34m\u001b[0m\u001b[0m\n",
            "\u001b[0;31mKeyboardInterrupt\u001b[0m: "
          ]
        }
      ]
    },
    {
      "cell_type": "code",
      "source": [
        "epochs=1\n",
        "layers=3\n",
        "neurons=16\n",
        "learningRate=0.001\n",
        "batchSize=100"
      ],
      "metadata": {
        "id": "dgEdD0GiH7EO"
      },
      "execution_count": null,
      "outputs": []
    },
    {
      "cell_type": "code",
      "source": [
        "def main_function(epochs,layers,neurons,learningRate,optimizer,batchSize,activationFun):\n",
        "  if(optimizer==\"SGD\"):\n",
        "    stochastic_gradient_descent(epochs,learningRate,layers,neurons)\n",
        "  elif(optimizer==\"MGD\"):\n",
        "    momentum_gradient_descent()"
      ],
      "metadata": {
        "id": "1JUNxIbtIlEW"
      },
      "execution_count": null,
      "outputs": []
    },
    {
      "cell_type": "code",
      "source": [
        "!pip install wandb\n",
        "import wandb\n",
        "wandb.login()\n",
        "wandb.init(project=\"cs23m035_DL_Assignment1\")"
      ],
      "metadata": {
        "colab": {
          "base_uri": "https://localhost:8080/",
          "height": 763
        },
        "id": "SF--QE-noLqK",
        "outputId": "43115f36-894d-4d48-f774-1e0c5275d98d"
      },
      "execution_count": 308,
      "outputs": [
        {
          "output_type": "stream",
          "name": "stdout",
          "text": [
            "Collecting wandb\n",
            "  Downloading wandb-0.16.4-py3-none-any.whl (2.2 MB)\n",
            "\u001b[2K     \u001b[90m━━━━━━━━━━━━━━━━━━━━━━━━━━━━━━━━━━━━━━━━\u001b[0m \u001b[32m2.2/2.2 MB\u001b[0m \u001b[31m8.4 MB/s\u001b[0m eta \u001b[36m0:00:00\u001b[0m\n",
            "\u001b[?25hRequirement already satisfied: Click!=8.0.0,>=7.1 in /usr/local/lib/python3.10/dist-packages (from wandb) (8.1.7)\n",
            "Collecting GitPython!=3.1.29,>=1.0.0 (from wandb)\n",
            "  Downloading GitPython-3.1.42-py3-none-any.whl (195 kB)\n",
            "\u001b[2K     \u001b[90m━━━━━━━━━━━━━━━━━━━━━━━━━━━━━━━━━━━━━━━━\u001b[0m \u001b[32m195.4/195.4 kB\u001b[0m \u001b[31m11.3 MB/s\u001b[0m eta \u001b[36m0:00:00\u001b[0m\n",
            "\u001b[?25hRequirement already satisfied: requests<3,>=2.0.0 in /usr/local/lib/python3.10/dist-packages (from wandb) (2.31.0)\n",
            "Requirement already satisfied: psutil>=5.0.0 in /usr/local/lib/python3.10/dist-packages (from wandb) (5.9.5)\n",
            "Collecting sentry-sdk>=1.0.0 (from wandb)\n",
            "  Downloading sentry_sdk-1.42.0-py2.py3-none-any.whl (263 kB)\n",
            "\u001b[2K     \u001b[90m━━━━━━━━━━━━━━━━━━━━━━━━━━━━━━━━━━━━━━━━\u001b[0m \u001b[32m263.5/263.5 kB\u001b[0m \u001b[31m14.6 MB/s\u001b[0m eta \u001b[36m0:00:00\u001b[0m\n",
            "\u001b[?25hCollecting docker-pycreds>=0.4.0 (from wandb)\n",
            "  Downloading docker_pycreds-0.4.0-py2.py3-none-any.whl (9.0 kB)\n",
            "Requirement already satisfied: PyYAML in /usr/local/lib/python3.10/dist-packages (from wandb) (6.0.1)\n",
            "Collecting setproctitle (from wandb)\n",
            "  Downloading setproctitle-1.3.3-cp310-cp310-manylinux_2_5_x86_64.manylinux1_x86_64.manylinux_2_17_x86_64.manylinux2014_x86_64.whl (30 kB)\n",
            "Requirement already satisfied: setuptools in /usr/local/lib/python3.10/dist-packages (from wandb) (67.7.2)\n",
            "Requirement already satisfied: appdirs>=1.4.3 in /usr/local/lib/python3.10/dist-packages (from wandb) (1.4.4)\n",
            "Requirement already satisfied: protobuf!=4.21.0,<5,>=3.19.0 in /usr/local/lib/python3.10/dist-packages (from wandb) (3.20.3)\n",
            "Requirement already satisfied: six>=1.4.0 in /usr/local/lib/python3.10/dist-packages (from docker-pycreds>=0.4.0->wandb) (1.16.0)\n",
            "Collecting gitdb<5,>=4.0.1 (from GitPython!=3.1.29,>=1.0.0->wandb)\n",
            "  Downloading gitdb-4.0.11-py3-none-any.whl (62 kB)\n",
            "\u001b[2K     \u001b[90m━━━━━━━━━━━━━━━━━━━━━━━━━━━━━━━━━━━━━━━━\u001b[0m \u001b[32m62.7/62.7 kB\u001b[0m \u001b[31m7.9 MB/s\u001b[0m eta \u001b[36m0:00:00\u001b[0m\n",
            "\u001b[?25hRequirement already satisfied: charset-normalizer<4,>=2 in /usr/local/lib/python3.10/dist-packages (from requests<3,>=2.0.0->wandb) (3.3.2)\n",
            "Requirement already satisfied: idna<4,>=2.5 in /usr/local/lib/python3.10/dist-packages (from requests<3,>=2.0.0->wandb) (3.6)\n",
            "Requirement already satisfied: urllib3<3,>=1.21.1 in /usr/local/lib/python3.10/dist-packages (from requests<3,>=2.0.0->wandb) (2.0.7)\n",
            "Requirement already satisfied: certifi>=2017.4.17 in /usr/local/lib/python3.10/dist-packages (from requests<3,>=2.0.0->wandb) (2024.2.2)\n",
            "Collecting smmap<6,>=3.0.1 (from gitdb<5,>=4.0.1->GitPython!=3.1.29,>=1.0.0->wandb)\n",
            "  Downloading smmap-5.0.1-py3-none-any.whl (24 kB)\n",
            "Installing collected packages: smmap, setproctitle, sentry-sdk, docker-pycreds, gitdb, GitPython, wandb\n",
            "Successfully installed GitPython-3.1.42 docker-pycreds-0.4.0 gitdb-4.0.11 sentry-sdk-1.42.0 setproctitle-1.3.3 smmap-5.0.1 wandb-0.16.4\n"
          ]
        },
        {
          "output_type": "display_data",
          "data": {
            "text/plain": [
              "<IPython.core.display.Javascript object>"
            ],
            "application/javascript": [
              "\n",
              "        window._wandbApiKey = new Promise((resolve, reject) => {\n",
              "            function loadScript(url) {\n",
              "            return new Promise(function(resolve, reject) {\n",
              "                let newScript = document.createElement(\"script\");\n",
              "                newScript.onerror = reject;\n",
              "                newScript.onload = resolve;\n",
              "                document.body.appendChild(newScript);\n",
              "                newScript.src = url;\n",
              "            });\n",
              "            }\n",
              "            loadScript(\"https://cdn.jsdelivr.net/npm/postmate/build/postmate.min.js\").then(() => {\n",
              "            const iframe = document.createElement('iframe')\n",
              "            iframe.style.cssText = \"width:0;height:0;border:none\"\n",
              "            document.body.appendChild(iframe)\n",
              "            const handshake = new Postmate({\n",
              "                container: iframe,\n",
              "                url: 'https://wandb.ai/authorize'\n",
              "            });\n",
              "            const timeout = setTimeout(() => reject(\"Couldn't auto authenticate\"), 5000)\n",
              "            handshake.then(function(child) {\n",
              "                child.on('authorize', data => {\n",
              "                    clearTimeout(timeout)\n",
              "                    resolve(data)\n",
              "                });\n",
              "            });\n",
              "            })\n",
              "        });\n",
              "    "
            ]
          },
          "metadata": {}
        },
        {
          "output_type": "stream",
          "name": "stderr",
          "text": [
            "\u001b[34m\u001b[1mwandb\u001b[0m: Appending key for api.wandb.ai to your netrc file: /root/.netrc\n",
            "\u001b[34m\u001b[1mwandb\u001b[0m: Currently logged in as: \u001b[33mcs23m035\u001b[0m. Use \u001b[1m`wandb login --relogin`\u001b[0m to force relogin\n"
          ]
        },
        {
          "output_type": "display_data",
          "data": {
            "text/plain": [
              "<IPython.core.display.HTML object>"
            ],
            "text/html": [
              "Tracking run with wandb version 0.16.4"
            ]
          },
          "metadata": {}
        },
        {
          "output_type": "display_data",
          "data": {
            "text/plain": [
              "<IPython.core.display.HTML object>"
            ],
            "text/html": [
              "Run data is saved locally in <code>/content/wandb/run-20240316_204639-0bl1lhf6</code>"
            ]
          },
          "metadata": {}
        },
        {
          "output_type": "display_data",
          "data": {
            "text/plain": [
              "<IPython.core.display.HTML object>"
            ],
            "text/html": [
              "Syncing run <strong><a href='https://wandb.ai/cs23m035/cs23m035_DL_Assignment1/runs/0bl1lhf6' target=\"_blank\">earnest-tree-1</a></strong> to <a href='https://wandb.ai/cs23m035/cs23m035_DL_Assignment1' target=\"_blank\">Weights & Biases</a> (<a href='https://wandb.me/run' target=\"_blank\">docs</a>)<br/>"
            ]
          },
          "metadata": {}
        },
        {
          "output_type": "display_data",
          "data": {
            "text/plain": [
              "<IPython.core.display.HTML object>"
            ],
            "text/html": [
              " View project at <a href='https://wandb.ai/cs23m035/cs23m035_DL_Assignment1' target=\"_blank\">https://wandb.ai/cs23m035/cs23m035_DL_Assignment1</a>"
            ]
          },
          "metadata": {}
        },
        {
          "output_type": "display_data",
          "data": {
            "text/plain": [
              "<IPython.core.display.HTML object>"
            ],
            "text/html": [
              " View run at <a href='https://wandb.ai/cs23m035/cs23m035_DL_Assignment1/runs/0bl1lhf6' target=\"_blank\">https://wandb.ai/cs23m035/cs23m035_DL_Assignment1/runs/0bl1lhf6</a>"
            ]
          },
          "metadata": {}
        },
        {
          "output_type": "execute_result",
          "data": {
            "text/html": [
              "<button onClick=\"this.nextSibling.style.display='block';this.style.display='none';\">Display W&B run</button><iframe src='https://wandb.ai/cs23m035/cs23m035_DL_Assignment1/runs/0bl1lhf6?jupyter=true' style='border:none;width:100%;height:420px;display:none;'></iframe>"
            ],
            "text/plain": [
              "<wandb.sdk.wandb_run.Run at 0x797fd2a92260>"
            ]
          },
          "metadata": {},
          "execution_count": 308
        }
      ]
    },
    {
      "cell_type": "code",
      "source": [],
      "metadata": {
        "id": "qWC4EjUZA9iA"
      },
      "execution_count": null,
      "outputs": []
    }
  ]
}