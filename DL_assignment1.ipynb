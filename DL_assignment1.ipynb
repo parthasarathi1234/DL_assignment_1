{
  "nbformat": 4,
  "nbformat_minor": 0,
  "metadata": {
    "colab": {
      "provenance": [],
      "collapsed_sections": [
        "Up23WKX5nIS2",
        "ZYvMuKmKjfrJ",
        "VZdpU5sXnu0b"
      ],
      "mount_file_id": "1ECsNqilPtDFQKYYhSdFApjVx_DklrB5i",
      "authorship_tag": "ABX9TyPJ9hK8e625gEgbkfvepP7z",
      "include_colab_link": true
    },
    "kernelspec": {
      "name": "python3",
      "display_name": "Python 3"
    },
    "language_info": {
      "name": "python"
    }
  },
  "cells": [
    {
      "cell_type": "markdown",
      "metadata": {
        "id": "view-in-github",
        "colab_type": "text"
      },
      "source": [
        "<a href=\"https://colab.research.google.com/github/parthasarathi1234/DL_assignment_1/blob/main/DL_assignment1.ipynb\" target=\"_parent\"><img src=\"https://colab.research.google.com/assets/colab-badge.svg\" alt=\"Open In Colab\"/></a>"
      ]
    },
    {
      "cell_type": "code",
      "execution_count": 2,
      "metadata": {
        "id": "3IiiF-5w6R0h",
        "colab": {
          "base_uri": "https://localhost:8080/"
        },
        "outputId": "fa626c3a-f648-47d2-a03a-d65c265500b2"
      },
      "outputs": [
        {
          "output_type": "stream",
          "name": "stdout",
          "text": [
            "Downloading data from https://storage.googleapis.com/tensorflow/tf-keras-datasets/train-labels-idx1-ubyte.gz\n",
            "29515/29515 [==============================] - 0s 0us/step\n",
            "Downloading data from https://storage.googleapis.com/tensorflow/tf-keras-datasets/train-images-idx3-ubyte.gz\n",
            "26421880/26421880 [==============================] - 0s 0us/step\n",
            "Downloading data from https://storage.googleapis.com/tensorflow/tf-keras-datasets/t10k-labels-idx1-ubyte.gz\n",
            "5148/5148 [==============================] - 0s 0us/step\n",
            "Downloading data from https://storage.googleapis.com/tensorflow/tf-keras-datasets/t10k-images-idx3-ubyte.gz\n",
            "4422102/4422102 [==============================] - 0s 0us/step\n",
            "(60000, 28, 28) (60000,) (10000, 28, 28) (10000,)\n",
            "(54000, 28, 28) (6000, 28, 28) (54000,) (6000,)\n"
          ]
        }
      ],
      "source": [
        "from keras.datasets import fashion_mnist\n",
        "import matplotlib.pyplot as plt\n",
        "import numpy as np\n",
        "from sklearn.model_selection import train_test_split\n",
        "import seaborn as sn\n",
        "from sklearn.metrics import confusion_matrix\n",
        "(x_train,y_train),(x_test,y_test)=fashion_mnist.load_data();\n",
        "x_train_images, x_validation_images,y_train_labels, y_validation_labels  = train_test_split(x_train,y_train,test_size = 0.1)\n",
        "print(x_train.shape,y_train.shape,x_test.shape,y_test.shape)\n",
        "print(x_train_images.shape,x_validation_images.shape,y_train_labels.shape,y_validation_labels.shape)"
      ]
    },
    {
      "cell_type": "markdown",
      "source": [
        "#Question1"
      ],
      "metadata": {
        "id": "Up23WKX5nIS2"
      }
    },
    {
      "cell_type": "code",
      "source": [
        "n=0\n",
        "i=0\n",
        "while(n!=10):\n",
        "  if(y_train[i]==n):\n",
        "    plt.subplot(3,4,n+1)\n",
        "    plt.gray()\n",
        "    plt.xticks([])\n",
        "    plt.yticks([])\n",
        "    plt.imshow(x_train[i])\n",
        "    plt.xlabel(y_train[i])\n",
        "    n=n+1\n",
        "  i=i+1\n",
        "plt.show()\n",
        "wandb.log({'plt':plt})"
      ],
      "metadata": {
        "colab": {
          "base_uri": "https://localhost:8080/",
          "height": 584
        },
        "id": "z7s2J_I47l-3",
        "outputId": "82026543-bf5b-46f9-aad5-8be369b78822"
      },
      "execution_count": null,
      "outputs": [
        {
          "output_type": "display_data",
          "data": {
            "text/plain": [
              "<Figure size 640x480 with 10 Axes>"
            ],
            "image/png": "[encoded data removed]"
          },
          "metadata": {}
        },
        {
          "output_type": "error",
          "ename": "NameError",
          "evalue": "name 'wandb' is not defined",
          "traceback": [
            "\u001b[0;31m---------------------------------------------------------------------------\u001b[0m",
            "\u001b[0;31mNameError\u001b[0m                                 Traceback (most recent call last)",
            "\u001b[0;32m<ipython-input-2-843105363231>\u001b[0m in \u001b[0;36m<cell line: 14>\u001b[0;34m()\u001b[0m\n\u001b[1;32m     12\u001b[0m   \u001b[0mi\u001b[0m\u001b[0;34m=\u001b[0m\u001b[0mi\u001b[0m\u001b[0;34m+\u001b[0m\u001b[0;36m1\u001b[0m\u001b[0;34m\u001b[0m\u001b[0;34m\u001b[0m\u001b[0m\n\u001b[1;32m     13\u001b[0m \u001b[0mplt\u001b[0m\u001b[0;34m.\u001b[0m\u001b[0mshow\u001b[0m\u001b[0;34m(\u001b[0m\u001b[0;34m)\u001b[0m\u001b[0;34m\u001b[0m\u001b[0;34m\u001b[0m\u001b[0m\n\u001b[0;32m---> 14\u001b[0;31m \u001b[0mwandb\u001b[0m\u001b[0;34m.\u001b[0m\u001b[0mlog\u001b[0m\u001b[0;34m(\u001b[0m\u001b[0;34m{\u001b[0m\u001b[0;34m'plt'\u001b[0m\u001b[0;34m:\u001b[0m\u001b[0mplt\u001b[0m\u001b[0;34m}\u001b[0m\u001b[0;34m)\u001b[0m\u001b[0;34m\u001b[0m\u001b[0;34m\u001b[0m\u001b[0m\n\u001b[0m",
            "\u001b[0;31mNameError\u001b[0m: name 'wandb' is not defined"
          ]
        }
      ]
    },
    {
      "cell_type": "markdown",
      "source": [
        "#Question 2\n"
      ],
      "metadata": {
        "id": "HfWSu8Q-Cmvg"
      }
    },
    {
      "cell_type": "markdown",
      "source": [
        "### weights generation   ,   Activation functions"
      ],
      "metadata": {
        "id": "Zqk2S9SqCpPz"
      }
    },
    {
      "cell_type": "code",
      "source": [
        "def weight(No_of_layers,neurons,weightInit):\n",
        "  weights=[]\n",
        "  bias=[]\n",
        "\n",
        "  if(weightInit=='random'):\n",
        "  # input layer\n",
        "    weights.append(0.01*np.random.randn(neurons,784))\n",
        "    bias.append(0.01*np.random.randn(neurons,1))\n",
        "\n",
        "    # Hidden layer\n",
        "    for i in range(1,No_of_layers):\n",
        "      weights.append(0.01*np.random.randn(neurons,neurons))\n",
        "      bias.append(0.01*np.random.randn(neurons,1))\n",
        "\n",
        "    # output layer\n",
        "    weights.append(0.01*np.random.randn(10,neurons))\n",
        "    bias.append(0.01*np.random.randn(10,1))\n",
        "\n",
        "  elif(weightInit=='xavier'):\n",
        "    # input layer\n",
        "    weights.append(0.01*np.random.randn(neurons,784))\n",
        "    bias.append(np.zeros((neurons,1)))\n",
        "\n",
        "    # Hidden layer\n",
        "    for i in range(1,No_of_layers):\n",
        "      weights.append(0.01*np.random.randn(neurons,neurons))\n",
        "      bias.append(np.zeros((neurons,1)))\n",
        "\n",
        "    # output layer\n",
        "    weights.append(0.01*np.random.randn(10,neurons))\n",
        "    bias.append(np.zeros((10,1)))\n",
        "\n",
        "  else:\n",
        "    weights.append(np.random.randn(neurons,784))\n",
        "    bias.append(np.random.randn(neurons,1))\n",
        "\n",
        "    # Hidden layer\n",
        "    for i in range(1,No_of_layers):\n",
        "      weights.append(np.random.randn(neurons,neurons))\n",
        "      bias.append(np.random.randn(neurons,1))\n",
        "\n",
        "    # output layer\n",
        "    weights.append(0.01*np.random.randn(10,neurons))\n",
        "    bias.append(0.01*np.random.randn(10,1))\n",
        "\n",
        "\n",
        "  return weights,bias\n",
        "\n",
        "\n",
        "\n",
        "def sigmoid(a):\n",
        "  z=np.clip(a,-500, 500)\n",
        "  return 1 / (1 + np.exp(-z))\n",
        "\n",
        "def tanh(a):\n",
        "  z=np.clip(a,-50,50)\n",
        "  return np.tanh(z)\n",
        "\n",
        "def softmax(a):\n",
        "  x=1e-6\n",
        "  return (np.exp(a-max(a))/(sum(np.exp(a-max(a)))+x))\n",
        "\n",
        "def tanh_derivative(z):\n",
        "  return 1-np.tanh(z)**2\n",
        "\n",
        "def relu(Z):\n",
        "    A = np.maximum(0, Z)\n",
        "    return A\n",
        "\n",
        "def relu_derivative(z):\n",
        "  return np.where(z>0,1,0)\n",
        "\n",
        "def sigmoid_derivative(z):\n",
        "    return sigmoid(z) * (1 - sigmoid(z))\n",
        "\n",
        "\n",
        "\n",
        "def  feeb_forward(x,layers,act,wei,b):\n",
        "  pre_activation=[0 for i in range(layers+1)]\n",
        "  activation=[0 for i in range(layers+1)]\n",
        "  z=x.reshape(784,1)/255.0\n",
        "  # activation.append(z)\n",
        "  # activation[0]=z\n",
        "  for i in range(layers):\n",
        "    # print(weights[i].shape,z.shape,b[i].shape)\n",
        "    if(i==0):\n",
        "      pre_activation[i]=np.matmul(wei[i],z)+b[i]\n",
        "      # =a\n",
        "    else:\n",
        "      pre_activation[i]=b[i]+np.matmul(wei[i],z)  # pre activation\n",
        "      # 243/'k'\n",
        "      # =a\n",
        "    if(act==\"sigmoid\"):\n",
        "      z=sigmoid(pre_activation[i])\n",
        "    elif(act==\"tanh\"):\n",
        "      z=tanh(pre_activation[i])\n",
        "    elif(act==\"relu\"):\n",
        "      z=relu(pre_activation[i])\n",
        "    else:\n",
        "      print(\"wrong activation function\")\n",
        "    activation[i]=z\n",
        "\n",
        "  pre_activation[layers]=b[layers]+np.matmul(wei[layers],z)\n",
        "  activation[layers]=np.copy(softmax(pre_activation[layers]))\n",
        "  return pre_activation,activation,z\n",
        "\n",
        "def back_propagation(x_t,y_train,z,H,A,layers,W,activation,loss_Fun):\n",
        "  update_x=x_t.reshape(784,1)/255.0\n",
        "  dw=[0 for i in range(layers+1)]\n",
        "  db=[0 for i in range(layers+1)]\n",
        "  y=np.zeros((10,1))\n",
        "  y[y_train]=1;\n",
        "  # loss=-np.subtract(y,z)\n",
        "\n",
        "  if(loss_Fun=='crossEntropy'):\n",
        "    loss=-(y-H[layers])\n",
        "  else:\n",
        "    loss=(H[layers]-y)*H[layers]*(1-H[layers])\n",
        "\n",
        "  for k in range(len(W)-1,0,-1):\n",
        "    # print(loss.shape,H[k].shape,z.shape,y.shape)\n",
        "    dw[k]=np.matmul(loss,(H[k-1].T))\n",
        "    # print(k,loss_dw.shape)\n",
        "    # ]=loss_dw\n",
        "    # print(k,dw[k].shape)\n",
        "\n",
        "    # loss_db=loss\n",
        "    db[k]=np.copy(loss)\n",
        "\n",
        "    loss_dh=np.matmul((W[k].T),loss)\n",
        "\n",
        "    if(activation==\"tanh\"):\n",
        "      x=tanh_derivative(A[k-1])\n",
        "    elif(activation==\"sigmoid\"):\n",
        "      x=sigmoid_derivative(A[k-1])\n",
        "    elif(activation==\"relu\"):\n",
        "      x=relu_derivative(A[k-1])\n",
        "    else:\n",
        "      print(\"wrong activation function\")\n",
        "\n",
        "    loss=np.multiply(loss_dh,x)\n",
        "  dw[0]=np.matmul(loss,update_x.T)\n",
        "  db[0]=np.copy(loss)\n",
        "  return dw,db\n",
        "\n",
        "def accuracy(theta_w,theta_b,X,Y,activationfun,layers,loss_Fun):\n",
        "  # print(\"accuracy\")\n",
        "  count=0\n",
        "  loss=0\n",
        "  # print(X.shape)\n",
        "  for train_ima,train_labe in zip(X,Y):\n",
        "    p_act, act, z = feeb_forward(train_ima, layers, activationfun, theta_w, theta_b)\n",
        "    # print(np.argmax(z),np.argmax(act[layers]),end=\",\")\n",
        "    if(np.argmax(act[layers])==train_labe):\n",
        "      count=count+1\n",
        "\n",
        "    if(loss_Fun=='crossEntropy'):\n",
        "      loss+=-np.log(act[layers])[train_labe][0]\n",
        "    else:\n",
        "      loss+=(np.argmax(act[layers]-Y.shape[0])**2)\n",
        "    loss=loss/Y.shape[0]\n",
        "    acc=(count/Y.shape[0])\n",
        "  return acc*100,loss*100\n",
        "\n",
        "def accuracy_confusion(theta_w,theta_b,X,Y,activationfun,layers,loss_Fun,predicted,original):\n",
        "  # print(\"accuracy\")\n",
        "  count=0\n",
        "  loss=0\n",
        "  # print(X.shape)\n",
        "  for train_ima,train_labe in zip(X,Y):\n",
        "    p_act, act, z = feeb_forward(train_ima, layers, activationfun, theta_w, theta_b)\n",
        "    # print(np.argmax(z),np.argmax(act[layers]),end=\",\")\n",
        "    original.append(train_labe)\n",
        "    predicted.append(np.argmax(act[layers]))\n",
        "    if(np.argmax(act[layers])==train_labe):\n",
        "      count=count+1\n",
        "\n",
        "    if(loss_Fun=='crossEntropy'):\n",
        "      loss+=-np.log(act[layers])[train_labe][0]\n",
        "    else:\n",
        "      loss+=(np.argmax(act[layers]-Y.shape[0])**2)\n",
        "    loss=loss/Y.shape[0]\n",
        "    acc=(count/Y.shape[0])\n",
        "  return acc*100,loss*100"
      ],
      "metadata": {
        "id": "Ryknymv2sSpl"
      },
      "execution_count": 3,
      "outputs": []
    },
    {
      "cell_type": "markdown",
      "source": [
        "### weights for different neurons in each layer"
      ],
      "metadata": {
        "id": "ZYvMuKmKjfrJ"
      }
    },
    {
      "cell_type": "code",
      "source": [
        "  # for i in range(No_of_layers):\n",
        "  #   neurons.append(int(input()))   # storing no of neurons in each layer\n",
        "\n",
        "  # weights=[]\n",
        "  # bias=[]\n",
        "\n",
        "\n",
        "  # # input layer\n",
        "  # weights.append(np.random.randn(neurons[0],784))\n",
        "  # bias.append(np.random.randn(neurons[0],1))\n",
        "\n",
        "  # # Hidden layer\n",
        "\n",
        "  # for i in range(1,No_of_layers):\n",
        "  #   weights.append(np.random.randn(neurons[i],neurons[i-1]))\n",
        "  #   bias.append(np.random.randn(neurons[i],1))\n",
        "\n",
        "  # # output layer\n",
        "  # weights.append(np.random.randn(10,neurons[No_of_layers-1]))\n",
        "  # bias.append(np.random.randn(10,1))\n",
        "  # return weights,bias\n",
        "\n",
        "  # print(len(weights))\n",
        "  # for i in range(len(weights)):\n",
        "  #   print(weights[i].shape)\n",
        "\n",
        "  # for i in range(len(weights)):\n",
        "  #   print(bias[i].shape)"
      ],
      "metadata": {
        "id": "JH1fNNhyjkzw"
      },
      "execution_count": null,
      "outputs": []
    },
    {
      "cell_type": "code",
      "source": [],
      "metadata": {
        "id": "2dm4GIbMLfba"
      },
      "execution_count": null,
      "outputs": []
    },
    {
      "cell_type": "markdown",
      "source": [
        "### accuracy 2"
      ],
      "metadata": {
        "id": "dqykn9Hkcot5"
      }
    },
    {
      "cell_type": "code",
      "source": [
        "def accuracyCalc(train_image,train_label,W,B,layers,activationfun,lossFun):\n",
        "  a,h,z = feeb_forward(train_image,layers,activationfun,W,B)\n",
        "  res = np.copy(h[layers])\n",
        "  maxi = res[0]\n",
        "  label = 0\n",
        "  for i in range(1,10):\n",
        "    if(res[i] > maxi ):\n",
        "      maxi = res[i]\n",
        "      label = i\n",
        "  if(lossFun == 'entropy'):\n",
        "    # print(train_label)\n",
        "    return label , -np.log(res[train_label]+(1e-5))\n",
        "  else:\n",
        "    a_l = np.zeros((10,1))\n",
        "    a_l[train_label] = 1\n",
        "    return label, np.sum((h[n]-a_l)**2)\n",
        "\n",
        "\n",
        "\n",
        "def validationAccuracy(validation_image,validation_label,W,B,layers,activationfun,lossFun):\n",
        "  a,h,z = feeb_forward(validation_image,layers,activationfun,W,B)\n",
        "  res = np.copy(h[layers])\n",
        "  maxi = res[0]\n",
        "  label = 0\n",
        "  for i in range(1,10):\n",
        "    if(res[i] > maxi ):\n",
        "      maxi = res[i]\n",
        "      label = i\n",
        "  if(lossFun == 'entropy'):\n",
        "    return label,-np.log(res[validation_label]+(1e-5))\n",
        "  else:\n",
        "    a_l = np.zeros((10,1))\n",
        "    a_l[validation_label] = 1\n",
        "    return label, np.sum((h[n]-a_l)**2)"
      ],
      "metadata": {
        "id": "lQWmbGBTx7fb"
      },
      "execution_count": null,
      "outputs": []
    },
    {
      "cell_type": "code",
      "source": [],
      "metadata": {
        "id": "JCy3uUxP0gE2"
      },
      "execution_count": null,
      "outputs": []
    },
    {
      "cell_type": "code",
      "source": [],
      "metadata": {
        "id": "Y7S-pEPl0hJY"
      },
      "execution_count": null,
      "outputs": []
    },
    {
      "cell_type": "markdown",
      "source": [
        "### kjkfd\n"
      ],
      "metadata": {
        "id": "Bs-Aeu3r0ia3"
      }
    },
    {
      "cell_type": "code",
      "source": [
        "# stochastic_gradient_descent(3,0.01,3,32,\"sigmoid\",\"random\",0,\"crossEntropy\")"
      ],
      "metadata": {
        "id": "5gB9VXZ20k23"
      },
      "execution_count": null,
      "outputs": []
    },
    {
      "cell_type": "markdown",
      "source": [
        "### stochastic gradient descent"
      ],
      "metadata": {
        "id": "WmRTwjcJvdT7"
      }
    },
    {
      "cell_type": "code",
      "source": [
        "def stochastic_gradient_descent(epochs,eta,layers,neurons,activation_fun,weightInit,weightDecay,loss_Fun):\n",
        "  W, B = weight(layers,neurons,weightInit)\n",
        "  for i in range(epochs):\n",
        "    dw=[[0 for colu in range(row)] for row in range(len(W))]\n",
        "    db=[[0 for colu in range(row)] for row in range(len(B))]\n",
        "\n",
        "    for train_ima,train_labe in zip(x_train_images,y_train_labels):\n",
        "      A,H,Z=feeb_forward(train_ima,layers,activation_fun,W,B)\n",
        "      current_dw,current_db=back_propagation(train_ima,train_labe,Z,H,A,layers,W,activation_fun,loss_Fun)\n",
        "\n",
        "      for k in range(layers+1):\n",
        "        W[k]=W[k]-eta*current_dw[k]-(weightDecay*W[k])\n",
        "        B[k]=B[k]-eta*current_db[k]\n",
        "\n",
        "    acc,loss=accuracy(W,B,x_train_images,y_train_labels,activation_fun,layers,loss_Fun)\n",
        "    v_acc,v_loss=accuracy(W,B,x_validation_images,y_validation_labels,activation_fun,layers,loss_Fun)\n",
        "    print(\"Accuracy\")\n",
        "    print(acc,loss,v_acc,v_loss)\n",
        "    wandb.log({\"Train_Accuracy\" : acc,\"Train_Loss\" : loss,\"Validation_acc\" : v_acc,\"validation_loss\" : v_loss,'epoch':i})\n",
        "\n",
        "\n",
        "def momentum_gradient_descent(epochs,eta,layers,neurons,activation_fun,batchSize,weightInit,weightDecay,loss_Fun):\n",
        "  beta=0.9\n",
        "  W,B=weight(layers,neurons,weightInit)\n",
        "  pre_v_w=[0 for i in range(layers+1)]\n",
        "  pre_v_b=[0 for i in range(layers+1)]\n",
        "\n",
        "  for i in range(epochs):\n",
        "    batch=1\n",
        "    dw=[0 for i in range(layers+1)]\n",
        "    db=[0 for i in range(layers+1)]\n",
        "    for train_ima,train_labe in zip(x_train_images,y_train_labels):\n",
        "      A,H,Z=feeb_forward(train_ima,layers,activation_fun,W,B)\n",
        "      current_dw, current_db = back_propagation(train_ima,train_labe,Z,H,A,layers,W,activation_fun,loss_Fun)\n",
        "\n",
        "      for k in range(len(W)):\n",
        "        dw[k]+=current_dw[k]\n",
        "        db[k]+=current_db[k]\n",
        "\n",
        "      if(batch%batchSize==0):\n",
        "        for k in range(len(W)):\n",
        "          v_w=beta*pre_v_w[k]+dw[k]\n",
        "          v_b=beta*pre_v_b[k]+db[k]\n",
        "\n",
        "          W[k]=W[k]-(eta*v_w) - (weightDecay * W[k])\n",
        "          B[k]=B[k]-eta*v_b\n",
        "\n",
        "          pre_v_w[k]=v_w\n",
        "          pre_v_b[k]=v_b\n",
        "\n",
        "        for xw in dw:\n",
        "          xw[:]=0\n",
        "        for xb in db:\n",
        "          xb[:]=0\n",
        "      batch+=1\n",
        "\n",
        "    acc,loss=accuracy(W,B,x_train_images,y_train_labels,activation_fun,layers,loss_Fun)\n",
        "    v_acc,v_loss=accuracy(W,B,x_validation_images,y_validation_labels,activation_fun,layers,loss_Fun)\n",
        "    print(\"Accuracy\")\n",
        "    print(acc,loss,v_acc,v_loss)\n",
        "    wandb.log({\"Train_Accuracy\" : acc,\"Train_Loss\" : loss,\"Validation_acc\" : v_acc,\"validation_loss\" : v_loss,'epoch':i})\n",
        "\n",
        "\n",
        "def nesterov_accelerated_gradient_descent(epochs,layers,neurons,eta,activation_fun,batchSize,weightInit,weightDecay,loss_Fun):\n",
        "  beta=0.9\n",
        "  W,B=weight(layers,neurons,weightInit)\n",
        "  pre_v_w=[0 for i in range(layers+1)]\n",
        "  pre_v_b=[0 for i in range(layers+1)]\n",
        "\n",
        "  v_w=[0 for i in range(layers+1)]\n",
        "  v_b=[0 for i in range(layers+1)]\n",
        "\n",
        "  for i in range(epochs):\n",
        "    batch=1\n",
        "    dw=[0 for i in range(layers+1)]\n",
        "    db=[0 for i in range(layers+1)]\n",
        "\n",
        "    for k in range(len(W)):\n",
        "      W[k] = W[k] - beta * pre_v_w[k]\n",
        "      B[k] = B[k] - beta * pre_v_b[k]\n",
        "    for train_ima,train_labe in zip(x_train_images,y_train_labels):\n",
        "      A,H,Z=feeb_forward(train_ima,layers,activation_fun,W,B)\n",
        "      current_dw,current_db=back_propagation(train_ima,train_labe,Z,H,A,layers,W,activation_fun,loss_Fun)\n",
        "\n",
        "      for k in range(len(W)):\n",
        "          dw[k]+=current_dw[k]\n",
        "          db[k]+=current_db[k]\n",
        "\n",
        "      if(batch%batchSize==0):\n",
        "        for k in range(len(W)):\n",
        "          W[k]=W[k]-eta*dw[k]-(weightDecay*W[k])\n",
        "          B[k]=B[k]-eta*db[k]\n",
        "          pre_v_w[k]=eta*dw[k]+beta*pre_v_w[k]\n",
        "          pre_v_b[k]=eta*db[k]+beta*pre_v_b[k]\n",
        "        for xw in dw:\n",
        "          xw[:]=0\n",
        "        for xb in db:\n",
        "          xb[:]=0\n",
        "      batch+=1\n",
        "    acc, loss = accuracy(W,B,x_train_images,y_train_labels,activation_fun,layers,loss_Fun)\n",
        "    v_acc, v_loss = accuracy(W,B,x_validation_images,y_validation_labels,activation_fun,layers,loss_Fun)\n",
        "    print(\"Accuracy\")\n",
        "    print(acc,loss,v_acc,v_loss)\n",
        "    wandb.log({\"Train_Accuracy\" : acc,\"Train_Loss\" : loss,\"Validation_acc\" : v_acc,\"validation_loss\" : v_loss,'epoch':i})\n",
        "\n",
        "\n",
        "\n",
        "def rms_prop(epochs,layers,neurons,eta,activation_fun,batchSize,weightInit,weightDecay,loss_Fun):\n",
        "  beta=0.5\n",
        "  W,B=weight(layers,neurons,weightInit)\n",
        "  eps=1e-4\n",
        "  v_w=[0 for i in range(layers+1)]\n",
        "  v_b=[0 for i in range(layers+1)]\n",
        "\n",
        "  for i in range(epochs):\n",
        "    batch=1\n",
        "    dw=[0 for i in range(layers+1)]\n",
        "    db=[0 for i in range(layers+1)]\n",
        "    for train_ima,train_labe in zip(x_train_images,y_train_labels):\n",
        "      A, H, Z = feeb_forward(train_ima,layers,activation_fun,W,B)\n",
        "      current_dw, current_db = back_propagation(train_ima,train_labe,Z,H,A,layers,W,activation_fun,loss_Fun)\n",
        "\n",
        "      for k in range(len(W)):\n",
        "        dw[k]=dw[k]+current_dw[k]\n",
        "        db[k]=db[k]+current_db[k]\n",
        "      if(batch%batchSize==0):\n",
        "        for k in range(len(W)):\n",
        "          v_w[k]=beta*v_w[k]+(1-beta)*pow(dw[k],2)\n",
        "          v_b[k]=beta*v_b[k]+(1-beta)*pow(db[k],2)\n",
        "          W[k]=W[k]-eta*dw[k]/(np.sqrt(v_w[k])+eps) -(weightDecay*W[k])\n",
        "          B[k]=B[k]-eta*db[k]/(np.sqrt(v_b[k])+eps)\n",
        "\n",
        "        for xw in dw:\n",
        "          xw[:]=0\n",
        "        for xb in db:\n",
        "          xb[:]=0\n",
        "      batch+=1\n",
        "\n",
        "    acc,loss=accuracy(W,B,x_train_images,y_train_labels,activation_fun,layers,loss_Fun)\n",
        "    v_acc,v_loss=accuracy(W,B,x_validation_images,y_validation_labels,activation_fun,layers,loss_Fun)\n",
        "    print(\"Accuracy\")\n",
        "    print(acc,loss,v_acc,v_loss)\n",
        "    wandb.log({\"Train_Accuracy\" : acc,\"Train_Loss\" : loss,\"Validation_acc\" : v_acc,\"validation_loss\" : v_loss,'epoch':i})\n",
        "    return W,B\n",
        "\n",
        "\n",
        "\n",
        "def adam(epochs,eta,activation_fun,layers,neurons,batchSize,weightInit,weightDecay,loss_Fun):\n",
        "  beta1=0.9\n",
        "  beta2=0.999\n",
        "  W,B=weight(layers,neurons,weightInit)\n",
        "  v_w=[np.zeros_like(w) for w in W]\n",
        "  v_b=[np.zeros_like(w) for w in B]\n",
        "  m_w=[np.zeros_like(w) for w in W]\n",
        "  m_b=[np.zeros_like(w) for w in B]\n",
        "  eps=1e-10\n",
        "  for i in range(epochs):\n",
        "    batch=1\n",
        "    dw=[np.zeros_like(w) for w in W]\n",
        "    db=[np.zeros_like(w) for w in B]\n",
        "\n",
        "    for train_ima,train_labe in zip(x_train_images,y_train_labels):\n",
        "      A,H,Z=feeb_forward(train_ima,layers,activation_fun,W,B)\n",
        "      current_dw,current_db=back_propagation(train_ima,train_labe,Z,H,A,layers,W,activation_fun,loss_Fun)\n",
        "\n",
        "      for k in range(len(W)):\n",
        "        dw[k]=dw[k]+current_dw[k]\n",
        "        db[k]=db[k]+current_db[k]\n",
        "\n",
        "      if(batch%batchSize==0):\n",
        "        for k in range(len(W)):\n",
        "          m_w[k]=beta1*m_w[k]+(1-beta1)*dw[k]\n",
        "          m_b[k]=beta1*m_b[k]+(1-beta1)*db[k]\n",
        "          v_w[k]=beta2*v_w[k]+(1-beta2)*pow(dw[k],2)\n",
        "          v_b[k]=beta2*v_b[k]+(1-beta2)*pow(db[k],2)\n",
        "\n",
        "          m_w_hat=m_w[k]/(1-pow(beta1,k+1))\n",
        "          m_b_hat=m_b[k]/(1-pow(beta1,k+1))\n",
        "          v_w_hat=v_w[k]/(1-pow(beta2,k+1))\n",
        "          v_b_hat=v_b[k]/(1-pow(beta2,k+1))\n",
        "\n",
        "          W[k]=W[k]-eta*m_w_hat/(np.sqrt(v_w_hat)+eps) - (weightDecay*W[k])\n",
        "          B[k]=B[k]-eta*m_b_hat/(np.sqrt(v_b_hat)+eps)\n",
        "        for xw in dw:\n",
        "          xw[:]=0\n",
        "        for xb in db:\n",
        "          xb[:]=0\n",
        "      batch+=1\n",
        "    acc, loss = accuracy(W,B,x_train_images,y_train_labels,activation_fun,layers,loss_Fun)\n",
        "    v_acc, v_loss = accuracy(W,B,x_validation_images,y_validation_labels,activation_fun,layers,loss_Fun)\n",
        "    print(\"Accuracy\")\n",
        "    print(acc,loss,v_acc,v_loss)\n",
        "\n",
        "    wandb.log({\"Train_Accuracy\" : acc,\"Train_Loss\" : loss,\"Validation_acc\" : v_acc,\"validation_loss\" : v_loss,'epoch':i})\n",
        "\n",
        "\n",
        "\n",
        "def nadam(eta,layers,neurons,epochs,activation_fun,batchSize,weightInit,weightDecay,loss_Fun):\n",
        "  beta1=0.9\n",
        "  beta2=0.999\n",
        "  W,B=weight(layers,neurons,weightInit)\n",
        "  v_w=[np.zeros_like(w) for w in W]\n",
        "  v_b=[np.zeros_like(w) for w in B]\n",
        "  m_w=[np.zeros_like(w) for w in W]\n",
        "  m_b=[np.zeros_like(w) for w in B]\n",
        "  eps=1e-10\n",
        "  for i in range(epochs):\n",
        "    temp=1\n",
        "    dw=[np.zeros_like(w) for w in W]\n",
        "    db=[np.zeros_like(w) for w in B]\n",
        "    for train_ima,train_labe in zip(x_train_images,y_train_labels):\n",
        "      A,H,Z=feeb_forward(train_ima,layers,activation_fun,W,B)\n",
        "      current_dw,current_db=back_propagation(train_ima,train_labe,Z,H,A,layers,W,activation_fun,loss_Fun)\n",
        "      # current_dw.reverse()\n",
        "      # current_db.reverse()\n",
        "\n",
        "      for k in range(len(W)):\n",
        "        dw[k]+=current_dw[k]\n",
        "        db[k]+=current_db[k]\n",
        "\n",
        "      if(temp%batchSize==0):\n",
        "        for k in range(len(W)):\n",
        "          m_w[k]=beta1*m_w[k]+(1-beta1)*dw[k]\n",
        "          m_b[k]=beta1*m_b[k]+(1-beta1)*db[k]\n",
        "          v_w[k]=beta2*v_w[k]+(1-beta2)*pow(dw[k],2)\n",
        "          v_b[k]=beta2*v_b[k]+(1-beta2)*pow(db[k],2)\n",
        "\n",
        "          m_w_hat=m_w[k]/(1-pow(beta1,i+1))\n",
        "          m_b_hat=m_b[k]/(1-pow(beta1,i+1))\n",
        "          v_w_hat=v_w[k]/(1-pow(beta2,i+1))\n",
        "          v_b_hat=v_b[k]/(1-pow(beta2,i+1))\n",
        "\n",
        "          W[k]=W[k]-(eta/(np.sqrt(v_w_hat+eps)))*(beta1*m_w_hat+(1-beta1)*dw[k]/(1-beta1**(k+1))) - (weightDecay*W[k])\n",
        "          B[k]=B[k]-(eta/(np.sqrt(v_b_hat+eps)))*(beta1*m_b_hat+(1-beta1)*db[k]/(1-beta1**(k+1)))\n",
        "        for xw in dw:\n",
        "          xw[:]=0\n",
        "        for xb in db:\n",
        "          xb[:]=0\n",
        "      temp+=1\n",
        "    acc,loss=accuracy(W,B,x_train_images,y_train_labels,activation_fun,layers,loss_Fun)\n",
        "    v_acc,v_loss=accuracy(W,B,x_validation_images,y_validation_labels,activation_fun,layers,loss_Fun)\n",
        "    print(\"Accuracy\")\n",
        "    print(acc,loss,v_acc,v_loss)\n",
        "    wandb.log({\"Train_Accuracy\" : acc,\"Train_Loss\" : loss,\"Validation_acc\" : v_acc,\"validation_loss\" : v_loss,'epoch':i})"
      ],
      "metadata": {
        "id": "BzvkNkOOE3XJ"
      },
      "execution_count": 39,
      "outputs": []
    },
    {
      "cell_type": "code",
      "source": [
        "nesterov_accelerated_gradient_descent(3,3,32,0.01,\"tanh\",100,\"random\",0,\"crossEntropy\")"
      ],
      "metadata": {
        "id": "Zd_jyqVGBJke"
      },
      "execution_count": null,
      "outputs": []
    },
    {
      "cell_type": "code",
      "source": [
        "rms_prop(3,3,32,0.001,\"tanh\",100,\"random\",0,\"crossEntropy\")"
      ],
      "metadata": {
        "id": "gCOXBiruIfQ_"
      },
      "execution_count": null,
      "outputs": []
    },
    {
      "cell_type": "code",
      "source": [
        "adam(3,0.01,\"sigmoid\",4,64,64,\"random\",0,\"crossEntropy\")"
      ],
      "metadata": {
        "id": "1Oyw4fa0Ou9J"
      },
      "execution_count": null,
      "outputs": []
    },
    {
      "cell_type": "code",
      "source": [
        "nadam(0.001,3,32,3,\"tanh\",64,\"random\",0,\"crossEntropy\")"
      ],
      "metadata": {
        "id": "LkRwpUkHX5OS"
      },
      "execution_count": null,
      "outputs": []
    },
    {
      "cell_type": "markdown",
      "source": [
        "###all"
      ],
      "metadata": {
        "id": "VZdpU5sXnu0b"
      }
    },
    {
      "cell_type": "code",
      "source": [
        "# epochs=1\n",
        "# layers=4\n",
        "# neurons=32\n",
        "# learningRate=0.1\n",
        "# beta=0.9\n",
        "# batchSize=100\n",
        "# activationFun=\"tanh\"\n",
        "# batchSize=100\n",
        "# stochastic_gradient_descent(epochs,learningRate,layers,neurons,activationFun,\"random\")\n",
        "# momentum_gradient_descent(epochs,learningRate,layers,neurons,activationFun,batchSize,\"random\")\n",
        "# nesterov_accelerated_gradient_descent(epochs,layers,neurons,learningRate,activationFun,batchSize,\"random\")\n",
        "# rms_prop(epochs,layers,neurons,learningRate,activationFun,batchSize,\"random\")\n",
        "# adam(epochs,learningRate,activationFun,layers,neurons,batchSize,\"random\")\n",
        "# nadam(learningRate,layers,neurons,epochs,activationFun,batchSize,\"random\")"
      ],
      "metadata": {
        "id": "dgEdD0GiH7EO"
      },
      "execution_count": null,
      "outputs": []
    },
    {
      "cell_type": "markdown",
      "source": [
        "### Wandb"
      ],
      "metadata": {
        "id": "SEBjaLhp_En1"
      }
    },
    {
      "cell_type": "code",
      "source": [
        "# !pip install wandb\n",
        "!pip install -U wandb\n",
        "\n",
        "import wandb\n",
        "from wandb.keras import WandbCallback\n",
        "import socket\n",
        "socket.setdefaulttimeout(30)\n",
        "wandb.login()\n",
        "wandb.init(project=\"cs23m035_DL_Assignment1\")"
      ],
      "metadata": {
        "colab": {
          "base_uri": "https://localhost:8080/",
          "height": 730
        },
        "id": "UUx7yDgW10D9",
        "outputId": "332281e8-8dad-4960-a771-bbd0db64419d"
      },
      "execution_count": null,
      "outputs": [
        {
          "output_type": "stream",
          "name": "stdout",
          "text": [
            "Collecting wandb\n",
            "  Downloading wandb-0.16.4-py3-none-any.whl (2.2 MB)\n",
            "\u001b[2K     \u001b[90m━━━━━━━━━━━━━━━━━━━━━━━━━━━━━━━━━━━━━━━━\u001b[0m \u001b[32m2.2/2.2 MB\u001b[0m \u001b[31m21.0 MB/s\u001b[0m eta \u001b[36m0:00:00\u001b[0m\n",
            "\u001b[?25hRequirement already satisfied: Click!=8.0.0,>=7.1 in /usr/local/lib/python3.10/dist-packages (from wandb) (8.1.7)\n",
            "Collecting GitPython!=3.1.29,>=1.0.0 (from wandb)\n",
            "  Downloading GitPython-3.1.42-py3-none-any.whl (195 kB)\n",
            "\u001b[2K     \u001b[90m━━━━━━━━━━━━━━━━━━━━━━━━━━━━━━━━━━━━━━━━\u001b[0m \u001b[32m195.4/195.4 kB\u001b[0m \u001b[31m16.3 MB/s\u001b[0m eta \u001b[36m0:00:00\u001b[0m\n",
            "\u001b[?25hRequirement already satisfied: requests<3,>=2.0.0 in /usr/local/lib/python3.10/dist-packages (from wandb) (2.31.0)\n",
            "Requirement already satisfied: psutil>=5.0.0 in /usr/local/lib/python3.10/dist-packages (from wandb) (5.9.5)\n",
            "Collecting sentry-sdk>=1.0.0 (from wandb)\n",
            "  Downloading sentry_sdk-1.43.0-py2.py3-none-any.whl (264 kB)\n",
            "\u001b[2K     \u001b[90m━━━━━━━━━━━━━━━━━━━━━━━━━━━━━━━━━━━━━━━━\u001b[0m \u001b[32m264.6/264.6 kB\u001b[0m \u001b[31m17.9 MB/s\u001b[0m eta \u001b[36m0:00:00\u001b[0m\n",
            "\u001b[?25hCollecting docker-pycreds>=0.4.0 (from wandb)\n",
            "  Downloading docker_pycreds-0.4.0-py2.py3-none-any.whl (9.0 kB)\n",
            "Requirement already satisfied: PyYAML in /usr/local/lib/python3.10/dist-packages (from wandb) (6.0.1)\n",
            "Collecting setproctitle (from wandb)\n",
            "  Downloading setproctitle-1.3.3-cp310-cp310-manylinux_2_5_x86_64.manylinux1_x86_64.manylinux_2_17_x86_64.manylinux2014_x86_64.whl (30 kB)\n",
            "Requirement already satisfied: setuptools in /usr/local/lib/python3.10/dist-packages (from wandb) (67.7.2)\n",
            "Requirement already satisfied: appdirs>=1.4.3 in /usr/local/lib/python3.10/dist-packages (from wandb) (1.4.4)\n",
            "Requirement already satisfied: protobuf!=4.21.0,<5,>=3.19.0 in /usr/local/lib/python3.10/dist-packages (from wandb) (3.20.3)\n",
            "Requirement already satisfied: six>=1.4.0 in /usr/local/lib/python3.10/dist-packages (from docker-pycreds>=0.4.0->wandb) (1.16.0)\n",
            "Collecting gitdb<5,>=4.0.1 (from GitPython!=3.1.29,>=1.0.0->wandb)\n",
            "  Downloading gitdb-4.0.11-py3-none-any.whl (62 kB)\n",
            "\u001b[2K     \u001b[90m━━━━━━━━━━━━━━━━━━━━━━━━━━━━━━━━━━━━━━━━\u001b[0m \u001b[32m62.7/62.7 kB\u001b[0m \u001b[31m4.8 MB/s\u001b[0m eta \u001b[36m0:00:00\u001b[0m\n",
            "\u001b[?25hRequirement already satisfied: charset-normalizer<4,>=2 in /usr/local/lib/python3.10/dist-packages (from requests<3,>=2.0.0->wandb) (3.3.2)\n",
            "Requirement already satisfied: idna<4,>=2.5 in /usr/local/lib/python3.10/dist-packages (from requests<3,>=2.0.0->wandb) (3.6)\n",
            "Requirement already satisfied: urllib3<3,>=1.21.1 in /usr/local/lib/python3.10/dist-packages (from requests<3,>=2.0.0->wandb) (2.0.7)\n",
            "Requirement already satisfied: certifi>=2017.4.17 in /usr/local/lib/python3.10/dist-packages (from requests<3,>=2.0.0->wandb) (2024.2.2)\n",
            "Collecting smmap<6,>=3.0.1 (from gitdb<5,>=4.0.1->GitPython!=3.1.29,>=1.0.0->wandb)\n",
            "  Downloading smmap-5.0.1-py3-none-any.whl (24 kB)\n",
            "Installing collected packages: smmap, setproctitle, sentry-sdk, docker-pycreds, gitdb, GitPython, wandb\n",
            "Successfully installed GitPython-3.1.42 docker-pycreds-0.4.0 gitdb-4.0.11 sentry-sdk-1.43.0 setproctitle-1.3.3 smmap-5.0.1 wandb-0.16.4\n"
          ]
        },
        {
          "output_type": "display_data",
          "data": {
            "text/plain": [
              "<IPython.core.display.Javascript object>"
            ],
            "application/javascript": [
              "\n",
              "        window._wandbApiKey = new Promise((resolve, reject) => {\n",
              "            function loadScript(url) {\n",
              "            return new Promise(function(resolve, reject) {\n",
              "                let newScript = document.createElement(\"script\");\n",
              "                newScript.onerror = reject;\n",
              "                newScript.onload = resolve;\n",
              "                document.body.appendChild(newScript);\n",
              "                newScript.src = url;\n",
              "            });\n",
              "            }\n",
              "            loadScript(\"https://cdn.jsdelivr.net/npm/postmate/build/postmate.min.js\").then(() => {\n",
              "            const iframe = document.createElement('iframe')\n",
              "            iframe.style.cssText = \"width:0;height:0;border:none\"\n",
              "            document.body.appendChild(iframe)\n",
              "            const handshake = new Postmate({\n",
              "                container: iframe,\n",
              "                url: 'https://wandb.ai/authorize'\n",
              "            });\n",
              "            const timeout = setTimeout(() => reject(\"Couldn't auto authenticate\"), 5000)\n",
              "            handshake.then(function(child) {\n",
              "                child.on('authorize', data => {\n",
              "                    clearTimeout(timeout)\n",
              "                    resolve(data)\n",
              "                });\n",
              "            });\n",
              "            })\n",
              "        });\n",
              "    "
            ]
          },
          "metadata": {}
        },
        {
          "output_type": "stream",
          "name": "stderr",
          "text": [
            "\u001b[34m\u001b[1mwandb\u001b[0m: Appending key for api.wandb.ai to your netrc file: /root/.netrc\n",
            "\u001b[34m\u001b[1mwandb\u001b[0m: Currently logged in as: \u001b[33mcs23m035\u001b[0m. Use \u001b[1m`wandb login --relogin`\u001b[0m to force relogin\n"
          ]
        },
        {
          "output_type": "display_data",
          "data": {
            "text/plain": [
              "<IPython.core.display.HTML object>"
            ],
            "text/html": [
              "Tracking run with wandb version 0.16.4"
            ]
          },
          "metadata": {}
        },
        {
          "output_type": "display_data",
          "data": {
            "text/plain": [
              "<IPython.core.display.HTML object>"
            ],
            "text/html": [
              "Run data is saved locally in <code>/content/wandb/run-20240321_083012-soan0ub8</code>"
            ]
          },
          "metadata": {}
        },
        {
          "output_type": "display_data",
          "data": {
            "text/plain": [
              "<IPython.core.display.HTML object>"
            ],
            "text/html": [
              "Syncing run <strong><a href='https://wandb.ai/cs23m035/cs23m035_DL_Assignment1/runs/soan0ub8' target=\"_blank\">icy-dragon-247</a></strong> to <a href='https://wandb.ai/cs23m035/cs23m035_DL_Assignment1' target=\"_blank\">Weights & Biases</a> (<a href='https://wandb.me/run' target=\"_blank\">docs</a>)<br/>"
            ]
          },
          "metadata": {}
        },
        {
          "output_type": "display_data",
          "data": {
            "text/plain": [
              "<IPython.core.display.HTML object>"
            ],
            "text/html": [
              " View project at <a href='https://wandb.ai/cs23m035/cs23m035_DL_Assignment1' target=\"_blank\">https://wandb.ai/cs23m035/cs23m035_DL_Assignment1</a>"
            ]
          },
          "metadata": {}
        },
        {
          "output_type": "display_data",
          "data": {
            "text/plain": [
              "<IPython.core.display.HTML object>"
            ],
            "text/html": [
              " View run at <a href='https://wandb.ai/cs23m035/cs23m035_DL_Assignment1/runs/soan0ub8' target=\"_blank\">https://wandb.ai/cs23m035/cs23m035_DL_Assignment1/runs/soan0ub8</a>"
            ]
          },
          "metadata": {}
        },
        {
          "output_type": "execute_result",
          "data": {
            "text/html": [
              "<button onClick=\"this.nextSibling.style.display='block';this.style.display='none';\">Display W&B run</button><iframe src='https://wandb.ai/cs23m035/cs23m035_DL_Assignment1/runs/soan0ub8?jupyter=true' style='border:none;width:100%;height:420px;display:none;'></iframe>"
            ],
            "text/plain": [
              "<wandb.sdk.wandb_run.Run at 0x79a96c5e24a0>"
            ]
          },
          "metadata": {},
          "execution_count": 9
        }
      ]
    },
    {
      "cell_type": "markdown",
      "source": [
        "### confusion matrix"
      ],
      "metadata": {
        "id": "jeieQhhKUmHT"
      }
    },
    {
      "cell_type": "code",
      "source": [
        "def confusion_Matrix(epochs, layers, neurons, learningRate, optimizer, batchSize, activationFun, weightInit,weightDecay,loss_Fun):\n",
        "  predicted=[]\n",
        "  original=[]\n",
        "  W,B=rms_prop(epochs,layers,neurons,learningRate,activationFun,batchSize,weightInit,weightDecay,loss_Fun)\n",
        "  acc,loss=accuracy_confusion(W,B,x_train_images,y_train_labels,activationFun,layers,loss_Fun,predicted,original)\n",
        "  confusion=confusion_matrix(original,predicted)\n",
        "  plt.figure(figsize=(10,10))\n",
        "  sn.heatmap(confusion, annot=True, fmt='d',cmap='Oranges',linewidths=2,cbar=True,linecolor='black',\n",
        "          xticklabels=['0','1','2','3','4','5','6','7','8','9'], yticklabels=['0','1','2','3','4','5','6','7','8','9'])\n",
        "  plt.xlabel(\"PREDICTED\")\n",
        "  plt.ylabel(\"ORIGINAL\")\n",
        "  plt.title('confusion matrix')\n",
        "  plt.show()"
      ],
      "metadata": {
        "id": "xt3SAruUUWTE"
      },
      "execution_count": 5,
      "outputs": []
    },
    {
      "cell_type": "markdown",
      "source": [
        "### conncet to wandb"
      ],
      "metadata": {
        "id": "MKMnVpa_kpLf"
      }
    },
    {
      "cell_type": "code",
      "source": [
        "def main_function(epochs, layers, neurons, learningRate, optimizer, batchSize, activationFun, weightInit,weightDecay,loss_Fun):\n",
        "    if optimizer == \"SGD\":\n",
        "        accuracy=stochastic_gradient_descent(epochs, learningRate, layers, neurons, activationFun, weightInit,weightDecay,loss_Fun)\n",
        "    elif optimizer == \"MGD\":\n",
        "        accuracy=momentum_gradient_descent(epochs, learningRate, layers, neurons, activationFun, batchSize, weightInit,weightDecay,loss_Fun)\n",
        "    elif optimizer == \"NAGD\":\n",
        "        accuracy=nesterov_accelerated_gradient_descent(epochs, layers, neurons, learningRate, activationFun, batchSize, weightInit,weightDecay,loss_Fun)\n",
        "    elif optimizer == \"RMSPROP\":\n",
        "        accuracy=rms_prop(epochs, layers, neurons, learningRate, activationFun, batchSize, weightInit,weightDecay,loss_Fun)\n",
        "    elif optimizer == \"ADAM\":\n",
        "        accuracy=adam(epochs, learningRate, activationFun, layers, neurons, batchSize, weightInit,weightDecay,loss_Fun)\n",
        "    elif optimizer == \"NADAM\":\n",
        "        accuracy=nadam(learningRate, layers, neurons, epochs, activationFun, batchSize, weightInit,weightDecay,loss_Fun)\n",
        "\n",
        "def main_fun():\n",
        "    wandb.init(project='cs23m035_DL_Assignment1')\n",
        "    params = wandb.config\n",
        "    with wandb.init(project='cs23m035_DL_Assignment1', name='optimizer_func_'+params.optimizer+'_weight_initial_'+params.weightInit+'_activation_func_'+params.activationFun) as run:\n",
        "        main_function(params.maxIterations,\n",
        "                      params.layers,\n",
        "                      params.neurons,\n",
        "                      params.learningRate,\n",
        "                      params.optimizer,\n",
        "                      params.batchSize,\n",
        "                      params.activationFun,\n",
        "                      params.weightInit,\n",
        "                      params.weightDecay,\n",
        "                      params.loss_Fun)\n",
        "\n",
        "sweep_params = {\n",
        "    'method': 'bayes',\n",
        "    'name': 'Accuracy',\n",
        "    'metric': {\n",
        "        'goal': 'maximize',\n",
        "        'name': 'Validation_acc',\n",
        "    },\n",
        "    'parameters': {\n",
        "        'maxIterations': {'values': [5,10]},\n",
        "        'layers': {'values': [3,4,5]},\n",
        "        'neurons': {'values': [32, 64,128]},\n",
        "        'learningRate': {'values': [1e-3,1e-4]},\n",
        "        'optimizer': {'values': ['SGD', 'MGD', 'NAGD', 'RMSPROP', 'ADAM', 'NADAM']},\n",
        "        'batchSize': {'values': [16, 32, 64]},\n",
        "        'activationFun': {'values': ['tanh','sigmoid','relu']},\n",
        "        'weightInit': {'values': ['random', 'xavier']},\n",
        "        'weightDecay': {'values': [0,0.0005,0.5]},\n",
        "        'loss_Fun':{'values':['crossEntropy','MSE']}\n",
        "\n",
        "    }\n",
        "}\n",
        "\n",
        "sweepId = wandb.sweep(sweep_params, project='cs23m035_DL_Assignment1')\n",
        "wandb.agent(sweepId, function=main_fun)\n"
      ],
      "metadata": {
        "id": "u4klfrAsNxL8"
      },
      "execution_count": null,
      "outputs": []
    }
  ]
}